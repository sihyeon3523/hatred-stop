{
 "cells": [
  {
   "cell_type": "code",
   "execution_count": 1,
   "metadata": {
    "colab": {
     "base_uri": "https://localhost:8080/",
     "height": 34
    },
    "id": "vDohkPU33SJO",
    "outputId": "3a6bbc9b-cd50-4056-af3c-bde1cc988b6d"
   },
   "outputs": [
    {
     "data": {
      "text/plain": [
       "'2.5.0'"
      ]
     },
     "execution_count": 1,
     "metadata": {},
     "output_type": "execute_result"
    }
   ],
   "source": [
    "import tensorflow as tf\n",
    "tf.__version__"
   ]
  },
  {
   "cell_type": "code",
   "execution_count": 2,
   "metadata": {
    "colab": {
     "base_uri": "https://localhost:8080/"
    },
    "id": "c7QL7XFIkirk",
    "outputId": "7eff7eee-c085-4ea8-a8cd-fb25c596cbd8"
   },
   "outputs": [
    {
     "name": "stdout",
     "output_type": "stream",
     "text": [
      "0.5.2\n",
      "1.1.1\n",
      "2.5.0\n"
     ]
    }
   ],
   "source": [
    "import konlpy\n",
    "import sklearn\n",
    "import tensorflow\n",
    "\n",
    "print(konlpy.__version__) # 0.5.2\n",
    "print(sklearn.__version__) # 1.0.2\n",
    "print(tensorflow.__version__) # 2.8.0"
   ]
  },
  {
   "cell_type": "markdown",
   "metadata": {
    "id": "4iJSJcbJeyYy"
   },
   "source": [
    "# 1. 데이터 수집 & 전처리"
   ]
  },
  {
   "cell_type": "code",
   "execution_count": 3,
   "metadata": {
    "id": "NbRPURtckS0U"
   },
   "outputs": [],
   "source": [
    "import pandas as pd\n",
    "import urllib.request\n",
    "import matplotlib.pyplot as plt\n",
    "import re\n",
    "from konlpy.tag import Okt\n",
    "from tqdm import tqdm\n",
    "from tensorflow.keras.preprocessing.text import Tokenizer\n",
    "import numpy as np\n",
    "from tensorflow.keras.preprocessing.sequence import pad_sequences"
   ]
  },
  {
   "cell_type": "code",
   "execution_count": null,
   "metadata": {
    "colab": {
     "base_uri": "https://localhost:8080/"
    },
    "id": "WAL6cIYwkNqm",
    "outputId": "bd6208ac-6192-4971-80f0-2d93e58b8d67"
   },
   "outputs": [],
   "source": []
  },
  {
   "cell_type": "code",
   "execution_count": 4,
   "metadata": {
    "id": "xUU91wXtkOpr"
   },
   "outputs": [],
   "source": [
    "train_data = pd.read_csv(\"./data/unsmile_train_new.csv\")\n",
    "test_data = pd.read_csv(\"./data/unsmile_valid_new.csv\")"
   ]
  },
  {
   "cell_type": "code",
   "execution_count": 5,
   "metadata": {
    "colab": {
     "base_uri": "https://localhost:8080/"
    },
    "id": "hv2WLeglkV0T",
    "outputId": "211fff6d-c63e-426c-f2ad-e5fe193ab527"
   },
   "outputs": [
    {
     "name": "stdout",
     "output_type": "stream",
     "text": [
      "훈련 샘플의 개수 : 22532\n",
      "테스트 샘플의 개수 : 5604\n"
     ]
    }
   ],
   "source": [
    "print('훈련 샘플의 개수 :',len(train_data)) # 훈련용 리뷰 개수 출력\n",
    "print('테스트 샘플의 개수 :',len(test_data)) # 테스트용 리뷰 개수 출력"
   ]
  },
  {
   "cell_type": "code",
   "execution_count": 6,
   "metadata": {},
   "outputs": [],
   "source": [
    "train_data.rename(columns={'문장':'sentence'}, inplace=True)\n",
    "test_data.rename(columns={'문장':'sentence'}, inplace=True)"
   ]
  },
  {
   "cell_type": "code",
   "execution_count": 7,
   "metadata": {
    "colab": {
     "base_uri": "https://localhost:8080/",
     "height": 203
    },
    "id": "a3qpECZ5nFX8",
    "outputId": "b9a223a1-b53b-416c-a0a5-b30678aee518"
   },
   "outputs": [
    {
     "data": {
      "text/html": [
       "<div>\n",
       "<style scoped>\n",
       "    .dataframe tbody tr th:only-of-type {\n",
       "        vertical-align: middle;\n",
       "    }\n",
       "\n",
       "    .dataframe tbody tr th {\n",
       "        vertical-align: top;\n",
       "    }\n",
       "\n",
       "    .dataframe thead th {\n",
       "        text-align: right;\n",
       "    }\n",
       "</style>\n",
       "<table border=\"1\" class=\"dataframe\">\n",
       "  <thead>\n",
       "    <tr style=\"text-align: right;\">\n",
       "      <th></th>\n",
       "      <th>sentence</th>\n",
       "      <th>target</th>\n",
       "    </tr>\n",
       "  </thead>\n",
       "  <tbody>\n",
       "    <tr>\n",
       "      <th>0</th>\n",
       "      <td>일안하는 시간은 쉬고싶어서 그런게 아닐까</td>\n",
       "      <td>0</td>\n",
       "    </tr>\n",
       "    <tr>\n",
       "      <th>1</th>\n",
       "      <td>아동성범죄와 페도버는 기록바 끊어져 영원히 고통 받는다. 무슬림 50퍼 근친이다. ...</td>\n",
       "      <td>1</td>\n",
       "    </tr>\n",
       "    <tr>\n",
       "      <th>2</th>\n",
       "      <td>루나 솔로앨범 나왔을 때부터 머모 기운 있었음 ㅇㅇ Keep o  doin 진짜 띵...</td>\n",
       "      <td>0</td>\n",
       "    </tr>\n",
       "    <tr>\n",
       "      <th>3</th>\n",
       "      <td>홍팍에도 어버이연합인가 보내요 뭐 이런뎃글 있는데 이거 어버이연합측에 신고하면 그쪽...</td>\n",
       "      <td>0</td>\n",
       "    </tr>\n",
       "    <tr>\n",
       "      <th>4</th>\n",
       "      <td>아놔 왜 여기 댓들은 다 여자들이 김치녀라고 먼저 불렸다! 여자들은 더 심하게 그런...</td>\n",
       "      <td>1</td>\n",
       "    </tr>\n",
       "  </tbody>\n",
       "</table>\n",
       "</div>"
      ],
      "text/plain": [
       "                                            sentence  target\n",
       "0                             일안하는 시간은 쉬고싶어서 그런게 아닐까       0\n",
       "1  아동성범죄와 페도버는 기록바 끊어져 영원히 고통 받는다. 무슬림 50퍼 근친이다. ...       1\n",
       "2  루나 솔로앨범 나왔을 때부터 머모 기운 있었음 ㅇㅇ Keep o  doin 진짜 띵...       0\n",
       "3  홍팍에도 어버이연합인가 보내요 뭐 이런뎃글 있는데 이거 어버이연합측에 신고하면 그쪽...       0\n",
       "4  아놔 왜 여기 댓들은 다 여자들이 김치녀라고 먼저 불렸다! 여자들은 더 심하게 그런...       1"
      ]
     },
     "execution_count": 7,
     "metadata": {},
     "output_type": "execute_result"
    }
   ],
   "source": [
    "train_data[:5] # 상위 5개 출력"
   ]
  },
  {
   "cell_type": "code",
   "execution_count": 8,
   "metadata": {
    "colab": {
     "base_uri": "https://localhost:8080/"
    },
    "id": "lLx7QYcCnGkz",
    "outputId": "77d6e994-9835-40e2-ec74-55b783984039"
   },
   "outputs": [
    {
     "data": {
      "text/plain": [
       "(22504, 2)"
      ]
     },
     "execution_count": 8,
     "metadata": {},
     "output_type": "execute_result"
    }
   ],
   "source": [
    "train_data['sentence'].nunique(), train_data['target'].nunique()"
   ]
  },
  {
   "cell_type": "code",
   "execution_count": 9,
   "metadata": {
    "id": "zLIrjosmnMUD"
   },
   "outputs": [],
   "source": [
    "train_data.drop_duplicates(subset=['sentence'], inplace=True) # document 열에서 중복인 내용이 있다면 중복 제거"
   ]
  },
  {
   "cell_type": "code",
   "execution_count": 10,
   "metadata": {
    "colab": {
     "base_uri": "https://localhost:8080/"
    },
    "id": "yKGG3kAOnUEL",
    "outputId": "695c34ed-3cf5-42b0-b0eb-f852252ebb77"
   },
   "outputs": [
    {
     "name": "stdout",
     "output_type": "stream",
     "text": [
      "총 샘플의 수 : 22504\n"
     ]
    }
   ],
   "source": [
    "print('총 샘플의 수 :',len(train_data))"
   ]
  },
  {
   "cell_type": "code",
   "execution_count": 11,
   "metadata": {
    "colab": {
     "base_uri": "https://localhost:8080/",
     "height": 280
    },
    "id": "UjB5MxojnX5L",
    "outputId": "98b37ac4-4680-4cf6-a40e-49be1dce853a"
   },
   "outputs": [
    {
     "data": {
      "text/plain": [
       "<AxesSubplot:>"
      ]
     },
     "execution_count": 11,
     "metadata": {},
     "output_type": "execute_result"
    },
    {
     "data": {
      "image/png": "[encoded data removed]",
      "text/plain": [
       "<Figure size 432x288 with 1 Axes>"
      ]
     },
     "metadata": {
      "needs_background": "light"
     },
     "output_type": "display_data"
    }
   ],
   "source": [
    "train_data['target'].value_counts().plot(kind = 'bar')"
   ]
  },
  {
   "cell_type": "code",
   "execution_count": 12,
   "metadata": {
    "colab": {
     "base_uri": "https://localhost:8080/"
    },
    "id": "14xix8ghnagT",
    "outputId": "1b408aba-4905-43ac-b9a3-25080753def0"
   },
   "outputs": [
    {
     "name": "stdout",
     "output_type": "stream",
     "text": [
      "   target  count\n",
      "0       0  11238\n",
      "1       1  11266\n"
     ]
    }
   ],
   "source": [
    "print(train_data.groupby('target').size().reset_index(name = 'count'))"
   ]
  },
  {
   "cell_type": "code",
   "execution_count": 13,
   "metadata": {
    "colab": {
     "base_uri": "https://localhost:8080/"
    },
    "id": "_8yXVmIRnbtb",
    "outputId": "fb714889-78eb-4387-9662-3e00aadd4a04"
   },
   "outputs": [
    {
     "name": "stdout",
     "output_type": "stream",
     "text": [
      "False\n"
     ]
    }
   ],
   "source": [
    "print(train_data.isnull().values.any())"
   ]
  },
  {
   "cell_type": "code",
   "execution_count": 14,
   "metadata": {
    "colab": {
     "base_uri": "https://localhost:8080/"
    },
    "id": "PwGZReKineYD",
    "outputId": "8b39c5dd-cc95-4676-9763-25d4702aa54d"
   },
   "outputs": [
    {
     "name": "stdout",
     "output_type": "stream",
     "text": [
      "sentence    0\n",
      "target      0\n",
      "dtype: int64\n"
     ]
    }
   ],
   "source": [
    "print(train_data.isnull().sum())"
   ]
  },
  {
   "cell_type": "code",
   "execution_count": 15,
   "metadata": {
    "colab": {
     "base_uri": "https://localhost:8080/",
     "height": 80
    },
    "id": "qzavofy6nfbT",
    "outputId": "4d5f5b77-1b47-49b9-ed5b-ed8d1185de0f"
   },
   "outputs": [
    {
     "data": {
      "text/html": [
       "<div>\n",
       "<style scoped>\n",
       "    .dataframe tbody tr th:only-of-type {\n",
       "        vertical-align: middle;\n",
       "    }\n",
       "\n",
       "    .dataframe tbody tr th {\n",
       "        vertical-align: top;\n",
       "    }\n",
       "\n",
       "    .dataframe thead th {\n",
       "        text-align: right;\n",
       "    }\n",
       "</style>\n",
       "<table border=\"1\" class=\"dataframe\">\n",
       "  <thead>\n",
       "    <tr style=\"text-align: right;\">\n",
       "      <th></th>\n",
       "      <th>sentence</th>\n",
       "      <th>target</th>\n",
       "    </tr>\n",
       "  </thead>\n",
       "  <tbody>\n",
       "  </tbody>\n",
       "</table>\n",
       "</div>"
      ],
      "text/plain": [
       "Empty DataFrame\n",
       "Columns: [sentence, target]\n",
       "Index: []"
      ]
     },
     "execution_count": 15,
     "metadata": {},
     "output_type": "execute_result"
    }
   ],
   "source": [
    "train_data.loc[train_data.sentence.isnull()]"
   ]
  },
  {
   "cell_type": "code",
   "execution_count": 16,
   "metadata": {
    "colab": {
     "base_uri": "https://localhost:8080/"
    },
    "id": "GuRqUGURnhZj",
    "outputId": "63455899-850e-4575-90c4-af83d4ad1ea6"
   },
   "outputs": [
    {
     "name": "stdout",
     "output_type": "stream",
     "text": [
      "False\n"
     ]
    }
   ],
   "source": [
    "train_data = train_data.dropna(how = 'any') # Null 값이 존재하는 행 제거\n",
    "print(train_data.isnull().values.any()) # Null 값이 존재하는지 확인"
   ]
  },
  {
   "cell_type": "code",
   "execution_count": 17,
   "metadata": {
    "colab": {
     "base_uri": "https://localhost:8080/"
    },
    "id": "MQmWzwSqnlG7",
    "outputId": "7cdb4e36-3298-4a05-ee9a-f504ca97a152"
   },
   "outputs": [
    {
     "name": "stdout",
     "output_type": "stream",
     "text": [
      "22504\n"
     ]
    }
   ],
   "source": [
    "print(len(train_data))"
   ]
  },
  {
   "cell_type": "code",
   "execution_count": 18,
   "metadata": {
    "colab": {
     "base_uri": "https://localhost:8080/",
     "height": 203
    },
    "id": "yP6uj9BxnmNj",
    "outputId": "ddc3d9fc-3cb7-43a4-c7d2-8169b4a32c43"
   },
   "outputs": [
    {
     "name": "stderr",
     "output_type": "stream",
     "text": [
      "<ipython-input-18-f2430c7e0838>:1: FutureWarning: The default value of regex will change from True to False in a future version.\n",
      "  train_data['sentence'] = train_data['sentence'].str.replace(\"[^ㄱ-ㅎㅏ-ㅣ가-힣 ]\",\"\")\n"
     ]
    },
    {
     "data": {
      "text/html": [
       "<div>\n",
       "<style scoped>\n",
       "    .dataframe tbody tr th:only-of-type {\n",
       "        vertical-align: middle;\n",
       "    }\n",
       "\n",
       "    .dataframe tbody tr th {\n",
       "        vertical-align: top;\n",
       "    }\n",
       "\n",
       "    .dataframe thead th {\n",
       "        text-align: right;\n",
       "    }\n",
       "</style>\n",
       "<table border=\"1\" class=\"dataframe\">\n",
       "  <thead>\n",
       "    <tr style=\"text-align: right;\">\n",
       "      <th></th>\n",
       "      <th>sentence</th>\n",
       "      <th>target</th>\n",
       "    </tr>\n",
       "  </thead>\n",
       "  <tbody>\n",
       "    <tr>\n",
       "      <th>0</th>\n",
       "      <td>일안하는 시간은 쉬고싶어서 그런게 아닐까</td>\n",
       "      <td>0</td>\n",
       "    </tr>\n",
       "    <tr>\n",
       "      <th>1</th>\n",
       "      <td>아동성범죄와 페도버는 기록바 끊어져 영원히 고통 받는다 무슬림 퍼 근친이다  까지 ...</td>\n",
       "      <td>1</td>\n",
       "    </tr>\n",
       "    <tr>\n",
       "      <th>2</th>\n",
       "      <td>루나 솔로앨범 나왔을 때부터 머모 기운 있었음 ㅇㅇ     진짜 띵곡임 꼭 들어보셈</td>\n",
       "      <td>0</td>\n",
       "    </tr>\n",
       "    <tr>\n",
       "      <th>3</th>\n",
       "      <td>홍팍에도 어버이연합인가 보내요 뭐 이런뎃글 있는데 이거 어버이연합측에 신고하면 그쪽...</td>\n",
       "      <td>0</td>\n",
       "    </tr>\n",
       "    <tr>\n",
       "      <th>4</th>\n",
       "      <td>아놔 왜 여기 댓들은 다 여자들이 김치녀라고 먼저 불렸다 여자들은 더 심하게 그런다...</td>\n",
       "      <td>1</td>\n",
       "    </tr>\n",
       "  </tbody>\n",
       "</table>\n",
       "</div>"
      ],
      "text/plain": [
       "                                            sentence  target\n",
       "0                             일안하는 시간은 쉬고싶어서 그런게 아닐까       0\n",
       "1  아동성범죄와 페도버는 기록바 끊어져 영원히 고통 받는다 무슬림 퍼 근친이다  까지 ...       1\n",
       "2     루나 솔로앨범 나왔을 때부터 머모 기운 있었음 ㅇㅇ     진짜 띵곡임 꼭 들어보셈       0\n",
       "3  홍팍에도 어버이연합인가 보내요 뭐 이런뎃글 있는데 이거 어버이연합측에 신고하면 그쪽...       0\n",
       "4  아놔 왜 여기 댓들은 다 여자들이 김치녀라고 먼저 불렸다 여자들은 더 심하게 그런다...       1"
      ]
     },
     "execution_count": 18,
     "metadata": {},
     "output_type": "execute_result"
    }
   ],
   "source": [
    "train_data['sentence'] = train_data['sentence'].str.replace(\"[^ㄱ-ㅎㅏ-ㅣ가-힣 ]\",\"\")\n",
    "# 한글과 공백을 제외하고 모두 제거\n",
    "train_data[:5]"
   ]
  },
  {
   "cell_type": "code",
   "execution_count": 19,
   "metadata": {
    "colab": {
     "base_uri": "https://localhost:8080/"
    },
    "id": "W1VTEzepnrDL",
    "outputId": "01b3ec27-614c-43d8-d11c-76d667591b99"
   },
   "outputs": [
    {
     "name": "stdout",
     "output_type": "stream",
     "text": [
      "sentence    25\n",
      "target       0\n",
      "dtype: int64\n"
     ]
    },
    {
     "name": "stderr",
     "output_type": "stream",
     "text": [
      "<ipython-input-19-bc5c82268599>:1: FutureWarning: The default value of regex will change from True to False in a future version.\n",
      "  train_data['sentence'] = train_data['sentence'].str.replace('^ +', \"\") # white space 데이터를 empty value로 변경\n"
     ]
    }
   ],
   "source": [
    "train_data['sentence'] = train_data['sentence'].str.replace('^ +', \"\") # white space 데이터를 empty value로 변경\n",
    "train_data['sentence'].replace('', np.nan, inplace=True)\n",
    "print(train_data.isnull().sum())"
   ]
  },
  {
   "cell_type": "code",
   "execution_count": 20,
   "metadata": {
    "colab": {
     "base_uri": "https://localhost:8080/",
     "height": 203
    },
    "id": "JQqu-K7ooQsU",
    "outputId": "39620541-03a8-467a-98a8-382f37093c57"
   },
   "outputs": [
    {
     "data": {
      "text/html": [
       "<div>\n",
       "<style scoped>\n",
       "    .dataframe tbody tr th:only-of-type {\n",
       "        vertical-align: middle;\n",
       "    }\n",
       "\n",
       "    .dataframe tbody tr th {\n",
       "        vertical-align: top;\n",
       "    }\n",
       "\n",
       "    .dataframe thead th {\n",
       "        text-align: right;\n",
       "    }\n",
       "</style>\n",
       "<table border=\"1\" class=\"dataframe\">\n",
       "  <thead>\n",
       "    <tr style=\"text-align: right;\">\n",
       "      <th></th>\n",
       "      <th>sentence</th>\n",
       "      <th>target</th>\n",
       "    </tr>\n",
       "  </thead>\n",
       "  <tbody>\n",
       "    <tr>\n",
       "      <th>572</th>\n",
       "      <td>NaN</td>\n",
       "      <td>0</td>\n",
       "    </tr>\n",
       "    <tr>\n",
       "      <th>1054</th>\n",
       "      <td>NaN</td>\n",
       "      <td>0</td>\n",
       "    </tr>\n",
       "    <tr>\n",
       "      <th>1469</th>\n",
       "      <td>NaN</td>\n",
       "      <td>1</td>\n",
       "    </tr>\n",
       "    <tr>\n",
       "      <th>1646</th>\n",
       "      <td>NaN</td>\n",
       "      <td>1</td>\n",
       "    </tr>\n",
       "    <tr>\n",
       "      <th>1996</th>\n",
       "      <td>NaN</td>\n",
       "      <td>0</td>\n",
       "    </tr>\n",
       "  </tbody>\n",
       "</table>\n",
       "</div>"
      ],
      "text/plain": [
       "     sentence  target\n",
       "572       NaN       0\n",
       "1054      NaN       0\n",
       "1469      NaN       1\n",
       "1646      NaN       1\n",
       "1996      NaN       0"
      ]
     },
     "execution_count": 20,
     "metadata": {},
     "output_type": "execute_result"
    }
   ],
   "source": [
    "train_data.loc[train_data.sentence.isnull()][:5]"
   ]
  },
  {
   "cell_type": "code",
   "execution_count": 21,
   "metadata": {
    "id": "2PjMgBhuoNKe"
   },
   "outputs": [],
   "source": [
    "train_data = train_data.dropna(how = 'any')"
   ]
  },
  {
   "cell_type": "code",
   "execution_count": 22,
   "metadata": {
    "colab": {
     "base_uri": "https://localhost:8080/"
    },
    "id": "tYFtD15Zn_Di",
    "outputId": "741fe61c-8363-487a-f481-8473caf0779a"
   },
   "outputs": [
    {
     "name": "stdout",
     "output_type": "stream",
     "text": [
      "22479\n"
     ]
    }
   ],
   "source": [
    "print(len(train_data))"
   ]
  },
  {
   "cell_type": "code",
   "execution_count": 23,
   "metadata": {
    "colab": {
     "base_uri": "https://localhost:8080/"
    },
    "id": "al5ilRRDodDy",
    "outputId": "e87497cd-336b-44f3-e45d-3eaaa5613637"
   },
   "outputs": [
    {
     "name": "stdout",
     "output_type": "stream",
     "text": [
      "전처리 후 테스트용 샘플의 개수 : 5592\n"
     ]
    },
    {
     "name": "stderr",
     "output_type": "stream",
     "text": [
      "<ipython-input-23-37159e8dcb43>:2: FutureWarning: The default value of regex will change from True to False in a future version.\n",
      "  test_data['sentence'] = test_data['sentence'].str.replace(\"[^ㄱ-ㅎㅏ-ㅣ가-힣 ]\",\"\") # 정규 표현식 수행\n",
      "<ipython-input-23-37159e8dcb43>:3: FutureWarning: The default value of regex will change from True to False in a future version.\n",
      "  test_data['sentence'] = test_data['sentence'].str.replace('^ +', \"\") # 공백은 empty 값으로 변경\n"
     ]
    }
   ],
   "source": [
    "test_data.drop_duplicates(subset = ['sentence'], inplace=True) # document 열에서 중복인 내용이 있다면 중복 제거\n",
    "test_data['sentence'] = test_data['sentence'].str.replace(\"[^ㄱ-ㅎㅏ-ㅣ가-힣 ]\",\"\") # 정규 표현식 수행\n",
    "test_data['sentence'] = test_data['sentence'].str.replace('^ +', \"\") # 공백은 empty 값으로 변경\n",
    "test_data['sentence'].replace('', np.nan, inplace=True) # 공백은 Null 값으로 변경\n",
    "test_data = test_data.dropna(how='any') # Null 값 제거\n",
    "print('전처리 후 테스트용 샘플의 개수 :',len(test_data))"
   ]
  },
  {
   "cell_type": "code",
   "execution_count": 24,
   "metadata": {
    "colab": {
     "base_uri": "https://localhost:8080/"
    },
    "id": "g8fnrhryopII",
    "outputId": "06bfcf42-cea7-4c7c-d180-12021d27ba42"
   },
   "outputs": [
    {
     "name": "stdout",
     "output_type": "stream",
     "text": [
      "전처리 후 테스트용 샘플의 개수 : 5592\n"
     ]
    }
   ],
   "source": [
    "print('전처리 후 테스트용 샘플의 개수 :',len(test_data))"
   ]
  },
  {
   "cell_type": "code",
   "execution_count": 25,
   "metadata": {
    "id": "UPPf9sPjoBq7"
   },
   "outputs": [],
   "source": [
    "stopwords = ['의','가','이','은','들','는','좀','잘','걍','과','도','를','으로','자','에','와','한','하다']"
   ]
  },
  {
   "cell_type": "code",
   "execution_count": 26,
   "metadata": {
    "id": "fjfQaubRofR-"
   },
   "outputs": [],
   "source": [
    "okt = Okt()"
   ]
  },
  {
   "cell_type": "code",
   "execution_count": 28,
   "metadata": {},
   "outputs": [],
   "source": [
    "from tokenizer.char import CharTokenizer\n",
    "tokenizerc = CharTokenizer()"
   ]
  },
  {
   "cell_type": "code",
   "execution_count": 29,
   "metadata": {
    "colab": {
     "base_uri": "https://localhost:8080/"
    },
    "id": "dcsq7xc4obAj",
    "outputId": "fc20ef28-6577-4c29-a645-9db155d83064"
   },
   "outputs": [
    {
     "name": "stderr",
     "output_type": "stream",
     "text": [
      "100%|█████████████████████████████████████████████████████████████████████████| 22479/22479 [00:00<00:00, 27713.56it/s]\n"
     ]
    }
   ],
   "source": [
    "X_train = []\n",
    "for sentence in tqdm(train_data['sentence']):\n",
    "    tokenized_sentence = tokenizerc.tokenize(sentence) # 토큰화\n",
    "    X_train.append(tokenized_sentence)"
   ]
  },
  {
   "cell_type": "code",
   "execution_count": 30,
   "metadata": {
    "colab": {
     "base_uri": "https://localhost:8080/"
    },
    "id": "S-QH3hiAomYB",
    "outputId": "de32cace-4178-467e-ef52-b708992ecab0"
   },
   "outputs": [
    {
     "name": "stderr",
     "output_type": "stream",
     "text": [
      "100%|███████████████████████████████████████████████████████████████████████████| 5592/5592 [00:00<00:00, 19348.19it/s]\n"
     ]
    }
   ],
   "source": [
    "X_test = []\n",
    "for sentence in tqdm(test_data['sentence']):\n",
    "    tokenized_sentence = tokenizerc.tokenize(sentence) # 토큰화\n",
    "    X_test.append(tokenized_sentence)"
   ]
  },
  {
   "cell_type": "code",
   "execution_count": 31,
   "metadata": {
    "colab": {
     "base_uri": "https://localhost:8080/"
    },
    "id": "AzPvb8HLpiQv",
    "outputId": "b92f8c17-1072-4cbb-fec8-0706024b9519"
   },
   "outputs": [
    {
     "name": "stdout",
     "output_type": "stream",
     "text": [
      "전처리 후 테스트용 샘플의 개수 : 5592\n"
     ]
    }
   ],
   "source": [
    "print('전처리 후 테스트용 샘플의 개수 :',len(X_test))"
   ]
  },
  {
   "cell_type": "code",
   "execution_count": 32,
   "metadata": {
    "id": "vT71wLflpRVy"
   },
   "outputs": [],
   "source": [
    "tokenizer = Tokenizer()\n",
    "tokenizer.fit_on_texts(X_train)"
   ]
  },
  {
   "cell_type": "code",
   "execution_count": 33,
   "metadata": {
    "colab": {
     "base_uri": "https://localhost:8080/"
    },
    "id": "hPfo_5xcqJcB",
    "outputId": "61e08bbf-b07d-4ed7-f487-500031288e28"
   },
   "outputs": [
    {
     "name": "stdout",
     "output_type": "stream",
     "text": [
      "{'▁': 1, '이': 2, 'ㅋ': 3, '다': 4, '는': 5, '고': 6, '하': 7, '지': 8, '들': 9, '가': 10, '도': 11, '아': 12, '나': 13, '라': 14, '한': 15, '에': 16, '니': 17, '자': 18, '기': 19, '서': 20, '어': 21, '은': 22, '사': 23, '리': 24, '게': 25, '로': 26, '인': 27, '면': 28, '거': 29, '해': 30, '그': 31, '보': 32, '대': 33, '노': 34, '을': 35, '시': 36, '데': 37, '요': 38, '만': 39, '야': 40, '으': 41, '정': 42, '국': 43, '의': 44, '네': 45, '있': 46, '여': 47, '수': 48, '주': 49, '남': 50, '성': 51, '일': 52, '저': 53, '안': 54, '신': 55, '무': 56, '새': 57, '부': 58, '개': 59, '끼': 60, '진': 61, '상': 62, '미': 63, '제': 64, '마': 65, '전': 66, '말': 67, '오': 68, '냐': 69, '생': 70, '를': 71, '스': 72, '구': 73, '없': 74, '동': 75, '같': 76, '애': 77, '까': 78, '내': 79, '려': 80, '발': 81, '되': 82, '우': 83, '소': 84, '더': 85, '장': 86, '치': 87, '세': 88, '조': 89, '민': 90, '모': 91, '교': 92, '것': 93, '러': 94, '람': 95, '음': 96, '건': 97, '선': 98, '적': 99, '원': 100, '할': 101, '문': 102, '겠': 103, '감': 104, '중': 105, '년': 106, '드': 107, '충': 108, '비': 109, '좋': 110, '당': 111, '화': 112, '좆': 113, '런': 114, '짜': 115, '유': 116, '잘': 117, '못': 118, '했': 119, '간': 120, '재': 121, '임': 122, '때': 123, '랑': 124, '래': 125, '히': 126, '바': 127, '분': 128, '와': 129, '합': 130, '너': 131, '금': 132, '르': 133, '병': 134, '살': 135, '단': 136, '트': 137, '연': 138, 'ㅠ': 139, '왜': 140, '차': 141, '님': 142, '었': 143, '식': 144, '심': 145, '존': 146, '위': 147, '많': 148, '회': 149, '실': 150, '경': 151, '입': 152, '알': 153, '과': 154, '각': 155, '먹': 156, '씨': 157, 'ㅎ': 158, '받': 159, '난': 160, '예': 161, '역': 162, '레': 163, '운': 164, '습': 165, '반': 166, '공': 167, '박': 168, '슬': 169, '걸': 170, '페': 171, '던': 172, '종': 173, '글': 174, '않': 175, '테': 176, '함': 177, '터': 178, '체': 179, '불': 180, '본': 181, '처': 182, '명': 183, '뭐': 184, '통': 185, '버': 186, '방': 187, '족': 188, '근': 189, '똥': 190, '영': 191, '독': 192, '행': 193, '놈': 194, '좀': 195, 'ㅇ': 196, '후': 197, '물': 198, '렇': 199, '집': 200, '워': 201, '키': 202, '김': 203, '피': 204, '배': 205, '직': 206, '계': 207, '군': 208, '질': 209, '법': 210, '된': 211, '싶': 212, '쓰': 213, '용': 214, '관': 215, '추': 216, '듯': 217, '든': 218, '쳐': 219, '봐': 220, '냥': 221, '별': 222, '죽': 223, 'ㄷ': 224, '호': 225, '번': 226, '목': 227, '딱': 228, '디': 229, '작': 230, '따': 231, '준': 232, '져': 233, '맞': 234, '권': 235, '두': 236, '았': 237, '강': 238, '매': 239, '파': 240, '벌': 241, '돈': 242, '산': 243, '결': 244, '력': 245, '태': 246, '길': 247, '꼬': 248, '베': 249, '느': 250, '럼': 251, '줄': 252, '외': 253, '친': 254, '학': 255, '타': 256, '틀': 257, '팔': 258, '양': 259, '천': 260, '머': 261, '급': 262, '울': 263, '날': 264, '짱': 265, '올': 266, '갈': 267, '녀': 268, '빠': 269, '등': 270, '누': 271, '랄': 272, '얼': 273, '형': 274, '현': 275, '언': 276, '망': 277, '달': 278, '참': 279, '혐': 280, '깨': 281, '절': 282, '북': 283, '혼': 284, '최': 285, '홍': 286, '속': 287, '죄': 288, '청': 289, '빨': 290, '프': 291, '른': 292, '린': 293, '축': 294, '업': 295, '또': 296, '긴': 297, '복': 298, '늘': 299, '백': 300, '웃': 301, '잡': 302, '멋': 303, '림': 304, '능': 305, '응': 306, '답': 307, '넘': 308, '열': 309, '싸': 310, '름': 311, '럽': 312, 'ㅅ': 313, '줘': 314, '즘': 315, '란': 316, '크': 317, '특': 318, 'ㄹ': 319, '막': 320, '판': 321, '겨': 322, '평': 323, '포': 324, '범': 325, '욕': 326, '짓': 327, '탈': 328, 'ㅉ': 329, '악': 330, '온': 331, '돌': 332, '순': 333, '코': 334, '출': 335, '메': 336, '싫': 337, '닌': 338, '카': 339, '초': 340, '편': 341, '젠': 342, '즈': 343, '표': 344, '검': 345, '항': 346, '설': 347, '슨': 348, '힘': 349, '창': 350, '맘': 351, 'ㅂ': 352, 'ㅜ': 353, '뒤': 354, '깔': 355, '증': 356, '눈': 357, '필': 358, '몰': 359, '쌍': 360, '토': 361, 'ㅡ': 362, '패': 363, '돼': 364, '뭔': 365, '믿': 366, '였': 367, '놓': 368, '변': 369, '점': 370, '폭': 371, '티': 372, '광': 373, '손': 374, '루': 375, '투': 376, '냄': 377, '련': 378, '극': 379, '약': 380, '며': 381, '희': 382, 'ㅈ': 383, '폐': 384, '석': 385, '격': 386, '탄': 387, '꾸': 388, '립': 389, '켜': 390, '론': 391, '착': 392, 'ㄱ': 393, 'ㅊ': 394, '송': 395, '될': 396, '앞': 397, '승': 398, '령': 399, '죠': 400, '허': 401, '께': 402, '봤': 403, '써': 404, '팅': 405, '댓': 406, '확': 407, '굴': 408, '씹': 409, '왔': 410, '삼': 411, '귀': 412, '꺼': 413, '떻': 414, '환': 415, '징': 416, '움': 417, '억': 418, '됨': 419, '잖': 420, '꼴': 421, '퍼': 422, '맛': 423, '료': 424, '셔': 425, '찍': 426, '렸': 427, '똑': 428, 'ㅌ': 429, '갔': 430, '활': 431, '쁘': 432, '취': 433, '엄': 434, '육': 435, '볼': 436, '십': 437, '떠': 438, '좌': 439, '찬': 440, '완': 441, '향': 442, '커': 443, '텐': 444, '뿐': 445, '엔': 446, '덕': 447, '밖': 448, '책': 449, '몇': 450, '월': 451, '졌': 452, '릴': 453, '록': 454, '놀': 455, '맙': 456, '끝': 457, '셨': 458, '쪽': 459, '술': 460, '혜': 461, '솔': 462, '밥': 463, '얘': 464, '둘': 465, '맨': 466, 'ㅆ': 467, '걍': 468, '케': 469, '철': 470, '찰': 471, '류': 472, '겼': 473, '쟁': 474, '락': 475, '골': 476, '익': 477, '갑': 478, '퀴': 479, '휴': 480, '먼': 481, '곳': 482, '쉽': 483, '꼭': 484, '짤': 485, '몸': 486, '색': 487, '클': 488, '총': 489, '척': 490, '떨': 491, '쓴': 492, '웜': 493, '염': 494, '빼': 495, '논': 496, '황': 497, '담': 498, '꿀': 499, '득': 500, '택': 501, '섹': 502, '앵': 503, '됐': 504, '찌': 505, '험': 506, '흑': 507, '암': 508, '찾': 509, '쁜': 510, '큰': 511, '혀': 512, '앙': 513, '짐': 514, '쟤': 515, '침': 516, '붙': 517, '읽': 518, '딴': 519, '뽑': 520, '멍': 521, '났': 522, '댕': 523, '잼': 524, '뭘': 525, '갖': 526, '봉': 527, '플': 528, '갓': 529, '딸': 530, '브': 531, '쩌': 532, 'ㄴ': 533, '쉬': 534, '접': 535, '품': 536, '겁': 537, '넣': 538, '궁': 539, '떤': 540, '듣': 541, '럴': 542, '괴': 543, '훈': 544, '념': 545, '잠': 546, '뇌': 547, '채': 548, '높': 549, '갱': 550, '센': 551, '폰': 552, '캐': 553, '밌': 554, '풀': 555, '숨': 556, '팬': 557, '깐': 558, '율': 559, '괜': 560, '뉴': 561, '챙': 562, '딩': 563, '쓸': 564, '견': 565, '끄': 566, '랜': 567, '낫': 568, '탕': 569, '땅': 570, '졸': 571, '큼': 572, '잔': 573, '례': 574, '규': 575, '멸': 576, '압': 577, '뜨': 578, '욱': 579, '흥': 580, '째': 581, '짝': 582, '빵': 583, '젤': 584, '씩': 585, '뿌': 586, '블': 587, '웅': 588, '팩': 589, '핵': 590, '밀': 591, '랍': 592, '빡': 593, '흉': 594, '퇴': 595, '낳': 596, '왕': 597, '잇': 598, '슴': 599, '튼': 600, '엘': 601, '쇼': 602, '옥': 603, '껴': 604, '콘': 605, '걱': 606, '줬': 607, '웠': 608, '혹': 609, '헌': 610, '깝': 611, '뻔': 612, '숙': 613, '킨': 614, '겟': 615, '섭': 616, '둥': 617, '덜': 618, '엽': 619, '즐': 620, '칭': 621, '줌': 622, '멀': 623, '뜻': 624, '찮': 625, '슈': 626, '랬': 627, '싹': 628, '헤': 629, '털': 630, '낙': 631, '엇': 632, '벗': 633, '촌': 634, '칠': 635, '닥': 636, '낌': 637, '빈': 638, '풍': 639, '랐': 640, '닐': 641, '떡': 642, '쳤': 643, '끌': 644, '탁': 645, '겹': 646, '밝': 647, '핑': 648, '팀': 649, '협': 650, '봄': 651, '핀': 652, '봊': 653, '끔': 654, '껄': 655, '훨': 656, '션': 657, '낮': 658, '칼': 659, '옷': 660, '윤': 661, '땐': 662, '쩔': 663, '씀': 664, '흐': 665, '놔': 666, '셋': 667, '링': 668, '값': 669, '탓': 670, '헬': 671, '액': 672, '납': 673, '뚱': 674, '쥐': 675, '효': 676, '꾼': 677, '좃': 678, '밤': 679, '햇': 680, '옴': 681, '찐': 682, '씬': 683, '벽': 684, '넷': 685, '덩': 686, '뻐': 687, '릭': 688, '곡': 689, '낸': 690, '잊': 691, '곤': 692, '혈': 693, '옹': 694, '롭': 695, '즌': 696, '널': 697, '빌': 698, '롱': 699, '굳': 700, '혁': 701, '곧': 702, '쯤': 703, '킹': 704, '됩': 705, '률': 706, '젊': 707, '묻': 708, '첨': 709, '닭': 710, '슷': 711, '쾌': 712, '균': 713, '썩': 714, '힌': 715, '떼': 716, '묵': 717, '푸': 718, '밑': 719, '녕': 720, '컷': 721, '꽃': 722, '늙': 723, '꿔': 724, 'ㄲ': 725, '잃': 726, '첫': 727, '뛰': 728, '윾': 729, '냅': 730, 'ㅁ': 731, '숭': 732, '량': 733, '웨': 734, '븅': 735, '헛': 736, '쾅': 737, '옆': 738, '얻': 739, '놐': 740, '빛': 741, '삶': 742, '쿵': 743, '맥': 744, '낀': 745, '캬': 746, '옳': 747, '찢': 748, '봅': 749, '꿈': 750, '땜': 751, '빻': 752, '냈': 753, '츠': 754, '춘': 755, '뀌': 756, '옛': 757, '섬': 758, '농': 759, '밟': 760, '렌': 761, '둬': 762, '킬': 763, '텔': 764, '잦': 765, '획': 766, '엑': 767, '릇': 768, '콜': 769, '삭': 770, '튀': 771, '쀼': 772, '앱': 773, '앉': 774, '촛': 775, '힐': 776, '틴': 777, '낼': 778, '뮤': 779, '낭': 780, '빙': 781, '몽': 782, '뜯': 783, '딜': 784, '퍄': 785, '닝': 786, '끊': 787, '놨': 788, '앗': 789, '뒷': 790, '컨': 791, '퇘': 792, '묘': 793, '긋': 794, '샤': 795, '넌': 796, '컴': 797, '갤': 798, '렁': 799, '층': 800, '뽀': 801, '땡': 802, '춰': 803, '겐': 804, '싱': 805, '렵': 806, '램': 807, '헐': 808, '렴': 809, '엉': 810, 'ㅍ': 811, '탑': 812, '걔': 813, '낄': 814, '뱅': 815, '훌': 816, '왠': 817, '팍': 818, '켰': 819, '멘': 820, '략': 821, '빤': 822, '몬': 823, '륭': 824, '흔': 825, '븐': 826, '쭉': 827, '잉': 828, '닮': 829, '깜': 830, '썰': 831, '뒈': 832, '흘': 833, '쎄': 834, 'ㅣ': 835, '턴': 836, '쉰': 837, '홀': 838, '띵': 839, '싼': 840, '렀': 841, '칙': 842, '썼': 843, '럿': 844, '닙': 845, '뽕': 846, '꽁': 847, '릉': 848, '콩': 849, '맡': 850, '롤': 851, '럭': 852, '톡': 853, '쁨': 854, '첩': 855, '룩': 856, '밍': 857, '켓': 858, '늦': 859, '탱': 860, '춤': 861, '즉': 862, '읍': 863, '므': 864, '튜': 865, '홧': 866, '훼': 867, '뚜': 868, '쿠': 869, '벼': 870, '혔': 871, '쫌': 872, '휘': 873, '픽': 874, '껏': 875, '뭉': 876, '돔': 877, '렬': 878, '엿': 879, '뷔': 880, '맹': 881, '뚫': 882, '컬': 883, '델': 884, '쇄': 885, '톨': 886, 'ㅏ': 887, '젖': 888, '끈': 889, '빅': 890, '픈': 891, '큐': 892, '윽': 893, '쪼': 894, '쯧': 895, '쫓': 896, '듬': 897, '펜': 898, '쿨': 899, '굿': 900, '뷰': 901, '똘': 902, '뿔': 903, '뚝': 904, '윗': 905, '눠': 906, '둑': 907, '닫': 908, '듭': 909, '됬': 910, '옮': 911, '덤': 912, '셀': 913, 'ㅗ': 914, '롬': 915, '엠': 916, '윈': 917, '쫄': 918, '숫': 919, '녹': 920, '객': 921, '씌': 922, '뱀': 923, '쑤': 924, '쩡': 925, '돋': 926, '겪': 927, '젝': 928, '찔': 929, '궈': 930, '옵': 931, '롯': 932, '겸': 933, '엮': 934, '홈': 935, '딘': 936, '걷': 937, '빽': 938, '왤': 939, '탐': 940, '눌': 941, '랫': 942, '꽤': 943, '흙': 944, '쩐': 945, '랏': 946, '냉': 947, '쉐': 948, '벨': 949, '쿰': 950, '렷': 951, '쌀': 952, '및': 953, '폴': 954, '멈': 955, '멤': 956, '측': 957, '녔': 958, '릿': 959, '뿟': 960, '쌓': 961, '쩍': 962, '릅': 963, '굶': 964, '둔': 965, '끗': 966, '섞': 967, '핸': 968, '꿘': 969, '떳': 970, '쏘': 971, '삐': 972, '뜬': 973, '벤': 974, '짖': 975, '낚': 976, '깽': 977, '턱': 978, '륜': 979, '덮': 980, '뤄': 981, '앤': 982, '넼': 983, '겉': 984, '뺏': 985, '짭': 986, '왈': 987, '깊': 988, '쌔': 989, '겄': 990, '찜': 991, '쏠': 992, '랩': 993, '곁': 994, '벅': 995, '짧': 996, '꽂': 997, '킥': 998, '톱': 999, '댐': 1000, '쉴': 1001, '엌': 1002, '흡': 1003, '넓': 1004, '촬': 1005, '짬': 1006, '닉': 1007, '펑': 1008, '셉': 1009, '꼈': 1010, '띠': 1011, '렉': 1012, '쭈': 1013, '묶': 1014, '붕': 1015, '랙': 1016, '껀': 1017, '깡': 1018, '넨': 1019, '밋': 1020, '풉': 1021, '괄': 1022, '펄': 1023, '잣': 1024, '겜': 1025, '깃': 1026, '웬': 1027, '펙': 1028, '봇': 1029, '좁': 1030, '썅': 1031, '쥬': 1032, '텅': 1033, '펴': 1034, '쫒': 1035, '렙': 1036, '쌈': 1037, '샌': 1038, '쪄': 1039, '뻥': 1040, '팁': 1041, '앰': 1042, '엥': 1043, '덴': 1044, '흠': 1045, '궐': 1046, 'ㅛ': 1047, '띄': 1048, '꼽': 1049, '뜰': 1050, '룸': 1051, '쩜': 1052, '캡': 1053, '좇': 1054, '딨': 1055, '몫': 1056, '닿': 1057, '냔': 1058, '칸': 1059, '랭': 1060, '쏙': 1061, 'ㅑ': 1062, '긍': 1063, '컵': 1064, '넹': 1065, '겻': 1066, '뭣': 1067, '펼': 1068, '템': 1069, '뻤': 1070, '셈': 1071, '씻': 1072, '탠': 1073, '쟈': 1074, '밴': 1075, '룡': 1076, '푼': 1077, '폼': 1078, '빔': 1079, '샘': 1080, '쇠': 1081, '팡': 1082, '곱': 1083, '벙': 1084, '핏': 1085, '믄': 1086, '컥': 1087, '곰': 1088, '훔': 1089, '웹': 1090, '왼': 1091, '셜': 1092, '셧': 1093, '댄': 1094, '뢰': 1095, '츄': 1096, '덥': 1097, '쏴': 1098, '돕': 1099, '숏': 1100, '쌤': 1101, '틸': 1102, '섯': 1103, '닦': 1104, '믹': 1105, '얌': 1106, '푹': 1107, '괘': 1108, '쏟': 1109, '캠': 1110, '섰': 1111, '힙': 1112, '퉤': 1113, '삽': 1114, '뱃': 1115, '떄': 1116, '뀜': 1117, '뎌': 1118, '뭇': 1119, '썬': 1120, '졋': 1121, '캔': 1122, '닼': 1123, 'ㅄ': 1124, '룹': 1125, '뱉': 1126, '짚': 1127, '쳣': 1128, '댈': 1129, '뎅': 1130, '륙': 1131, '쒸': 1132, '캄': 1133, '볶': 1134, '봣': 1135, '덧': 1136, '붓': 1137, '핫': 1138, '녁': 1139, '빗': 1140, '맑': 1141, '팽': 1142, '팝': 1143, '짞': 1144, '땀': 1145, '멜': 1146, '춥': 1147, '웩': 1148, '굉': 1149, 'ㅐ': 1150, 'ㅔ': 1151, '딲': 1152, '얹': 1153, '끓': 1154, '렐': 1155, '쨌': 1156, '뻘': 1157, '쌩': 1158, 'ㄸ': 1159, '썸': 1160, '쯔': 1161, '퓨': 1162, '꼼': 1163, '둠': 1164, '꼰': 1165, '줫': 1166, '뜩': 1167, '뇬': 1168, '헷': 1169, '멧': 1170, '퀄': 1171, '뼈': 1172, '랴': 1173, '줍': 1174, '앜': 1175, '늠': 1176, '쿼': 1177, '꽥': 1178, '긁': 1179, '킴': 1180, '퍽': 1181, '뺑': 1182, '빕': 1183, '넉': 1184, '넥': 1185, '첼': 1186, '앨': 1187, '뺨': 1188, '펨': 1189, '죶': 1190, '멕': 1191, '젓': 1192, '껍': 1193, '렛': 1194, '뀐': 1195, '빚': 1196, '얗': 1197, '갚': 1198, '촉': 1199, '늬': 1200, '왓': 1201, '썹': 1202, '툰': 1203, '쁠': 1204, '룰': 1205, '눔': 1206, '웰': 1207, '밸': 1208, '깎': 1209, '삿': 1210, '굽': 1211, 'ㅓ': 1212, '솜': 1213, '얀': 1214, '찼': 1215, '꽉': 1216, '찡': 1217, '펠': 1218, '쩝': 1219, '붐': 1220, '헉': 1221, '폄': 1222, '틈': 1223, 'ㅃ': 1224, '콤': 1225, '릎': 1226, '귄': 1227, '픔': 1228, '꿨': 1229, '틱': 1230, '굼': 1231, '닷': 1232, '뇨': 1233, '삘': 1234, '냨': 1235, '밭': 1236, '찻': 1237, '꺽': 1238, '샀': 1239, '뉘': 1240, '졷': 1241, '욧': 1242, '됌': 1243, '쿡': 1244, '샷': 1245, '욜': 1246, '짘': 1247, '햄': 1248, '뵈': 1249, '펀': 1250, '헴': 1251, '엎': 1252, '쨋': 1253, '팰': 1254, '꽈': 1255, '칩': 1256, '뚤': 1257, '꺄': 1258, '젼': 1259, '횃': 1260, '솨': 1261, '댁': 1262, '쑈': 1263, '뻑': 1264, '낯': 1265, '롸': 1266, '힝': 1267, '횡': 1268, '엣': 1269, '됫': 1270, '뀔': 1271, '깍': 1272, '썻': 1273, '씁': 1274, '갘': 1275, '컸': 1276, '쿄': 1277, '땠': 1278, '콧': 1279, '솤': 1280, '툭': 1281, '찝': 1282, '콕': 1283, '맵': 1284, '퉷': 1285, '쥰': 1286, '껌': 1287, '텀': 1288, '렘': 1289, '됴': 1290, '풋': 1291, '샛': 1292, '엒': 1293, '냠': 1294, '텨': 1295, '짠': 1296, '앎': 1297, '맺': 1298, '줏': 1299, '돠': 1300, '듀': 1301, '퐁': 1302, '얄': 1303, '챔': 1304, '욤': 1305, '텝': 1306, '꿍': 1307, '꿇': 1308, '떵': 1309, '탔': 1310, '죤': 1311, '씸': 1312, 'ㅕ': 1313, '뭡': 1314, '즙': 1315, '쓱': 1316, '깁': 1317, '싯': 1318, '긔': 1319, '쭝': 1320, '떴': 1321, '퉁': 1322, '뗀': 1323, '썪': 1324, '몹': 1325, '귤': 1326, '뽐': 1327, '캣': 1328, '꺠': 1329, '겔': 1330, '퀸': 1331, '딪': 1332, '쫑': 1333, '헠': 1334, '넴': 1335, '깟': 1336, '뤘': 1337, '퓰': 1338, '욥': 1339, '엊': 1340, '얇': 1341, '셰': 1342, '촘': 1343, '톤': 1344, '텍': 1345, '끠': 1346, '샵': 1347, '쟝': 1348, '팼': 1349, '갇': 1350, '팠': 1351, '훅': 1352, '솟': 1353, '뭍': 1354, '셍': 1355, '뺐': 1356, '햐': 1357, '칫': 1358, '펌': 1359, '셴': 1360, '웁': 1361, '쬐': 1362, '횟': 1363, '솥': 1364, '뺀': 1365, '땄': 1366, '쵝': 1367, '깄': 1368, '쎅': 1369, '뻣': 1370, '폈': 1371, '숟': 1372, '뽄': 1373, '윙': 1374, '펭': 1375, '뤼': 1376, '잰': 1377, '튈': 1378, '뎈': 1379, '듦': 1380, '뜸': 1381, '숩': 1382, '갯': 1383, '뺴': 1384, '쫘': 1385, '훤': 1386, '깈': 1387, '궤': 1388, '낱': 1389, '탬': 1390, '꿎': 1391, '귓': 1392, '댜': 1393, '밬': 1394, '밉': 1395, '융': 1396, '걀': 1397, '삥': 1398, '됏': 1399, '팥': 1400, '왘': 1401, '샾': 1402, '흰': 1403, '쫙': 1404, '뎁': 1405, '뭄': 1406, '뛸': 1407, '앂': 1408, '댔': 1409, '앢': 1410, '숲': 1411, '깥': 1412, '캅': 1413, '랔': 1414, '얍': 1415, '핥': 1416, '꾀': 1417, '맏': 1418, '츤': 1419, '룻': 1420, '꺾': 1421, '씽': 1422, '뾰': 1423, '밈': 1424, '딕': 1425, '훠': 1426, '꿰': 1427, '닠': 1428, '팻': 1429, '휙': 1430, '뗄': 1431, '숴': 1432, '읎': 1433, '꽝': 1434, '튭': 1435, '켠': 1436, '룐': 1437, '뿜': 1438, '끽': 1439, '튄': 1440, '슛': 1441, '훗': 1442, '뛴': 1443, '꾹': 1444, '쥔': 1445, '훳': 1446, '랗': 1447, '헝': 1448, '벚': 1449, '벳': 1450, '듸': 1451, '켁': 1452, '뮬': 1453, '쌕': 1454, '쪘': 1455, '잩': 1456, '닛': 1457, '뺍': 1458, '둡': 1459, '붉': 1460, '랰': 1461, '흩': 1462, '옺': 1463, '펍': 1464, '쁩': 1465, '잤': 1466, '잎': 1467, '텡': 1468, '툼': 1469, '섻': 1470, '잌': 1471, '켈': 1472, '떈': 1473, '왐': 1474, '죵': 1475, '쉑': 1476, '랟': 1477, '쨔': 1478, '쌉': 1479, '웟': 1480, '핰': 1481, '츙': 1482, '앍': 1483, '갠': 1484, '콱': 1485, '챦': 1486, '랖': 1487, '챱': 1488, '샅': 1489, '껐': 1490, '쵸': 1491, '칵': 1492, '찿': 1493, '갸': 1494, '꼐': 1495, '냇': 1496, '탉': 1497, '댸': 1498, '깰': 1499, '겧': 1500, '뻗': 1501, '슐': 1502, '삯': 1503, '힣': 1504, '헙': 1505, '뼛': 1506, '쟬': 1507, '럔': 1508, '껰': 1509, '낑': 1510, '댘': 1511, '눕': 1512, '뽈': 1513, '땟': 1514, '셐': 1515, '딧': 1516, '쏜': 1517, '륵': 1518, '삔': 1519, '볍': 1520, '빳': 1521, '샹': 1522, '욬': 1523, '톰': 1524, '캥': 1525, '꿩': 1526, '곽': 1527, '팟': 1528, '굔': 1529, '짊': 1530, '먜': 1531, '툽': 1532, '죈': 1533, '쫩': 1534, '휩': 1535, '놧': 1536, '쟎': 1537, '콸': 1538, '깉': 1539, '컹': 1540, '쟨': 1541, '뿍': 1542, '눼': 1543, '쑴': 1544, '맜': 1545, '즁': 1546, '벡': 1547, '쭐': 1548, '맷': 1549, '띈': 1550, '뀍': 1551, '쌌': 1552, '팜': 1553, '귝': 1554, '췌': 1555, '껑': 1556, '볕': 1557, '앓': 1558, '킵': 1559, '쌘': 1560, '홉': 1561, '벵': 1562, '킁': 1563, '밧': 1564, '잴': 1565, '왁': 1566, '맣': 1567, '튐': 1568, '꼇': 1569, '얏': 1570, '켯': 1571, '췄': 1572, '왱': 1573, '얜': 1574, '쫀': 1575, '쿤': 1576, '웍': 1577, '앚': 1578, '깬': 1579, '젴': 1580, '썽': 1581, '츳': 1582, '쑥': 1583, '딛': 1584, '큽': 1585, '륨': 1586, '땃': 1587, '끙': 1588, '윳': 1589, '쑨': 1590, '넙': 1591, '핼': 1592, '닺': 1593, '뇽': 1594, '맴': 1595, '웡': 1596, '쑵': 1597, '쥑': 1598, '긱': 1599, '랲': 1600, '졍': 1601, '둣': 1602, '콰': 1603, '틋': 1604, '헥': 1605, '뺄': 1606, '쨍': 1607, '뎃': 1608, '빍': 1609, '뱁': 1610, '큨': 1611, '핬': 1612, '쨰': 1613, '몌': 1614, '넫': 1615, '캭': 1616, '햣': 1617, '띡': 1618, '씰': 1619, '쳑': 1620, '웝': 1621, '쭌': 1622, '귈': 1623, '혓': 1624, '죨': 1625, '젭': 1626, '꽹': 1627, '읻': 1628, '푤': 1629, '큭': 1630, '믾': 1631, '쯍': 1632, '듈': 1633, '앴': 1634, '딥': 1635, '듴': 1636, '챈': 1637, '햑': 1638, '멵': 1639, '렜': 1640, '섀': 1641, '겆': 1642, '젔': 1643, '죳': 1644, '눞': 1645, '냣': 1646, '걋': 1647, '놌': 1648, '뻡': 1649, '먤': 1650, '셤': 1651, '켱': 1652, '짢': 1653, '앝': 1654, '낰': 1655, '뮨': 1656, '곷': 1657, '눴': 1658, '녓': 1659, '낻': 1660, '멎': 1661, '쥣': 1662, '훚': 1663, '숰': 1664, '얕': 1665, '삻': 1666, '줜': 1667, '괙': 1668, '눙': 1669, '샄': 1670, '쉿': 1671, '솓': 1672, '뗏': 1673, '걜': 1674, '읊': 1675, '븡': 1676, '쟛': 1677, '맍': 1678, '찎': 1679, '텃': 1680, '몆': 1681, '뢀': 1682, '젛': 1683, '뽜': 1684, '뗌': 1685, '늚': 1686, '얺': 1687, '켔': 1688, '횐': 1689, '뒀': 1690, '뗵': 1691, '벉': 1692, '듕': 1693, '꿉': 1694, '쨈': 1695, '뼝': 1696, '잍': 1697, '읶': 1698, '갬': 1699, '갗': 1700, '앳': 1701, 'ㅒ': 1702, '섣': 1703, '팸': 1704, '껫': 1705, '샊': 1706, '샨': 1707, '슙': 1708, '믽': 1709, '캘': 1710, '잭': 1711, '뜷': 1712, '떙': 1713, '핍': 1714, '쩨': 1715, '췰': 1716, '쏭': 1717, '맟': 1718, '땬': 1719, '눜': 1720, '룬': 1721, '춴': 1722, '햰': 1723, '냼': 1724, '얚': 1725, '햬': 1726, '웻': 1727, '몀': 1728, '돐': 1729, '쒼': 1730, '캇': 1731, '싰': 1732, '얽': 1733, '갛': 1734, '겯': 1735, '뷴': 1736, '뚯': 1737, '잽': 1738, '뗴': 1739, '뎀': 1740, '븍': 1741, '챤': 1742, '햠': 1743, '덟': 1744, '킼': 1745, '틐': 1746, '컫': 1747, '줒': 1748, '굵': 1749, '놋': 1750, '릌': 1751, '섿': 1752, '캤': 1753, '챗': 1754, '뵐': 1755, '짆': 1756, '낔': 1757, '릫': 1758, '늒': 1759, '옇': 1760, '갹': 1761, '뤀': 1762, '딤': 1763, '멱': 1764, '섴': 1765, '깞': 1766, '켬': 1767, '롹': 1768, '늑': 1769, '챠': 1770, '쩅': 1771, '쐈': 1772, '쭤': 1773, '혾': 1774, '볺': 1775, '몃': 1776, '똠': 1777, '닳': 1778, '뀨': 1779, '뎄': 1780, '뿠': 1781, '핌': 1782, '넛': 1783, '찟': 1784, '겋': 1785, '짦': 1786, '럇': 1787, '옐': 1788, '횔': 1789, '욨': 1790, '뗐': 1791, '슘': 1792, '퀵': 1793, '낢': 1794, '싢': 1795, '듄': 1796, '뭨': 1797, '슼': 1798, '텋': 1799, '텄': 1800, '쨩': 1801, '괸': 1802, '삑': 1803, '툴': 1804, '뿡': 1805, '슝': 1806, '뷷': 1807, '얔': 1808, '겊': 1809, '촠': 1810, '쳌': 1811, '껳': 1812, '욀': 1813, '켤': 1814, '캉': 1815, '왬': 1816, '됀': 1817, '윀': 1818, '깅': 1819, '곸': 1820, '짇': 1821, '쟜': 1822, '쬬': 1823, '뮈': 1824, '뷩': 1825, '뺘': 1826, '줮': 1827, '겅': 1828, '돗': 1829, '뺌': 1830, '듓': 1831, '빧': 1832, '쇳': 1833, '짲': 1834, '킷': 1835, '뭬': 1836, '궜': 1837, '긐': 1838, '넵': 1839, '쨥': 1840, '띤': 1841, '뱡': 1842, '졓': 1843, '홨': 1844, '뻬': 1845, '뉠': 1846, '헿': 1847, '뵙': 1848, '듵': 1849, '뵜': 1850, '탶': 1851, '둿': 1852, '곀': 1853, '퇄': 1854, '첸': 1855, '튤': 1856, '횽': 1857, '밎': 1858, '륩': 1859, '찹': 1860, '휼': 1861, '큿': 1862, '뵨': 1863, '욯': 1864, '롷': 1865, '셸': 1866, '댯': 1867, '줠': 1868, '옌': 1869, '펫': 1870, '헸': 1871, '젬': 1872, '좈': 1873, '뿅': 1874, '큡': 1875, '뽁': 1876, '푠': 1877, 'ㄳ': 1878, '낍': 1879, '윌': 1880, '뀝': 1881, '탴': 1882, '믈': 1883, '쉭': 1884, '쨴': 1885, '쿱': 1886, '쉼': 1887, '쥴': 1888, '믓': 1889, '앀': 1890, '촤': 1891, '퉜': 1892, '짗': 1893, '깠': 1894, '툇': 1895, '뮌': 1896, '늗': 1897, '읗': 1898, '꺵': 1899, '꿋': 1900, '셩': 1901, '뼘': 1902, '맀': 1903, '곪': 1904, '묭': 1905, '띌': 1906, '딮': 1907, '맄': 1908, '늉': 1909, '횰': 1910, '샐': 1911, '퀘': 1912, '웤': 1913, '짙': 1914, '늄': 1915, '켐': 1916, '콥': 1917, '헣': 1918}\n"
     ]
    }
   ],
   "source": [
    "print(tokenizer.word_index)"
   ]
  },
  {
   "cell_type": "code",
   "execution_count": 34,
   "metadata": {
    "colab": {
     "base_uri": "https://localhost:8080/"
    },
    "id": "P87MGN80q7b2",
    "outputId": "c3f4eee1-1b8c-47d3-9cbf-b504dd4f41b3"
   },
   "outputs": [
    {
     "name": "stdout",
     "output_type": "stream",
     "text": [
      "odict_items([('일', 2572), ('안', 2363), ('하', 10200), ('는', 12332), ('▁', 145259), ('시', 3711), ('간', 1027), ('은', 5457), ('쉬', 105), ('고', 10413), ('싶', 569), ('어', 5506), ('서', 5855), ('그', 3936), ('런', 1133), ('게', 4433), ('아', 7116), ('닐', 62), ('까', 1605), ('동', 1736), ('성', 2575), ('범', 317), ('죄', 394), ('와', 972), ('페', 703), ('도', 7612), ('버', 643), ('기', 5900), ('록', 161), ('바', 994), ('끊', 32), ('져', 515), ('영', 630), ('원', 1288), ('히', 1006), ('통', 650), ('받', 768), ('다', 13388), ('무', 2296), ('슬', 715), ('림', 353), ('퍼', 195), ('근', 635), ('친', 471), ('이', 20054), ('지', 9738), ('떨', 130), ('출', 306), ('산', 494), ('위', 864), ('험', 121), ('루', 242), ('나', 6697), ('솔', 155), ('로', 4394), ('앨', 7), ('왔', 212), ('을', 3719), ('때', 1014), ('부', 2260), ('터', 677), ('머', 450), ('모', 1398), ('운', 728), ('있', 2746), ('었', 881), ('음', 1373), ('ㅇ', 614), ('진', 2158), ('짜', 1132), ('띵', 27), ('곡', 49), ('임', 1016), ('꼭', 137), ('들', 9027), ('보', 3926), ('셈', 11), ('홍', 397), ('팍', 29), ('에', 6368), ('연', 895), ('합', 963), ('인', 4378), ('가', 8824), ('내', 1536), ('요', 3344), ('뭐', 651), ('뎃', 1), ('글', 686), ('데', 3602), ('거', 4228), ('측', 17), ('신', 2363), ('면', 4320), ('쪽', 157), ('소', 1507), ('능', 350), ('냐', 1934), ('놔', 54), ('왜', 889), ('여', 2735), ('댓', 214), ('자', 6046), ('김', 591), ('치', 1441), ('녀', 431), ('라', 6649), ('먼', 140), ('저', 2420), ('불', 674), ('렸', 185), ('더', 1503), ('심', 869), ('렇', 601), ('개', 2233), ('싸', 336), ('우', 1508), ('볼', 172), ('땐', 57), ('둘', 149), ('쁜', 119), ('말', 1958), ('상', 2133), ('닌', 301), ('향', 170), ('피', 588), ('방', 643), ('네', 2754), ('럴', 100), ('구', 1896), ('랑', 1013), ('르', 927), ('없', 1771), ('야', 3143), ('니', 6056), ('막', 323), ('되', 1510), ('당', 1140), ('키', 593), ('드', 1169), ('를', 1914), ('러', 1384), ('않', 685), ('많', 857), ('칠', 63), ('긴', 376), ('해', 4116), ('반', 723), ('겠', 1255), ('예', 749), ('수', 2677), ('십', 172), ('새', 2267), ('끼', 2227), ('창', 284), ('애', 1621), ('비', 1153), ('실', 853), ('종', 690), ('정', 2921), ('교', 1393), ('육', 173), ('못', 1070), ('뇌', 98), ('충', 1158), ('허', 217), ('언', 408), ('증', 275), ('병', 916), ('사', 5059), ('꾼', 51), ('망', 407), ('본', 674), ('장', 1476), ('짱', 441), ('흑', 121), ('람', 1378), ('전', 2007), ('급', 446), ('쳐', 549), ('먹', 806), ('놈', 616), ('대', 3850), ('리', 4897), ('똥', 632), ('만', 3339), ('찬', 171), ('청', 394), ('같', 1699), ('계', 582), ('집', 601), ('의', 2818), ('적', 1289), ('으', 3031), ('군', 582), ('결', 492), ('될', 225), ('조', 1412), ('켜', 229), ('할', 1265), ('꺼', 205), ('슨', 286), ('낳', 77), ('식', 880), ('재', 1021), ('ㅂ', 282), ('ㅅ', 332), ('ㅌ', 182), ('ㅊ', 228), ('노', 3825), ('ㅋ', 18149), ('배', 585), ('남', 2617), ('떻', 205), ('생', 1918), ('겼', 145), ('뺨', 7), ('린', 389), ('월', 164), ('려', 1518), ('주', 2643), ('금', 935), ('단', 914), ('슴', 76), ('너', 963), ('프', 390), ('작', 525), ('살', 916), ('얼', 425), ('마', 2031), ('외', 473), ('웠', 74), ('갓', 107), ('희', 236), ('현', 411), ('테', 684), ('미', 2105), ('제', 2048), ('양', 453), ('답', 344), ('좆', 1136), ('씨', 792), ('발', 1518), ('따', 521), ('넘', 340), ('갔', 182), ('메', 305), ('속', 396), ('강', 504), ('화', 1139), ('커', 169), ('블', 79), ('한', 6390), ('축', 388), ('회', 855), ('협', 59), ('박', 717), ('스', 1898), ('킬', 36), ('패', 257), ('브', 106), ('께', 217), ('격', 231), ('호', 535), ('텔', 36), ('완', 171), ('듯', 560), ('토', 258), ('올', 439), ('쳤', 61), ('짓', 311), ('설', 287), ('웩', 8), ('틸', 10), ('알', 828), ('콜', 35), ('쓰', 569), ('질', 580), ('문', 1259), ('공', 721), ('업', 381), ('용', 565), ('세', 1427), ('법', 575), ('술', 157), ('쓴', 130), ('띄', 12), ('울', 443), ('국', 2849), ('유', 1124), ('준', 516), ('절', 404), ('팩', 78), ('트', 897), ('쑈', 5), ('빼', 128), ('것', 1392), ('돼', 257), ('권', 513), ('탄', 231), ('핵', 78), ('힘', 286), ('싫', 303), ('년', 1172), ('욕', 314), ('괜', 93), ('냥', 542), ('죽', 539), ('좋', 1144), ('침', 115), ('티', 246), ('직', 583), ('선', 1303), ('돈', 496), ('갖', 108), ('폭', 250), ('ㅎ', 776), ('민', 1402), ('깄', 3), ('큰', 119), ('났', 111), ('댕', 111), ('놨', 32), ('봐', 548), ('봤', 217), ('중', 1236), ('굉', 8), ('분', 986), ('황', 126), ('순', 308), ('켰', 29), ('뻑', 5), ('뿔', 21), ('님', 885), ('천', 453), ('앙', 118), ('독', 621), ('후', 604), ('역', 740), ('확', 214), ('필', 269), ('뜬', 16), ('름', 334), ('잡', 356), ('체', 676), ('목', 528), ('숨', 95), ('존', 865), ('딱', 528), ('걸', 712), ('느', 479), ('오', 1948), ('닙', 26), ('뉴', 93), ('길', 484), ('낯', 5), ('좀', 616), ('달', 407), ('건', 1365), ('디', 528), ('늘', 363), ('뚝', 21), ('맞', 515), ('멘', 29), ('타', 460), ('념', 99), ('뿐', 167), ('냄', 240), ('움', 202), ('포', 318), ('뭘', 109), ('뜻', 67), ('물', 603), ('카', 301), ('폐', 232), ('뮬', 2), ('레', 734), ('션', 58), ('섹', 123), ('쎅', 3), ('쌕', 2), ('섭', 70), ('초', 299), ('론', 229), ('관', 564), ('련', 240), ('ㅐ', 8), ('액', 52), ('된', 574), ('난', 751), ('학', 471), ('덕', 166), ('헉', 6), ('눈', 273), ('앞', 224), ('매', 503), ('였', 255), ('쪘', 2), ('낮', 58), ('잠', 99), ('별', 540), ('력', 492), ('뭔', 257), ('참', 407), ('과', 819), ('잉', 28), ('껏', 24), ('표', 296), ('혹', 74), ('검', 295), ('찰', 147), ('혁', 47), ('폄', 6), ('납', 52), ('짝', 80), ('갈', 434), ('끌', 61), ('약', 239), ('판', 322), ('짬', 14), ('뽕', 26), ('경', 842), ('귀', 207), ('엽', 69), ('벌', 499), ('꼬', 482), ('추', 564), ('윈', 20), ('봉', 108), ('젠', 297), ('맘', 284), ('빍', 1), ('ㅔ', 8), ('츠', 37), ('습', 728), ('행', 621), ('례', 84), ('헌', 74), ('꼴', 196), ('누', 427), ('맨', 149), ('닮', 28), ('았', 506), ('던', 698), ('믿', 257), ('뻣', 3), ('팔', 456), ('릴', 162), ('틈', 6), ('차', 887), ('명', 662), ('줘', 332), ('른', 390), ('엔', 167), ('두', 510), ('항', 289), ('감', 1250), ('쩔', 57), ('찮', 67), ('잘', 1084), ('줄', 475), ('승', 222), ('취', 179), ('빠', 428), ('짐', 118), ('워', 596), ('착', 229), ('각', 808), ('곧', 47), ('석', 232), ('껴', 75), ('꽁', 26), ('깜', 28), ('춘', 37), ('돌', 309), ('맹', 23), ('깝', 73), ('랄', 426), ('령', 221), ('베', 480), ('쌔', 15), ('손', 244), ('쫄', 20), ('좃', 51), ('뱁', 1), ('특', 327), ('징', 204), ('찍', 186), ('뒤', 278), ('태', 488), ('섯', 10), ('찢', 38), ('ㅆ', 149), ('밖', 166), ('풉', 13), ('극', 240), ('혐', 406), ('씹', 213), ('변', 253), ('뭉', 24), ('윗', 21), ('찾', 120), ('백', 360), ('밤', 51), ('꽃', 43), ('채', 98), ('며', 237), ('럼', 476), ('욱', 81), ('암', 121), ('복', 365), ('삼', 211), ('입', 835), ('갤', 31), ('숙', 71), ('높', 98), ('펨', 7), ('했', 1041), ('날', 443), ('뛰', 41), ('븅', 40), ('탈', 311), ('투', 242), ('밀', 78), ('환', 205), ('형', 419), ('처', 669), ('족', 641), ('멸', 83), ('걍', 148), ('또', 380), ('편', 298), ('갱', 98), ('뜨', 82), ('략', 29), ('녔', 17), ('탁', 61), ('탕', 88), ('벤', 16), ('낸', 49), ('낭', 33), ('끝', 159), ('번', 533), ('틀', 459), ('꿀', 125), ('놐', 39), ('담', 126), ('접', 104), ('폈', 3), ('잊', 49), ('익', 142), ('맙', 160), ('류', 147), ('래', 1013), ('봅', 38), ('뚫', 23), ('크', 329), ('써', 215), ('널', 48), ('잔', 86), ('깐', 94), ('헐', 30), ('벗', 64), ('춤', 25), ('콘', 75), ('돔', 24), ('눠', 21), ('혀', 119), ('텐', 169), ('웜', 129), ('놀', 161), ('즈', 297), ('닦', 10), ('딲', 8), ('롸', 5), ('악', 310), ('둑', 21), ('괄', 13), ('썰', 28), ('즉', 25), ('꿈', 38), ('떼', 45), ('칼', 58), ('봄', 59), ('꾸', 231), ('읍', 25), ('함', 684), ('됐', 122), ('싼', 27), ('즘', 330), ('딴', 114), ('렬', 24), ('점', 251), ('꼽', 12), ('줌', 68), ('짤', 135), ('놓', 254), ('겨', 322), ('혼', 401), ('ㅡ', 258), ('닥', 63), ('랏', 18), ('텝', 4), ('럽', 334), ('ㅈ', 233), ('냉', 18), ('털', 66), ('떡', 62), ('펄', 13), ('찌', 122), ('굴', 214), ('씻', 11), ('붙', 115), ('잦', 36), ('빨', 392), ('ㄷ', 538), ('죶', 7), ('겹', 61), ('등', 428), ('딩', 91), ('열', 340), ('숟', 3), ('락', 144), ('얹', 8), ('궁', 102), ('숫', 20), ('ㄱ', 229), ('든', 556), ('염', 129), ('왕', 77), ('땅', 88), ('란', 330), ('최', 398), ('얘', 152), ('앗', 32), ('슈', 67), ('케', 148), ('빙', 33), ('햇', 51), ('괴', 100), ('튼', 76), ('읽', 115), ('곤', 49), ('넷', 50), ('플', 108), ('졸', 88), ('잇', 77), ('멀', 68), ('똑', 183), ('ㄹ', 326), ('억', 200), ('렴', 30), ('파', 503), ('밝', 61), ('므', 25), ('빌', 48), ('튜', 25), ('깨', 406), ('삭', 35), ('웃', 357), ('꿍', 4), ('쯤', 47), ('킹', 47), ('ㅃ', 6), ('몸', 135), ('뚱', 52), ('덩', 50), ('밥', 154), ('철', 148), ('빵', 80), ('뒈', 28), ('릉', 26), ('닉', 14), ('잩', 2), ('엘', 76), ('졌', 164), ('북', 403), ('골', 144), ('코', 307), ('됨', 198), ('셋', 54), ('총', 131), ('책', 166), ('슷', 46), ('릿', 17), ('립', 231), ('뽑', 114), ('응', 348), ('렁', 31), ('떠', 172), ('활', 180), ('탠', 11), ('뽄', 3), ('묵', 45), ('겄', 15), ('뀌', 37), ('획', 36), ('몰', 265), ('랜', 89), ('쓸', 91), ('닫', 21), ('값', 53), ('팬', 95), ('믹', 10), ('녹', 20), ('색', 135), ('풀', 97), ('윙', 3), ('옛', 37), ('걱', 75), ('챙', 93), ('홧', 25), ('팅', 215), ('핀', 59), ('둥', 70), ('쌍', 265), ('튀', 35), ('쾌', 46), ('잣', 13), ('헛', 40), ('푸', 45), ('빛', 39), ('쉽', 138), ('흥', 81), ('쁘', 180), ('쥐', 52), ('쪼', 22), ('온', 310), ('쟁', 145), ('탓', 53), ('논', 128), ('흘', 28), ('찜', 15), ('촌', 64), ('킨', 71), ('콤', 6), ('평', 319), ('균', 46), ('줬', 75), ('뜰', 12), ('랬', 67), ('펑', 14), ('좌', 172), ('멕', 7), ('뿟', 17), ('쇼', 76), ('쟈', 11), ('씀', 55), ('힝', 5), ('광', 246), ('잖', 198), ('밑', 45), ('멍', 112), ('객', 20), ('빤', 29), ('큨', 1), ('쏠', 15), ('갑', 142), ('횡', 5), ('콩', 26), ('곳', 139), ('뒷', 32), ('빽', 19), ('삶', 39), ('씌', 20), ('낌', 63), ('압', 83), ('랩', 15), ('료', 191), ('ㅜ', 282), ('뱀', 20), ('곁', 15), ('척', 131), ('쩌', 106), ('맡', 26), ('층', 31), ('앵', 123), ('째', 81), ('얌', 10), ('몇', 165), ('옴', 51), ('ㄴ', 106), ('택', 124), ('퀴', 142), ('젓', 7), ('셔', 190), ('죠', 220), ('끓', 8), ('푹', 10), ('닛', 2), ('헬', 53), ('센', 98), ('컨', 32), ('롤', 26), ('쉐', 18), ('훼', 25), ('엣', 5), ('맛', 192), ('됫', 5), ('왤', 19), ('쿵', 39), ('쾅', 40), ('봊', 59), ('밴', 11), ('휴', 141), ('몬', 29), ('윾', 41), ('끔', 59), ('쀼', 35), ('젤', 80), ('듭', 21), ('퇘', 32), ('품', 104), ('탐', 19), ('ㅉ', 311), ('늙', 43), ('견', 90), ('엑', 36), ('맥', 39), ('렀', 27), ('뻔', 73), ('폰', 98), ('쑤', 20), ('쟤', 118), ('율', 94), ('릎', 6), ('꿇', 4), ('괘', 10), ('랍', 78), ('몽', 33), ('빈', 63), ('낀', 39), ('쌓', 17), ('꿔', 43), ('뚜', 25), ('벅', 15), ('엉', 30), ('쎄', 28), ('됬', 21), ('떤', 102), ('섬', 37), ('럭', 26), ('짧', 15), ('옆', 40), ('껍', 7), ('눌', 19), ('벨', 18), ('클', 134), ('썩', 46), ('뽀', 31), ('송', 227), ('넣', 103), ('펭', 3), ('귄', 6), ('힌', 46), ('멋', 354), ('컬', 23), ('덜', 70), ('캐', 98), ('짖', 16), ('혜', 156), ('씩', 80), ('ㅣ', 28), ('델', 23), ('렐', 8), ('농', 37), ('싹', 67), ('꽂', 15), ('득', 125), ('렛', 7), ('뺍', 2), ('규', 84), ('겁', 104), ('빡', 78), ('겟', 71), ('잼', 111), ('밟', 37), ('떵', 4), ('듣', 102), ('룡', 11), ('끄', 90), ('턴', 28), ('룸', 12), ('옷', 58), ('ㄲ', 43), ('뱉', 9), ('쉰', 28), ('뤼', 3), ('쨌', 8), ('낫', 89), ('냅', 41), ('탔', 4), ('뻘', 8), ('ㅁ', 41), ('ㅍ', 30), ('잰', 3), ('쩡', 20), ('셨', 158), ('픔', 6), ('핬', 1), ('쇄', 23), ('톡', 26), ('땡', 31), ('낚', 16), ('죤', 4), ('뀐', 7), ('쏟', 10), ('캬', 39), ('쁨', 26), ('흉', 78), ('빚', 7), ('됩', 47), ('겜', 13), ('옮', 21), ('쨰', 1), ('쿠', 25), ('쩍', 17), ('벼', 25), ('뀔', 5), ('릅', 17), ('푼', 11), ('셉', 14), ('링', 54), ('녕', 45), ('씸', 4), ('앱', 35), ('률', 47), ('둡', 2), ('몌', 1), ('붉', 2), ('랰', 2), ('흩', 2), ('굶', 17), ('춰', 31), ('튈', 3), ('폼', 11), ('엄', 179), ('깍', 5), ('빔', 11), ('쯧', 22), ('덤', 21), ('땜', 38), ('퇴', 78), ('탑', 30), ('젊', 47), ('ㅕ', 4), ('릇', 36), ('뜯', 33), ('캠', 10), ('쩜', 12), ('샘', 11), ('숭', 41), ('묻', 47), ('옺', 2), ('썻', 5), ('쫓', 22), ('묘', 32), ('엿', 24), ('쇠', 11), ('깃', 13), ('흐', 55), ('뎈', 3), ('웬', 13), ('혈', 49), ('큼', 87), ('듦', 3), ('킥', 15), ('빻', 38), ('얗', 7), ('딸', 107), ('돋', 20), ('톨', 23), ('펍', 2), ('찐', 51), ('뷔', 24), ('펙', 13), ('섰', 10), ('셀', 21), ('옹', 49), ('톱', 15), ('냈', 38), ('봇', 13), ('팡', 11), ('갚', 7), ('얻', 40), ('좁', 13), ('걔', 30), ('껄', 59), ('ㅠ', 891), ('썅', 13), ('쌩', 8), ('곱', 11), ('롱', 48), ('씁', 5), ('핑', 61), ('둔', 17), ('롭', 49), ('뻐', 50), ('혔', 25), ('ㅏ', 23), ('깽', 16), ('힙', 10), ('긋', 32), ('렌', 37), ('겐', 31), ('듬', 22), ('랫', 19), ('홀', 28), ('깔', 278), ('둬', 37), ('촉', 7), ('낼', 34), ('턱', 16), ('잃', 43), ('샤', 32), ('뜸', 3), ('캡', 12), ('첩', 26), ('꽤', 19), ('뭡', 4), ('딜', 33), ('낄', 30), ('ㄸ', 8), ('젖', 23), ('첫', 43), ('넫', 1), ('숩', 3), ('캭', 1), ('퉤', 10), ('짚', 9), ('펜', 22), ('갘', 5), ('컸', 5), ('첨', 47), ('꼈', 14), ('햣', 1), ('량', 41), ('삽', 10), ('흙', 19), ('즙', 4), ('풍', 63), ('넌', 32), ('겪', 20), ('젝', 20), ('쿄', 5), ('훨', 59), ('씬', 51), ('밌', 98), ('웅', 79), ('띡', 1), ('꿨', 6), ('컴', 32), ('갯', 3), ('싱', 31), ('벙', 11), ('즐', 69), ('닭', 47), ('띠', 14), ('훈', 100), ('쿨', 22), ('굿', 22), ('쁩', 2), ('잤', 2), ('땠', 5), ('뺴', 3), ('륜', 16), ('썸', 8), ('콧', 5), ('핏', 11), ('쫌', 25), ('덮', 16), ('늬', 7), ('쓱', 4), ('쳣', 9), ('뷰', 22), ('솤', 5), ('ㅗ', 21), ('댈', 9), ('뮤', 34), ('깁', 4), ('좇', 12), ('효', 52), ('싯', 4), ('긔', 4), ('잎', 2), ('찔', 20), ('왓', 7), ('뿌', 80), ('렉', 14), ('딨', 12), ('렵', 31), ('뱅', 30), ('뱃', 10), ('뎅', 9), ('웨', 41), ('뤄', 16), ('옥', 76), ('믄', 11), ('쿰', 18), ('컥', 11), ('앉', 35), ('쩐', 19), ('룩', 26), ('옳', 39), ('쥬', 13), ('텡', 2), ('칙', 27), ('썹', 7), ('쫘', 3), ('댐', 15), ('쭈', 14), ('렷', 18), ('묶', 14), ('밍', 26), ('엇', 65), ('틱', 6), ('끈', 23), ('굼', 6), ('툰', 7), ('씰', 1), ('앤', 16), ('텅', 13), ('촛', 35), ('벽', 51), ('쁠', 7), ('쳑', 1), ('쯔', 8), ('몫', 12), ('웝', 1), ('툼', 2), ('넼', 16), ('켓', 26), ('떄', 10), ('륙', 9), ('훤', 3), ('섻', 2), ('깈', 3), ('닷', 6), ('쭝', 4), ('궈', 20), ('쭌', 1), ('떴', 4), ('펴', 13), ('겉', 16), ('궤', 3), ('끗', 17), ('쫒', 13), ('뇨', 6), ('쉴', 15), ('잌', 2), ('귈', 1), ('퓨', 8), ('쌀', 18), ('램', 31), ('낱', 3), ('섞', 17), ('휘', 25), ('힐', 35), ('켈', 2), ('붕', 14), ('퉁', 4), ('떈', 2), ('랐', 63), ('곰', 11), ('랙', 14), ('혓', 1), ('꼼', 8), ('늦', 26), ('둠', 8), ('옵', 20), ('및', 18), ('롯', 20), ('삘', 6), ('폴', 18), ('룰', 7), ('훌', 30), ('륭', 29), ('탬', 3), ('닿', 12), ('뀜', 10), ('툭', 5), ('왐', 2), ('꿎', 3), ('굳', 48), ('낙', 66), ('쒸', 9), ('눔', 7), ('뎌', 10), ('뗀', 4), ('탱', 26), ('칭', 69), ('흔', 29), ('캄', 9), ('죵', 2), ('즌', 49), ('퍄', 33), ('꼰', 8), ('왠', 30), ('뭇', 10), ('롬', 21), ('훔', 11), ('줫', 8), ('뺏', 16), ('냨', 6), ('쉑', 2), ('겸', 20), ('짭', 16), ('팀', 60), ('뜩', 8), ('닝', 33), ('썬', 10), ('뇬', 8), ('귓', 3), ('죨', 1), ('댜', 3), ('엮', 20), ('밬', 3), ('랟', 2), ('렙', 13), ('헤', 67), ('쨔', 2), ('젭', 1), ('썪', 4), ('꽹', 1), ('밭', 6), ('냔', 12), ('읻', 1), ('푤', 1), ('쌈', 13), ('큭', 1), ('믾', 1), ('칸', 12), ('헷', 8), ('릭', 50), ('멧', 8), ('썼', 27), ('쯍', 1), ('찻', 6), ('쌉', 2), ('퀄', 8), ('밉', 3), ('샌', 13), ('몹', 4), ('껀', 14), ('빅', 23), ('듈', 1), ('찝', 5), ('웟', 2), ('앴', 1), ('딥', 1), ('웹', 11), ('콕', 5), ('컷', 44), ('핰', 2), ('츙', 2), ('맵', 5), ('웰', 7), ('듴', 1), ('귤', 4), ('앍', 2), ('왼', 11), ('갠', 2), ('윤', 58), ('챈', 1), ('셜', 11), ('퉷', 5), ('쪄', 13), ('셧', 11), ('핸', 17), ('뻥', 13), ('꺽', 6), ('졋', 10), ('햑', 1), ('멵', 1), ('꿘', 17), ('랭', 12), ('뽐', 4), ('댄', 11), ('왈', 16), ('콱', 2), ('쥰', 5), ('렜', 1), ('융', 3), ('쏙', 12), ('샀', 6), ('뉘', 6), ('밸', 7), ('걀', 3), ('캔', 10), ('졷', 6), ('욧', 6), ('팁', 13), ('챦', 2), ('앰', 13), ('볶', 9), ('캣', 4), ('섀', 1), ('랖', 2), ('삥', 3), ('껌', 5), ('꺠', 4), ('챱', 2), ('샅', 2), ('껐', 2), ('닼', 10), ('븐', 29), ('쵸', 2), ('겆', 1), ('됌', 6), ('픈', 23), ('칵', 2), ('ㅑ', 12), ('젔', 1), ('봣', 9), ('죳', 1), ('찿', 2), ('떳', 17), ('됏', 3), ('뢰', 11), ('갸', 2), ('팥', 3), ('큐', 23), ('겔', 4), ('눞', 1), ('꼐', 2), ('냇', 2), ('왘', 3), ('냣', 1), ('깎', 7), ('덧', 9), ('탉', 2), ('붓', 9), ('샾', 3), ('핫', 9), ('댸', 2), ('깰', 2), ('걋', 1), ('겧', 2), ('ㅄ', 10), ('멈', 18), ('뻗', 2), ('슐', 2), ('놌', 1), ('퀸', 4), ('엌', 15), ('뼈', 8), ('흡', 15), ('삯', 2), ('흰', 3), ('긍', 12), ('엠', 21), ('컵', 12), ('힣', 2), ('깊', 16), ('쫙', 3), ('랴', 8), ('헙', 2), ('쿡', 6), ('뻡', 1), ('엥', 13), ('홈', 20), ('녁', 9), ('뼛', 2), ('쟬', 2), ('럔', 2), ('먤', 1), ('삿', 7), ('딘', 20), ('굽', 7), ('쏘', 17), ('덴', 13), ('껰', 2), ('셤', 1), ('뎁', 3), ('딪', 4), ('샷', 6), ('켱', 1), ('넹', 12), ('뭄', 3), ('낑', 2), ('줍', 8), ('짢', 1), ('룹', 10), ('뛸', 3), ('츄', 11), ('앝', 1), ('넓', 15), ('럿', 27), ('ㅓ', 7), ('댘', 2), ('낰', 1), ('쫑', 4), ('솜', 7), ('헠', 4), ('넴', 4), ('눕', 2), ('뮨', 1), ('텀', 5), ('곷', 1), ('뽈', 2), ('땟', 2), ('겻', 12), ('앜', 8), ('흠', 13), ('셐', 2), ('눴', 1), ('틴', 35), ('깟', 4), ('얀', 7), ('녓', 1), ('걷', 20), ('뤘', 4), ('늠', 8), ('퓰', 4), ('렘', 5), ('낻', 1), ('딧', 2), ('쏜', 2), ('쿼', 8), ('륵', 2), ('뭣', 12), ('빗', 9), ('욥', 4), ('욜', 6), ('펼', 12), ('찼', 7), ('멎', 1), ('됴', 5), ('꽥', 8), ('쥣', 1), ('덥', 11), ('꽉', 7), ('삐', 17), ('윽', 23), ('엊', 4), ('훚', 1), ('앂', 3), ('댔', 3), ('숰', 1), ('쭉', 29), ('얕', 1), ('깡', 14), ('짘', 6), ('햄', 6), ('풋', 5), ('긁', 8), ('샛', 5), ('삻', 1), ('얇', 4), ('엒', 5), ('똘', 22), ('삔', 2), ('줜', 1), ('셰', 4), ('볍', 2), ('빳', 2), ('괙', 1), ('앢', 3), ('촘', 4), ('샹', 2), ('숲', 3), ('톤', 4), ('깥', 3), ('눙', 1), ('찡', 7), ('뵈', 6), ('샄', 1), ('욬', 2), ('톰', 2), ('쏴', 11), ('궐', 13), ('냠', 5), ('캥', 2), ('꿩', 2), ('쉿', 1), ('곽', 2), ('솓', 1), ('펀', 6), ('텨', 5), ('넨', 14), ('짠', 5), ('헴', 6), ('앎', 5), ('팟', 2), ('굔', 2), ('캅', 3), ('짊', 2), ('뗏', 1), ('촬', 15), ('먜', 2), ('걜', 1), ('툽', 2), ('랔', 3), ('텍', 4), ('읊', 1), ('븡', 1), ('죈', 2), ('쫩', 2), ('휩', 2), ('놧', 2), ('끠', 4), ('쟛', 1), ('맑', 9), ('팽', 9), ('쟎', 2), ('얍', 3), ('샵', 4), ('콸', 2), ('맍', 1), ('쟝', 4), ('찎', 1), ('엎', 6), ('텃', 1), ('돕', 11), ('쨋', 6), ('깉', 2), ('맺', 5), ('컹', 2), ('쟨', 2), ('팼', 4), ('몆', 1), ('뢀', 1), ('뿍', 2), ('킴', 8), ('밋', 14), ('숏', 11), ('핥', 3), ('젛', 1), ('퍽', 8), ('뽜', 1), ('눼', 2), ('갇', 4), ('팝', 9), ('줏', 5), ('뗌', 1), ('늚', 1), ('얺', 1), ('꾀', 3), ('켔', 1), ('맏', 3), ('횐', 1), ('뒀', 1), ('뗵', 1), ('츤', 3), ('벉', 1), ('쑴', 2), ('룻', 3), ('꺾', 3), ('맜', 2), ('템', 12), ('씽', 3), ('뾰', 3), ('픽', 25), ('즁', 2), ('밈', 3), ('벡', 2), ('듕', 1), ('팠', 4), ('꿉', 1), ('쭐', 2), ('팰', 6), ('쨈', 1), ('돠', 5), ('짞', 9), ('뼝', 1), ('맷', 2), ('훅', 4), ('뻤', 12), ('듀', 5), ('띈', 2), ('땀', 9), ('멜', 9), ('잍', 1), ('읶', 1), ('갬', 1), ('솟', 4), ('뀍', 2), ('뺑', 8), ('쌌', 2), ('갗', 1), ('뭍', 4), ('앳', 1), ('ㅒ', 1), ('섣', 1), ('빕', 8), ('팜', 2), ('팸', 1), ('딕', 3), ('껫', 1), ('셍', 4), ('샊', 1), ('훠', 3), ('귝', 2), ('샨', 1), ('꿰', 3), ('슙', 1), ('ㅛ', 13), ('믽', 1), ('캘', 1), ('닠', 3), ('퐁', 5), ('잭', 1), ('팻', 3), ('펠', 7), ('췌', 2), ('뺐', 4), ('휙', 3), ('뗄', 3), ('뜷', 1), ('얄', 5), ('숴', 3), ('떙', 1), ('껑', 2), ('핍', 1), ('쩨', 1), ('읎', 3), ('쌤', 11), ('췰', 1), ('햐', 4), ('볕', 2), ('칫', 4), ('꽈', 6), ('꽝', 3), ('쏭', 1), ('맟', 1), ('튭', 3), ('땬', 1), ('눜', 1), ('룬', 1), ('춴', 1), ('햰', 1), ('냼', 1), ('얚', 1), ('햬', 1), ('웻', 1), ('몀', 1), ('돐', 1), ('쒼', 1), ('앓', 2), ('캇', 1), ('싰', 1), ('얽', 1), ('갛', 1), ('킵', 2), ('겯', 1), ('켠', 3), ('뷴', 1), ('뚯', 1), ('잽', 1), ('쌘', 2), ('뗴', 1), ('뎀', 1), ('멤', 18), ('칩', 6), ('븍', 1), ('룐', 3), ('뿜', 3), ('끽', 3), ('튄', 3), ('뚤', 6), ('홉', 2), ('벵', 2), ('챤', 1), ('킁', 2), ('햠', 1), ('밧', 2), ('덟', 1), ('잴', 2), ('킼', 1), ('틐', 1), ('왁', 2), ('펌', 4), ('넉', 8), ('컫', 1), ('맣', 2), ('튐', 2), ('꼇', 2), ('줒', 1), ('굵', 1), ('놋', 1), ('셴', 4), ('릌', 1), ('웁', 4), ('슛', 3), ('섿', 1), ('캤', 1), ('얏', 2), ('챗', 1), ('켯', 2), ('뵐', 1), ('췄', 2), ('꺄', 6), ('왱', 2), ('짆', 1), ('낔', 1), ('얜', 2), ('릫', 1), ('젼', 6), ('쫀', 2), ('늒', 1), ('옇', 1), ('쬐', 4), ('갹', 1), ('훗', 3), ('뤀', 1), ('쿤', 2), ('딤', 1), ('멱', 1), ('섴', 1), ('뛴', 3), ('깞', 1), ('켬', 1), ('롹', 1), ('횟', 4), ('늑', 1), ('챠', 1), ('쩅', 1), ('쐈', 1), ('쭤', 1), ('혾', 1), ('볺', 1), ('몃', 1), ('똠', 1), ('닳', 1), ('웍', 2), ('앚', 2), ('뀨', 1), ('솥', 4), ('꾹', 3), ('깬', 2), ('뎄', 1), ('뿠', 1), ('핌', 1), ('젴', 2), ('썽', 2), ('넛', 1), ('찟', 1), ('겋', 1), ('츳', 2), ('쑥', 2), ('짦', 1), ('럇', 1), ('옐', 1), ('딛', 2), ('쥔', 3), ('뺀', 4), ('땄', 4), ('큽', 2), ('횔', 1), ('넥', 8), ('욨', 1), ('뗐', 1), ('륨', 2), ('땃', 2), ('훳', 3), ('슘', 1), ('퀵', 1), ('낢', 1), ('싢', 1), ('듄', 1), ('뭨', 1), ('랗', 3), ('슼', 1), ('텋', 1), ('텄', 1), ('헝', 3), ('쨩', 1), ('괸', 1), ('벚', 3), ('끙', 2), ('삑', 1), ('툴', 1), ('뿡', 1), ('쩝', 7), ('윳', 2), ('슝', 1), ('뷷', 1), ('얔', 1), ('겊', 1), ('벳', 3), ('촠', 1), ('쳌', 1), ('껳', 1), ('욀', 1), ('쑨', 2), ('켤', 1), ('캉', 1), ('왬', 1), ('됀', 1), ('듸', 3), ('윀', 1), ('깅', 1), ('곸', 1), ('짇', 1), ('넙', 2), ('쟜', 1), ('쬬', 1), ('뮈', 1), ('뷩', 1), ('뺘', 1), ('줮', 1), ('겅', 1), ('핼', 2), ('닺', 2), ('돗', 1), ('뺌', 1), ('듓', 1), ('빧', 1), ('쇳', 1), ('짲', 1), ('킷', 1), ('뭬', 1), ('궜', 1), ('긐', 1), ('넵', 1), ('쨥', 1), ('띤', 1), ('뱡', 1), ('졓', 1), ('붐', 7), ('홨', 1), ('춥', 9), ('뇽', 2), ('뻬', 1), ('첼', 8), ('뉠', 1), ('헿', 1), ('뵙', 1), ('맴', 2), ('챔', 5), ('웡', 2), ('듵', 1), ('쑵', 2), ('쵝', 4), ('뵜', 1), ('탶', 1), ('둿', 1), ('곀', 1), ('쥑', 2), ('퇄', 1), ('첸', 1), ('긱', 2), ('랲', 2), ('튤', 1), ('욤', 5), ('횽', 1), ('밎', 1), ('륩', 1), ('찹', 1), ('졍', 2), ('횃', 6), ('휼', 1), ('큿', 1), ('뵨', 1), ('욯', 1), ('롷', 1), ('셸', 1), ('둣', 2), ('댯', 1), ('줠', 1), ('콰', 2), ('옌', 1), ('틋', 2), ('펫', 1), ('헸', 1), ('젬', 1), ('좈', 1), ('솨', 6), ('뿅', 1), ('큡', 1), ('뽁', 1), ('댁', 6), ('푠', 1), ('ㄳ', 1), ('낍', 1), ('윌', 1), ('뀝', 1), ('탴', 1), ('믈', 1), ('쉭', 1), ('쨴', 1), ('헥', 2), ('쿱', 1), ('쉼', 1), ('쥴', 1), ('믓', 1), ('앀', 1), ('뺄', 2), ('촤', 1), ('퉜', 1), ('짗', 1), ('깠', 1), ('툇', 1), ('뮌', 1), ('늗', 1), ('읗', 1), ('꺵', 1), ('꿋', 1), ('셩', 1), ('뼘', 1), ('맀', 1), ('곪', 1), ('묭', 1), ('띌', 1), ('딮', 1), ('맄', 1), ('늉', 1), ('횰', 1), ('쨍', 2), ('샐', 1), ('퀘', 1), ('웤', 1), ('짙', 1), ('켁', 3), ('늄', 1), ('켐', 1), ('콥', 1), ('헣', 1)])\n"
     ]
    }
   ],
   "source": [
    "print(tokenizer.word_counts.items())"
   ]
  },
  {
   "cell_type": "code",
   "execution_count": 35,
   "metadata": {
    "colab": {
     "base_uri": "https://localhost:8080/"
    },
    "id": "UsHlGUSepYHk",
    "outputId": "0c04192d-16e4-4fb1-de53-2129458486c3"
   },
   "outputs": [
    {
     "name": "stdout",
     "output_type": "stream",
     "text": [
      "단어 집합(vocabulary)의 크기 : 1918\n",
      "등장 빈도가 2번 이하인 희귀 단어의 수: 466\n",
      "단어 집합에서 희귀 단어의 비율: 24.29614181438999\n",
      "전체 등장 빈도에서 희귀 단어 등장 빈도 비율: 0.08523335547662053\n"
     ]
    }
   ],
   "source": [
    "threshold = 3\n",
    "total_cnt = len(tokenizer.word_index) # 단어의 수\n",
    "rare_cnt = 0 # 등장 빈도수가 threshold보다 작은 단어의 개수를 카운트\n",
    "total_freq = 0 # 훈련 데이터의 전체 단어 빈도수 총 합\n",
    "rare_freq = 0 # 등장 빈도수가 threshold보다 작은 단어의 등장 빈도수의 총 합\n",
    "\n",
    "# 단어와 빈도수의 쌍(pair)을 key와 value로 받는다.\n",
    "for key, value in tokenizer.word_counts.items():\n",
    "    total_freq = total_freq + value\n",
    "\n",
    "    # 단어의 등장 빈도수가 threshold보다 작으면\n",
    "    if(value < threshold):\n",
    "        rare_cnt = rare_cnt + 1\n",
    "        rare_freq = rare_freq + value\n",
    "\n",
    "print('단어 집합(vocabulary)의 크기 :',total_cnt)\n",
    "print('등장 빈도가 %s번 이하인 희귀 단어의 수: %s'%(threshold - 1, rare_cnt))\n",
    "print(\"단어 집합에서 희귀 단어의 비율:\", (rare_cnt / total_cnt)*100)\n",
    "print(\"전체 등장 빈도에서 희귀 단어 등장 빈도 비율:\", (rare_freq / total_freq)*100)"
   ]
  },
  {
   "cell_type": "code",
   "execution_count": 36,
   "metadata": {
    "colab": {
     "base_uri": "https://localhost:8080/"
    },
    "id": "yWBE_pZlszWu",
    "outputId": "ee6977d8-cdb7-456a-bd4c-ac00141fbd57"
   },
   "outputs": [
    {
     "name": "stdout",
     "output_type": "stream",
     "text": [
      "단어 집합의 크기 : 1453\n"
     ]
    }
   ],
   "source": [
    "vocab_size = total_cnt - rare_cnt + 1\n",
    "print('단어 집합의 크기 :',vocab_size)"
   ]
  },
  {
   "cell_type": "code",
   "execution_count": 37,
   "metadata": {
    "id": "pFPM7drbqGEz"
   },
   "outputs": [],
   "source": [
    "tokenizer = Tokenizer(vocab_size) # 빈도수 2 이하인 단어는 제거\n",
    "tokenizer.fit_on_texts(X_train)\n",
    "X_train = tokenizer.texts_to_sequences(X_train)\n",
    "X_test = tokenizer.texts_to_sequences(X_test)"
   ]
  },
  {
   "cell_type": "code",
   "execution_count": 38,
   "metadata": {
    "id": "9pAvQvpo_Acb"
   },
   "outputs": [],
   "source": [
    "y_train = np.array(train_data['target'])\n",
    "y_test = np.array(test_data['target'])"
   ]
  },
  {
   "cell_type": "code",
   "execution_count": 39,
   "metadata": {
    "colab": {
     "base_uri": "https://localhost:8080/"
    },
    "id": "MGCTzFOJ_tpC",
    "outputId": "8280c415-2c07-4d45-99cd-23f0a21b98ec"
   },
   "outputs": [
    {
     "name": "stdout",
     "output_type": "stream",
     "text": [
      "22479\n",
      "22479\n"
     ]
    }
   ],
   "source": [
    "print(len(X_train))\n",
    "print(len(y_train))"
   ]
  },
  {
   "cell_type": "code",
   "execution_count": 40,
   "metadata": {
    "colab": {
     "base_uri": "https://localhost:8080/"
    },
    "id": "T-jxCOg4ra7i",
    "outputId": "83a8af9e-b3b6-4cc6-e984-c4dabc7b101a"
   },
   "outputs": [
    {
     "name": "stdout",
     "output_type": "stream",
     "text": [
      "[[52, 54, 7, 5, 1, 36, 120, 22, 1, 534, 6, 212, 21, 20, 1, 31, 114, 25, 1, 12, 641, 78], [12, 75, 51, 325, 288, 129, 1, 171, 11, 186, 5, 1, 19, 454, 127, 1, 787, 21, 233, 1, 191, 100, 126, 1, 6, 185, 1, 159, 5, 4, 1, 56, 169, 304, 1, 422, 1, 189, 254, 2, 4, 1, 1, 78, 8, 1, 1, 491, 21, 8, 6, 1, 335, 243, 1, 147, 506, 22, 1, 1, 4], [375, 13, 1, 462, 26, 1187, 325, 1, 13, 410, 35, 1, 123, 58, 178, 1, 261, 91, 1, 19, 164, 1, 46, 143, 96, 1, 196, 196, 1, 1, 1, 1, 1, 61, 115, 1, 839, 689, 122, 1, 484, 1, 9, 21, 32, 1071]]\n"
     ]
    }
   ],
   "source": [
    "print(X_train[:3])"
   ]
  },
  {
   "cell_type": "code",
   "execution_count": 41,
   "metadata": {
    "id": "M_k8SQCH9BLY"
   },
   "outputs": [],
   "source": [
    "drop_train = [index for index, sentence in enumerate(X_train) if len(sentence) < 1]\n",
    "drop_test = [index for index, sentence in enumerate(X_test) if len(sentence) < 1]"
   ]
  },
  {
   "cell_type": "code",
   "execution_count": 42,
   "metadata": {
    "colab": {
     "base_uri": "https://localhost:8080/"
    },
    "id": "Aq_nvde69G-n",
    "outputId": "e2420a49-e1ff-4bdd-9cc1-952057b6722a"
   },
   "outputs": [
    {
     "name": "stdout",
     "output_type": "stream",
     "text": [
      "[]\n"
     ]
    }
   ],
   "source": [
    "print(drop_train)"
   ]
  },
  {
   "cell_type": "code",
   "execution_count": 43,
   "metadata": {
    "colab": {
     "base_uri": "https://localhost:8080/"
    },
    "id": "G-iV5ZGw9Luf",
    "outputId": "2004ec61-23b0-48ca-96fb-2f37e4976899"
   },
   "outputs": [
    {
     "data": {
      "text/plain": [
       "0"
      ]
     },
     "execution_count": 43,
     "metadata": {},
     "output_type": "execute_result"
    }
   ],
   "source": [
    "len(drop_train)"
   ]
  },
  {
   "cell_type": "code",
   "execution_count": 44,
   "metadata": {
    "colab": {
     "base_uri": "https://localhost:8080/"
    },
    "id": "AwHbwYxP9NN9",
    "outputId": "350a1000-0d09-4150-ed4a-5d3f05d64c69"
   },
   "outputs": [
    {
     "name": "stderr",
     "output_type": "stream",
     "text": [
      "C:\\Users\\jisoo\\anaconda3\\lib\\site-packages\\numpy\\core\\_asarray.py:83: VisibleDeprecationWarning: Creating an ndarray from ragged nested sequences (which is a list-or-tuple of lists-or-tuples-or ndarrays with different lengths or shapes) is deprecated. If you meant to do this, you must specify 'dtype=object' when creating the ndarray\n",
      "  return array(a, dtype, copy=False, order=order)\n"
     ]
    }
   ],
   "source": [
    "X_train = np.delete(X_train, drop_train, axis=0)\n",
    "y_train = np.delete(y_train, drop_train, axis=0)"
   ]
  },
  {
   "cell_type": "code",
   "execution_count": 45,
   "metadata": {
    "colab": {
     "base_uri": "https://localhost:8080/"
    },
    "id": "s3YMzyGM_DAf",
    "outputId": "9eae5298-c53f-4591-f0c1-6020a9696985"
   },
   "outputs": [
    {
     "name": "stdout",
     "output_type": "stream",
     "text": [
      "22479\n",
      "22479\n"
     ]
    }
   ],
   "source": [
    "print(len(X_train))\n",
    "print(len(y_train))"
   ]
  },
  {
   "cell_type": "code",
   "execution_count": 46,
   "metadata": {
    "colab": {
     "base_uri": "https://localhost:8080/"
    },
    "id": "yqRWvf59J-Tk",
    "outputId": "cd014884-a53c-44b6-9433-0b916c378940"
   },
   "outputs": [
    {
     "name": "stdout",
     "output_type": "stream",
     "text": [
      "5592\n",
      "5592\n"
     ]
    }
   ],
   "source": [
    "print(len(X_test))\n",
    "print(len(y_test))"
   ]
  },
  {
   "cell_type": "code",
   "execution_count": 47,
   "metadata": {
    "colab": {
     "base_uri": "https://localhost:8080/"
    },
    "id": "B7A7iBA0KBpR",
    "outputId": "f359f1be-f94b-4525-9ba8-be007916a051"
   },
   "outputs": [],
   "source": [
    "X_test = np.delete(X_test, drop_test, axis=0)"
   ]
  },
  {
   "cell_type": "code",
   "execution_count": 48,
   "metadata": {
    "id": "FPUtE1I6N40N"
   },
   "outputs": [],
   "source": [
    "y_test = np.delete(y_test, drop_test, axis=0)"
   ]
  },
  {
   "cell_type": "code",
   "execution_count": 49,
   "metadata": {
    "colab": {
     "base_uri": "https://localhost:8080/"
    },
    "id": "y1mB7XX_KF09",
    "outputId": "bfb692c9-8f8a-4af6-eec1-e30bcbc588f7"
   },
   "outputs": [
    {
     "name": "stdout",
     "output_type": "stream",
     "text": [
      "5592\n",
      "5592\n"
     ]
    }
   ],
   "source": [
    "print(len(X_test))\n",
    "print(len(y_test))"
   ]
  },
  {
   "cell_type": "code",
   "execution_count": 50,
   "metadata": {
    "colab": {
     "base_uri": "https://localhost:8080/",
     "height": 314
    },
    "id": "j6kcy8AKreKv",
    "outputId": "e9ffa1a1-c8e9-4c61-d573-151dea63fe3a"
   },
   "outputs": [
    {
     "name": "stdout",
     "output_type": "stream",
     "text": [
      "문장의 최대 길이 : 179\n",
      "문장의 평균 길이 : 32.38431424885449\n"
     ]
    },
    {
     "data": {
      "image/png": "[encoded data removed]",
      "text/plain": [
       "<Figure size 432x288 with 1 Axes>"
      ]
     },
     "metadata": {
      "needs_background": "light"
     },
     "output_type": "display_data"
    }
   ],
   "source": [
    "print('문장의 최대 길이 :',max(len(l) for l in X_train))\n",
    "print('문장의 평균 길이 :',sum(map(len, X_train))/len(X_train))\n",
    "plt.hist([len(s) for s in X_train], bins=50)\n",
    "plt.xlabel('length of samples')\n",
    "plt.ylabel('number of samples')\n",
    "plt.show()"
   ]
  },
  {
   "cell_type": "code",
   "execution_count": 51,
   "metadata": {
    "id": "yFDDvQy2FlZK"
   },
   "outputs": [],
   "source": [
    "def below_threshold_len(max_len, nested_list):\n",
    "  cnt = 0\n",
    "  for s in nested_list:\n",
    "    if(len(s) <= max_len):\n",
    "        cnt = cnt + 1\n",
    "  print('전체 샘플 중 길이가 %s 이하인 샘플의 비율: %s'%(max_len, (cnt / len(nested_list))*100))"
   ]
  },
  {
   "cell_type": "code",
   "execution_count": 52,
   "metadata": {
    "colab": {
     "base_uri": "https://localhost:8080/"
    },
    "id": "x0njO96tFw1f",
    "outputId": "d0ff9f06-5cf2-4903-9e84-1507372fe704"
   },
   "outputs": [
    {
     "name": "stdout",
     "output_type": "stream",
     "text": [
      "전체 샘플 중 길이가 100 이하인 샘플의 비율: 97.01944036656435\n"
     ]
    }
   ],
   "source": [
    "max_len = 100\n",
    "below_threshold_len(max_len, X_train)"
   ]
  },
  {
   "cell_type": "code",
   "execution_count": 53,
   "metadata": {
    "id": "iIgJvzh2rhug"
   },
   "outputs": [],
   "source": [
    "# 전체 데이터의 길이는 100으로 맞춘다.\n",
    "X_train = pad_sequences(X_train, maxlen = max_len)\n",
    "X_test = pad_sequences(X_test, maxlen = max_len)"
   ]
  },
  {
   "cell_type": "markdown",
   "metadata": {
    "id": "u3-i8XV-e1Sz"
   },
   "source": [
    "# 2. Multi-Kernel 1D CNN으로 혐오 발언 분류하기"
   ]
  },
  {
   "cell_type": "code",
   "execution_count": 54,
   "metadata": {
    "id": "NColEfDn5C_K"
   },
   "outputs": [],
   "source": [
    "from tensorflow.keras.models import Sequential, Model\n",
    "from tensorflow.keras.layers import Embedding, Dropout, Conv1D, GlobalMaxPooling1D, Dense, Input, Flatten, Concatenate\n",
    "from tensorflow.keras.callbacks import EarlyStopping, ModelCheckpoint\n",
    "from tensorflow.keras.models import load_model"
   ]
  },
  {
   "cell_type": "code",
   "execution_count": 55,
   "metadata": {
    "id": "3aGOyv985GYH"
   },
   "outputs": [],
   "source": [
    "embedding_dim = 128\n",
    "dropout_ratio = (0.5, 0.8)\n",
    "num_filters = 128\n",
    "hidden_units = 128"
   ]
  },
  {
   "cell_type": "code",
   "execution_count": 56,
   "metadata": {
    "id": "B6nEH8bdvzFt"
   },
   "outputs": [],
   "source": [
    "model_input = Input(shape = (max_len,))\n",
    "z = Embedding(vocab_size, embedding_dim, input_length = max_len, name=\"embedding\")(model_input)\n",
    "z = Dropout(dropout_ratio[0])(z)"
   ]
  },
  {
   "cell_type": "code",
   "execution_count": 57,
   "metadata": {
    "id": "7SHHUilxFB3Z"
   },
   "outputs": [],
   "source": [
    "conv_blocks = []\n",
    "\n",
    "for sz in [3, 4, 5]:\n",
    "    conv = Conv1D(filters = num_filters,\n",
    "                         kernel_size = sz,\n",
    "                         padding = \"valid\",\n",
    "                         activation = \"relu\",\n",
    "                         strides = 1)(z)\n",
    "    conv = GlobalMaxPooling1D()(conv)\n",
    "    conv_blocks.append(conv)"
   ]
  },
  {
   "cell_type": "code",
   "execution_count": 58,
   "metadata": {
    "id": "Iva8x8Gr-W7w"
   },
   "outputs": [],
   "source": [
    "z = Concatenate()(conv_blocks) if len(conv_blocks) > 1 else conv_blocks[0]\n",
    "z = Dropout(dropout_ratio[1])(z)\n",
    "z = Dense(hidden_units, activation=\"relu\")(z)\n",
    "model_output = Dense(1, activation=\"sigmoid\")(z)\n",
    "\n",
    "model = Model(model_input, model_output)\n",
    "model.compile(loss=\"binary_crossentropy\", optimizer=\"adam\", metrics=[\"acc\"])"
   ]
  },
  {
   "cell_type": "code",
   "execution_count": 59,
   "metadata": {},
   "outputs": [
    {
     "name": "stdout",
     "output_type": "stream",
     "text": [
      "Model: \"model\"\n",
      "__________________________________________________________________________________________________\n",
      "Layer (type)                    Output Shape         Param #     Connected to                     \n",
      "==================================================================================================\n",
      "input_1 (InputLayer)            [(None, 100)]        0                                            \n",
      "__________________________________________________________________________________________________\n",
      "embedding (Embedding)           (None, 100, 128)     185984      input_1[0][0]                    \n",
      "__________________________________________________________________________________________________\n",
      "dropout (Dropout)               (None, 100, 128)     0           embedding[0][0]                  \n",
      "__________________________________________________________________________________________________\n",
      "conv1d (Conv1D)                 (None, 98, 128)      49280       dropout[0][0]                    \n",
      "__________________________________________________________________________________________________\n",
      "conv1d_1 (Conv1D)               (None, 97, 128)      65664       dropout[0][0]                    \n",
      "__________________________________________________________________________________________________\n",
      "conv1d_2 (Conv1D)               (None, 96, 128)      82048       dropout[0][0]                    \n",
      "__________________________________________________________________________________________________\n",
      "global_max_pooling1d (GlobalMax (None, 128)          0           conv1d[0][0]                     \n",
      "__________________________________________________________________________________________________\n",
      "global_max_pooling1d_1 (GlobalM (None, 128)          0           conv1d_1[0][0]                   \n",
      "__________________________________________________________________________________________________\n",
      "global_max_pooling1d_2 (GlobalM (None, 128)          0           conv1d_2[0][0]                   \n",
      "__________________________________________________________________________________________________\n",
      "concatenate (Concatenate)       (None, 384)          0           global_max_pooling1d[0][0]       \n",
      "                                                                 global_max_pooling1d_1[0][0]     \n",
      "                                                                 global_max_pooling1d_2[0][0]     \n",
      "__________________________________________________________________________________________________\n",
      "dropout_1 (Dropout)             (None, 384)          0           concatenate[0][0]                \n",
      "__________________________________________________________________________________________________\n",
      "dense (Dense)                   (None, 128)          49280       dropout_1[0][0]                  \n",
      "__________________________________________________________________________________________________\n",
      "dense_1 (Dense)                 (None, 1)            129         dense[0][0]                      \n",
      "==================================================================================================\n",
      "Total params: 432,385\n",
      "Trainable params: 432,385\n",
      "Non-trainable params: 0\n",
      "__________________________________________________________________________________________________\n"
     ]
    }
   ],
   "source": [
    "# import visualkeras\n",
    "# visualkeras.layered_view(model, legend=True)\n",
    "model.summary()"
   ]
  },
  {
   "cell_type": "code",
   "execution_count": 61,
   "metadata": {
    "colab": {
     "base_uri": "https://localhost:8080/"
    },
    "id": "eOenyOoS_Qt5",
    "outputId": "9e951809-85e8-473c-b1aa-62b9c4dbd09c"
   },
   "outputs": [
    {
     "name": "stdout",
     "output_type": "stream",
     "text": [
      "Epoch 1/10\n",
      "281/281 - 25s - loss: 0.3062 - acc: 0.8652 - val_loss: 0.4471 - val_acc: 0.7800\n",
      "\n",
      "Epoch 00001: val_acc improved from -inf to 0.78003, saving model to CNN_model_1.h5\n",
      "Epoch 2/10\n",
      "281/281 - 26s - loss: 0.2974 - acc: 0.8717 - val_loss: 0.3870 - val_acc: 0.8174\n",
      "\n",
      "Epoch 00002: val_acc improved from 0.78003 to 0.81739, saving model to CNN_model_1.h5\n",
      "Epoch 3/10\n",
      "281/281 - 25s - loss: 0.2903 - acc: 0.8746 - val_loss: 0.3927 - val_acc: 0.8074\n",
      "\n",
      "Epoch 00003: val_acc did not improve from 0.81739\n",
      "Epoch 4/10\n",
      "281/281 - 14s - loss: 0.2794 - acc: 0.8784 - val_loss: 0.4330 - val_acc: 0.7956\n",
      "\n",
      "Epoch 00004: val_acc did not improve from 0.81739\n",
      "Epoch 5/10\n",
      "281/281 - 14s - loss: 0.2776 - acc: 0.8801 - val_loss: 0.4524 - val_acc: 0.7943\n",
      "\n",
      "Epoch 00005: val_acc did not improve from 0.81739\n",
      "Epoch 6/10\n",
      "281/281 - 15s - loss: 0.2709 - acc: 0.8827 - val_loss: 0.4504 - val_acc: 0.7843\n",
      "\n",
      "Epoch 00006: val_acc did not improve from 0.81739\n",
      "Epoch 00006: early stopping\n"
     ]
    },
    {
     "data": {
      "text/plain": [
       "<tensorflow.python.keras.callbacks.History at 0x1fe1da6da60>"
      ]
     },
     "execution_count": 61,
     "metadata": {},
     "output_type": "execute_result"
    }
   ],
   "source": [
    "es = EarlyStopping(monitor='val_loss', mode='min', verbose=1, patience=4)\n",
    "mc = ModelCheckpoint('CNN_model_1.h5', monitor='val_acc', mode='max', verbose=1, save_best_only=True)\n",
    "\n",
    "model.fit(X_train, y_train, batch_size = 64, epochs=10, validation_split = 0.2, verbose=2, callbacks=[es, mc])"
   ]
  },
  {
   "cell_type": "code",
   "execution_count": 62,
   "metadata": {
    "colab": {
     "base_uri": "https://localhost:8080/"
    },
    "id": "KrMWX0zhq5GK",
    "outputId": "7fa0eb05-a705-4a7a-848c-c3940f2df766",
    "scrolled": true
   },
   "outputs": [
    {
     "name": "stdout",
     "output_type": "stream",
     "text": [
      "175/175 [==============================] - 1s 6ms/step - loss: 0.3647 - acc: 0.8439\n",
      "\n",
      " 테스트 정확도: 0.8439\n"
     ]
    }
   ],
   "source": [
    "loaded_model = load_model('CNN_model_1.h5')\n",
    "print(\"\\n 테스트 정확도: %.4f\" % (loaded_model.evaluate(X_test, y_test)[1]))"
   ]
  },
  {
   "cell_type": "code",
   "execution_count": 63,
   "metadata": {
    "scrolled": true
   },
   "outputs": [
    {
     "name": "stdout",
     "output_type": "stream",
     "text": [
      "AUC :  0.7203570149406467\n",
      "Precision Score :  0.8239078902810701\n",
      "f1 Score :  0.8458195723970103\n"
     ]
    }
   ],
   "source": [
    "from sklearn.metrics import precision_score, recall_score, f1_score, accuracy_score\n",
    "from sklearn.linear_model import LogisticRegression\n",
    "from sklearn.metrics import roc_auc_score\n",
    "\n",
    "clf = LogisticRegression(solver=\"liblinear\", random_state=0).fit(X_test, y_test)\n",
    "\n",
    "# roc_auc_score(y_test, clf.predict_proba(X_test)[:, 1]) \n",
    "AUC = roc_auc_score(y_test, clf.decision_function(X_test))     \n",
    "\n",
    "y_pred = model.predict(X_test)\n",
    "precision = precision_score(y_test, np.round(abs(y_pred))) \n",
    "f1 = f1_score(y_test, np.round(abs(y_pred))) \n",
    "\n",
    "print(\"AUC : \", AUC)\n",
    "print(\"Precision Score : \", precision)\n",
    "print(\"f1 Score : \", f1)"
   ]
  },
  {
   "cell_type": "markdown",
   "metadata": {
    "id": "ZxxfEXcWe3Pi"
   },
   "source": [
    "# 3. 혐오 발언 예측해보기"
   ]
  },
  {
   "cell_type": "code",
   "execution_count": 64,
   "metadata": {
    "id": "vbvk5X3PPExa"
   },
   "outputs": [],
   "source": [
    "def sentiment_predict(new_sentence):\n",
    "  new_sentence = re.sub(r'[^ㄱ-ㅎㅏ-ㅣ가-힣 ]','', new_sentence)\n",
    "  new_sentence = okt.morphs(new_sentence, stem=True) # 토큰화\n",
    "  new_sentence = [word for word in new_sentence if not word in stopwords] # 불용어 제거\n",
    "  encoded = tokenizer.texts_to_sequences([new_sentence]) # 정수 인코딩\n",
    "  pad_new = pad_sequences(encoded, maxlen = max_len) # 패딩\n",
    "  score = float(loaded_model.predict(pad_new)) # 예측\n",
    "  if(score > 0.5):\n",
    "    print(\"{:.2f}% 확률로 혐오 발언입니다.\\n\".format(score * 100))\n",
    "  else:\n",
    "    print(\"{:.2f}% 확률로 일반 발언입니다.\\n\".format((1 - score) * 100))"
   ]
  },
  {
   "cell_type": "code",
   "execution_count": 65,
   "metadata": {
    "colab": {
     "base_uri": "https://localhost:8080/"
    },
    "id": "tFC0qDlO28Zg",
    "outputId": "4899e581-ca91-4fbc-de8d-943b6e3dfabd"
   },
   "outputs": [
    {
     "name": "stdout",
     "output_type": "stream",
     "text": [
      "80.55% 확률로 일반 발언입니다.\n",
      "\n"
     ]
    }
   ],
   "source": [
    "sentiment_predict('아이스크림 먹고싶다')"
   ]
  },
  {
   "cell_type": "code",
   "execution_count": 66,
   "metadata": {
    "colab": {
     "base_uri": "https://localhost:8080/"
    },
    "id": "s4v-MwEB29Vk",
    "outputId": "523bbb10-783e-4bc3-b2f2-c3b00e4f2307"
   },
   "outputs": [
    {
     "name": "stdout",
     "output_type": "stream",
     "text": [
      "76.63% 확률로 일반 발언입니다.\n",
      "\n"
     ]
    }
   ],
   "source": [
    "sentiment_predict('야 이 나쁜 놈아')"
   ]
  },
  {
   "cell_type": "code",
   "execution_count": null,
   "metadata": {},
   "outputs": [],
   "source": []
  }
 ],
 "metadata": {
  "accelerator": "GPU",
  "colab": {
   "collapsed_sections": [],
   "name": "Naver Movie Review Sentiment Analysis using Multi-Kernel 1D CNN.ipynb",
   "provenance": []
  },
  "kernelspec": {
   "display_name": "Python 3",
   "language": "python",
   "name": "python3"
  },
  "language_info": {
   "codemirror_mode": {
    "name": "ipython",
    "version": 3
   },
   "file_extension": ".py",
   "mimetype": "text/x-python",
   "name": "python",
   "nbconvert_exporter": "python",
   "pygments_lexer": "ipython3",
   "version": "3.8.8"
  }
 },
 "nbformat": 4,
 "nbformat_minor": 1
}
