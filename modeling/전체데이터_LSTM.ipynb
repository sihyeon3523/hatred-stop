{
 "cells": [
  {
   "cell_type": "code",
   "execution_count": 25,
   "id": "ef11fce4",
   "metadata": {},
   "outputs": [],
   "source": [
    "import pandas as pd\n",
    "import numpy as np\n",
    "\n",
    "from collections import Counter\n",
    "from konlpy.tag import Okt\n",
    "from sklearn.model_selection import train_test_split\n",
    "from tensorflow.keras.preprocessing.text import Tokenizer\n",
    "from tensorflow.keras.preprocessing.sequence import pad_sequences\n",
    "\n",
    "from sklearn.feature_extraction.text import TfidfVectorizer\n",
    "from tensorflow.keras.models import load_model\n",
    "\n",
    "from tensorflow.keras.layers import Embedding, Dense, LSTM, Bidirectional\n",
    "from tensorflow.keras.models import Sequential\n",
    "from tensorflow.keras.models import load_model\n",
    "from tensorflow.keras.callbacks import EarlyStopping, ModelCheckpoint"
   ]
  },
  {
   "cell_type": "code",
   "execution_count": 2,
   "id": "6a5cea2d",
   "metadata": {},
   "outputs": [],
   "source": [
    "df_train = pd.read_csv(\"korean_unsmile_dataset-main/unsmile_train_new.csv\")\n",
    "df_test = pd.read_csv(\"korean_unsmile_dataset-main/unsmile_valid_new.csv\")"
   ]
  },
  {
   "cell_type": "code",
   "execution_count": 5,
   "id": "ba872646",
   "metadata": {},
   "outputs": [
    {
     "name": "stdout",
     "output_type": "stream",
     "text": [
      "<class 'pandas.core.frame.DataFrame'>\n",
      "RangeIndex: 22532 entries, 0 to 22531\n",
      "Data columns (total 2 columns):\n",
      " #   Column  Non-Null Count  Dtype \n",
      "---  ------  --------------  ----- \n",
      " 0   문장      22532 non-null  object\n",
      " 1   target  22532 non-null  int64 \n",
      "dtypes: int64(1), object(1)\n",
      "memory usage: 352.2+ KB\n"
     ]
    }
   ],
   "source": [
    "df_train.info()"
   ]
  },
  {
   "cell_type": "code",
   "execution_count": 6,
   "id": "7b725f8e",
   "metadata": {},
   "outputs": [
    {
     "name": "stdout",
     "output_type": "stream",
     "text": [
      "<class 'pandas.core.frame.DataFrame'>\n",
      "RangeIndex: 5604 entries, 0 to 5603\n",
      "Data columns (total 2 columns):\n",
      " #   Column  Non-Null Count  Dtype \n",
      "---  ------  --------------  ----- \n",
      " 0   문장      5604 non-null   object\n",
      " 1   target  5604 non-null   int64 \n",
      "dtypes: int64(1), object(1)\n",
      "memory usage: 87.7+ KB\n"
     ]
    }
   ],
   "source": [
    "df_test.info()"
   ]
  },
  {
   "cell_type": "code",
   "execution_count": 7,
   "id": "477eec19",
   "metadata": {},
   "outputs": [
    {
     "data": {
      "text/html": [
       "<div>\n",
       "<style scoped>\n",
       "    .dataframe tbody tr th:only-of-type {\n",
       "        vertical-align: middle;\n",
       "    }\n",
       "\n",
       "    .dataframe tbody tr th {\n",
       "        vertical-align: top;\n",
       "    }\n",
       "\n",
       "    .dataframe thead th {\n",
       "        text-align: right;\n",
       "    }\n",
       "</style>\n",
       "<table border=\"1\" class=\"dataframe\">\n",
       "  <thead>\n",
       "    <tr style=\"text-align: right;\">\n",
       "      <th></th>\n",
       "      <th>문장</th>\n",
       "      <th>target</th>\n",
       "    </tr>\n",
       "  </thead>\n",
       "  <tbody>\n",
       "    <tr>\n",
       "      <th>0</th>\n",
       "      <td>일안하는 시간은 쉬고싶어서 그런게 아닐까</td>\n",
       "      <td>0</td>\n",
       "    </tr>\n",
       "    <tr>\n",
       "      <th>1</th>\n",
       "      <td>아동성범죄와 페도버는 기록바 끊어져 영원히 고통 받는다. 무슬림 50퍼 근친이다. ...</td>\n",
       "      <td>1</td>\n",
       "    </tr>\n",
       "    <tr>\n",
       "      <th>2</th>\n",
       "      <td>루나 솔로앨범 나왔을 때부터 머모 기운 있었음 ㅇㅇ Keep o  doin 진짜 띵...</td>\n",
       "      <td>0</td>\n",
       "    </tr>\n",
       "    <tr>\n",
       "      <th>3</th>\n",
       "      <td>홍팍에도 어버이연합인가 보내요 뭐 이런뎃글 있는데 이거 어버이연합측에 신고하면 그쪽...</td>\n",
       "      <td>0</td>\n",
       "    </tr>\n",
       "    <tr>\n",
       "      <th>4</th>\n",
       "      <td>아놔 왜 여기 댓들은 다 여자들이 김치녀라고 먼저 불렸다! 여자들은 더 심하게 그런...</td>\n",
       "      <td>1</td>\n",
       "    </tr>\n",
       "    <tr>\n",
       "      <th>...</th>\n",
       "      <td>...</td>\n",
       "      <td>...</td>\n",
       "    </tr>\n",
       "    <tr>\n",
       "      <th>22527</th>\n",
       "      <td>마음의 미동을주고싶은데마음먹은듯한데 어떻게서든 돌리고싶습니다도와주세요</td>\n",
       "      <td>0</td>\n",
       "    </tr>\n",
       "    <tr>\n",
       "      <th>22528</th>\n",
       "      <td>그엄마가 그엄마는 아니겠지</td>\n",
       "      <td>0</td>\n",
       "    </tr>\n",
       "    <tr>\n",
       "      <th>22529</th>\n",
       "      <td>연락안한지 3일됬는데..너무 __ 즉흥적으로 질러버린거같아요..</td>\n",
       "      <td>0</td>\n",
       "    </tr>\n",
       "    <tr>\n",
       "      <th>22530</th>\n",
       "      <td>엄마아빠가 이해해주실까요?</td>\n",
       "      <td>0</td>\n",
       "    </tr>\n",
       "    <tr>\n",
       "      <th>22531</th>\n",
       "      <td>보내기버튼이 안보이는데;;</td>\n",
       "      <td>0</td>\n",
       "    </tr>\n",
       "  </tbody>\n",
       "</table>\n",
       "<p>22532 rows × 2 columns</p>\n",
       "</div>"
      ],
      "text/plain": [
       "                                                      문장  target\n",
       "0                                 일안하는 시간은 쉬고싶어서 그런게 아닐까       0\n",
       "1      아동성범죄와 페도버는 기록바 끊어져 영원히 고통 받는다. 무슬림 50퍼 근친이다. ...       1\n",
       "2      루나 솔로앨범 나왔을 때부터 머모 기운 있었음 ㅇㅇ Keep o  doin 진짜 띵...       0\n",
       "3      홍팍에도 어버이연합인가 보내요 뭐 이런뎃글 있는데 이거 어버이연합측에 신고하면 그쪽...       0\n",
       "4      아놔 왜 여기 댓들은 다 여자들이 김치녀라고 먼저 불렸다! 여자들은 더 심하게 그런...       1\n",
       "...                                                  ...     ...\n",
       "22527             마음의 미동을주고싶은데마음먹은듯한데 어떻게서든 돌리고싶습니다도와주세요       0\n",
       "22528                                     그엄마가 그엄마는 아니겠지       0\n",
       "22529                연락안한지 3일됬는데..너무 __ 즉흥적으로 질러버린거같아요..       0\n",
       "22530                                     엄마아빠가 이해해주실까요?       0\n",
       "22531                                     보내기버튼이 안보이는데;;       0\n",
       "\n",
       "[22532 rows x 2 columns]"
      ]
     },
     "execution_count": 7,
     "metadata": {},
     "output_type": "execute_result"
    }
   ],
   "source": [
    "df_train"
   ]
  },
  {
   "cell_type": "code",
   "execution_count": 8,
   "id": "74880989",
   "metadata": {},
   "outputs": [
    {
     "data": {
      "text/html": [
       "<div>\n",
       "<style scoped>\n",
       "    .dataframe tbody tr th:only-of-type {\n",
       "        vertical-align: middle;\n",
       "    }\n",
       "\n",
       "    .dataframe tbody tr th {\n",
       "        vertical-align: top;\n",
       "    }\n",
       "\n",
       "    .dataframe thead th {\n",
       "        text-align: right;\n",
       "    }\n",
       "</style>\n",
       "<table border=\"1\" class=\"dataframe\">\n",
       "  <thead>\n",
       "    <tr style=\"text-align: right;\">\n",
       "      <th></th>\n",
       "      <th>문장</th>\n",
       "      <th>target</th>\n",
       "    </tr>\n",
       "  </thead>\n",
       "  <tbody>\n",
       "    <tr>\n",
       "      <th>0</th>\n",
       "      <td>ㅇㄱㄹㅇ 진짜 죽어도 상관없다는 마인드로 싸웠더니 지금 서열 상타취노 식칼들고 니가...</td>\n",
       "      <td>1</td>\n",
       "    </tr>\n",
       "    <tr>\n",
       "      <th>1</th>\n",
       "      <td>여자들은 취미가 애낳는건가.. 취미를 좀 가져라</td>\n",
       "      <td>1</td>\n",
       "    </tr>\n",
       "    <tr>\n",
       "      <th>2</th>\n",
       "      <td>개슬람녀 다 필요없고 니 엄마만 있으면 된다</td>\n",
       "      <td>1</td>\n",
       "    </tr>\n",
       "    <tr>\n",
       "      <th>3</th>\n",
       "      <td>조팔ㅋㅋ 남한 길거리 돌아다니면 한국남자때문에 눈재기하는데 그걸 내 폰에 굳이 담아...</td>\n",
       "      <td>1</td>\n",
       "    </tr>\n",
       "    <tr>\n",
       "      <th>4</th>\n",
       "      <td>바지 내리다 한남들 와꾸 보고 올려뿟노</td>\n",
       "      <td>1</td>\n",
       "    </tr>\n",
       "    <tr>\n",
       "      <th>...</th>\n",
       "      <td>...</td>\n",
       "      <td>...</td>\n",
       "    </tr>\n",
       "    <tr>\n",
       "      <th>5599</th>\n",
       "      <td>멀 어떻게 해야되요??</td>\n",
       "      <td>0</td>\n",
       "    </tr>\n",
       "    <tr>\n",
       "      <th>5600</th>\n",
       "      <td>프로필사진에는 아랍인처럼 안생겼던데..</td>\n",
       "      <td>0</td>\n",
       "    </tr>\n",
       "    <tr>\n",
       "      <th>5601</th>\n",
       "      <td>난 뭔가 좀 불안한데... 이렇게 잘하다가 한순간 못하면 지금까지 넣은 골같은건 상...</td>\n",
       "      <td>0</td>\n",
       "    </tr>\n",
       "    <tr>\n",
       "      <th>5602</th>\n",
       "      <td>벌써 4시를 향해가고 있음...</td>\n",
       "      <td>0</td>\n",
       "    </tr>\n",
       "    <tr>\n",
       "      <th>5603</th>\n",
       "      <td>살많이찔까요</td>\n",
       "      <td>0</td>\n",
       "    </tr>\n",
       "  </tbody>\n",
       "</table>\n",
       "<p>5604 rows × 2 columns</p>\n",
       "</div>"
      ],
      "text/plain": [
       "                                                     문장  target\n",
       "0     ㅇㄱㄹㅇ 진짜 죽어도 상관없다는 마인드로 싸웠더니 지금 서열 상타취노 식칼들고 니가...       1\n",
       "1                            여자들은 취미가 애낳는건가.. 취미를 좀 가져라       1\n",
       "2                              개슬람녀 다 필요없고 니 엄마만 있으면 된다       1\n",
       "3     조팔ㅋㅋ 남한 길거리 돌아다니면 한국남자때문에 눈재기하는데 그걸 내 폰에 굳이 담아...       1\n",
       "4                                 바지 내리다 한남들 와꾸 보고 올려뿟노       1\n",
       "...                                                 ...     ...\n",
       "5599                                       멀 어떻게 해야되요??       0\n",
       "5600                              프로필사진에는 아랍인처럼 안생겼던데..       0\n",
       "5601  난 뭔가 좀 불안한데... 이렇게 잘하다가 한순간 못하면 지금까지 넣은 골같은건 상...       0\n",
       "5602                                  벌써 4시를 향해가고 있음...       0\n",
       "5603                                             살많이찔까요       0\n",
       "\n",
       "[5604 rows x 2 columns]"
      ]
     },
     "execution_count": 8,
     "metadata": {},
     "output_type": "execute_result"
    }
   ],
   "source": [
    "df_test"
   ]
  },
  {
   "cell_type": "code",
   "execution_count": 12,
   "id": "e195b985",
   "metadata": {},
   "outputs": [
    {
     "name": "stdout",
     "output_type": "stream",
     "text": [
      "[('아버지', 'Noun'), ('가방', 'Noun'), ('에', 'Josa'), ('들어가다', 'Verb'), ('.', 'Punctuation'), ('ㅅㅂ', 'KoreanParticle')]\n",
      "[('아버지', 'Noun'), ('가방', 'Noun'), ('에', 'Josa'), ('들어가다', 'Verb'), ('.', 'Punctuation'), ('ㅅㅂ', 'KoreanParticle'), ('ㅄ', 'KoreanParticle'), ('ㅂㅅ', 'KoreanParticle')]\n"
     ]
    }
   ],
   "source": [
    "okt = Okt()\n",
    "malist = okt.pos(\"아버지 가방에 들어가신다. ㅅㅂ\", norm=True, stem=True)\n",
    "malist2 = okt.pos(\"아버지 가방에 들어가신다. ㅅㅂ ㅄ ㅂㅅ\", norm=False, stem=True)\n",
    "print(malist)\n",
    "print(malist2)\n",
    "\n",
    "# 'KoreanParticle': '(ex: ㅋㅋ)',"
   ]
  },
  {
   "cell_type": "code",
   "execution_count": 48,
   "id": "92e5e865",
   "metadata": {},
   "outputs": [],
   "source": [
    "def make_corpus(sentence):\n",
    "    okt = Okt()\n",
    "    raw_pos_tagged = okt.pos(sentence, norm=True, stem=True)\n",
    "    word_cleaned = []\n",
    "\n",
    "    for word in raw_pos_tagged:\n",
    "        if word[1] in ['Noun', 'Adjective', 'Verb']:\n",
    "            word_cleaned.append(word[0])\n",
    "    return ' '.join(word_cleaned)"
   ]
  },
  {
   "cell_type": "code",
   "execution_count": 49,
   "id": "f315aa61",
   "metadata": {},
   "outputs": [
    {
     "data": {
      "text/html": [
       "<div>\n",
       "<style scoped>\n",
       "    .dataframe tbody tr th:only-of-type {\n",
       "        vertical-align: middle;\n",
       "    }\n",
       "\n",
       "    .dataframe tbody tr th {\n",
       "        vertical-align: top;\n",
       "    }\n",
       "\n",
       "    .dataframe thead th {\n",
       "        text-align: right;\n",
       "    }\n",
       "</style>\n",
       "<table border=\"1\" class=\"dataframe\">\n",
       "  <thead>\n",
       "    <tr style=\"text-align: right;\">\n",
       "      <th></th>\n",
       "      <th>문장</th>\n",
       "      <th>target</th>\n",
       "      <th>tokenized</th>\n",
       "    </tr>\n",
       "  </thead>\n",
       "  <tbody>\n",
       "    <tr>\n",
       "      <th>0</th>\n",
       "      <td>일안하는 시간은 쉬고싶어서 그런게 아닐까</td>\n",
       "      <td>0</td>\n",
       "      <td>이다 시간 쉬다 그렇다 아니다</td>\n",
       "    </tr>\n",
       "    <tr>\n",
       "      <th>1</th>\n",
       "      <td>아동성범죄와 페도버는 기록바 끊어져 영원히 고통 받는다. 무슬림 50퍼 근친이다. ...</td>\n",
       "      <td>1</td>\n",
       "      <td>아동 성범죄 페도버 기록 바 끊어지다 영원하다 고통 받다 무슬림 친 떨어지다 출산 위험</td>\n",
       "    </tr>\n",
       "    <tr>\n",
       "      <th>2</th>\n",
       "      <td>루나 솔로앨범 나왔을 때부터 머모 기운 있었음 ㅇㅇ Keep o  doin 진짜 띵...</td>\n",
       "      <td>0</td>\n",
       "      <td>루나 솔로 앨범 나오다 때 머모 기운 있다 ㅇㅇ 진짜 띵곡임 꼭 들다 보다</td>\n",
       "    </tr>\n",
       "    <tr>\n",
       "      <th>3</th>\n",
       "      <td>홍팍에도 어버이연합인가 보내요 뭐 이런뎃글 있는데 이거 어버이연합측에 신고하면 그쪽...</td>\n",
       "      <td>0</td>\n",
       "      <td>홍팍 어버이연합 보내다 뭐 뎃글 있다 거 어버이연합 신고 하다 쪽 고소 가능하다</td>\n",
       "    </tr>\n",
       "    <tr>\n",
       "      <th>4</th>\n",
       "      <td>아놔 왜 여기 댓들은 다 여자들이 김치녀라고 먼저 불렸다! 여자들은 더 심하게 그런...</td>\n",
       "      <td>1</td>\n",
       "      <td>놓다 왜 여기 댓 여자 김치 녀 먼저 불리다 여자 더 심하다 그렇다 개 싸우다 내 ...</td>\n",
       "    </tr>\n",
       "  </tbody>\n",
       "</table>\n",
       "</div>"
      ],
      "text/plain": [
       "                                                  문장  target  \\\n",
       "0                             일안하는 시간은 쉬고싶어서 그런게 아닐까       0   \n",
       "1  아동성범죄와 페도버는 기록바 끊어져 영원히 고통 받는다. 무슬림 50퍼 근친이다. ...       1   \n",
       "2  루나 솔로앨범 나왔을 때부터 머모 기운 있었음 ㅇㅇ Keep o  doin 진짜 띵...       0   \n",
       "3  홍팍에도 어버이연합인가 보내요 뭐 이런뎃글 있는데 이거 어버이연합측에 신고하면 그쪽...       0   \n",
       "4  아놔 왜 여기 댓들은 다 여자들이 김치녀라고 먼저 불렸다! 여자들은 더 심하게 그런...       1   \n",
       "\n",
       "                                           tokenized  \n",
       "0                                   이다 시간 쉬다 그렇다 아니다  \n",
       "1   아동 성범죄 페도버 기록 바 끊어지다 영원하다 고통 받다 무슬림 친 떨어지다 출산 위험  \n",
       "2          루나 솔로 앨범 나오다 때 머모 기운 있다 ㅇㅇ 진짜 띵곡임 꼭 들다 보다  \n",
       "3       홍팍 어버이연합 보내다 뭐 뎃글 있다 거 어버이연합 신고 하다 쪽 고소 가능하다  \n",
       "4  놓다 왜 여기 댓 여자 김치 녀 먼저 불리다 여자 더 심하다 그렇다 개 싸우다 내 ...  "
      ]
     },
     "execution_count": 49,
     "metadata": {},
     "output_type": "execute_result"
    }
   ],
   "source": [
    "df_train.head()"
   ]
  },
  {
   "cell_type": "code",
   "execution_count": 50,
   "id": "66d006c3",
   "metadata": {},
   "outputs": [],
   "source": [
    "df_train['tokenized'] = df_train['문장'].map(make_corpus)\n",
    "df_test['tokenized'] = df_test['문장'].map(make_corpus)"
   ]
  },
  {
   "cell_type": "code",
   "execution_count": 51,
   "id": "724bd260",
   "metadata": {},
   "outputs": [
    {
     "data": {
      "text/html": [
       "<div>\n",
       "<style scoped>\n",
       "    .dataframe tbody tr th:only-of-type {\n",
       "        vertical-align: middle;\n",
       "    }\n",
       "\n",
       "    .dataframe tbody tr th {\n",
       "        vertical-align: top;\n",
       "    }\n",
       "\n",
       "    .dataframe thead th {\n",
       "        text-align: right;\n",
       "    }\n",
       "</style>\n",
       "<table border=\"1\" class=\"dataframe\">\n",
       "  <thead>\n",
       "    <tr style=\"text-align: right;\">\n",
       "      <th></th>\n",
       "      <th>문장</th>\n",
       "      <th>target</th>\n",
       "      <th>tokenized</th>\n",
       "    </tr>\n",
       "  </thead>\n",
       "  <tbody>\n",
       "    <tr>\n",
       "      <th>0</th>\n",
       "      <td>일안하는 시간은 쉬고싶어서 그런게 아닐까</td>\n",
       "      <td>0</td>\n",
       "      <td>이다 시간 쉬다 그렇다 아니다</td>\n",
       "    </tr>\n",
       "    <tr>\n",
       "      <th>1</th>\n",
       "      <td>아동성범죄와 페도버는 기록바 끊어져 영원히 고통 받는다. 무슬림 50퍼 근친이다. ...</td>\n",
       "      <td>1</td>\n",
       "      <td>아동 성범죄 페도버 기록 바 끊어지다 영원하다 고통 받다 무슬림 친 떨어지다 출산 위험</td>\n",
       "    </tr>\n",
       "    <tr>\n",
       "      <th>2</th>\n",
       "      <td>루나 솔로앨범 나왔을 때부터 머모 기운 있었음 ㅇㅇ Keep o  doin 진짜 띵...</td>\n",
       "      <td>0</td>\n",
       "      <td>루나 솔로 앨범 나오다 때 머모 기운 있다 진짜 띵곡임 꼭 들다 보다</td>\n",
       "    </tr>\n",
       "    <tr>\n",
       "      <th>3</th>\n",
       "      <td>홍팍에도 어버이연합인가 보내요 뭐 이런뎃글 있는데 이거 어버이연합측에 신고하면 그쪽...</td>\n",
       "      <td>0</td>\n",
       "      <td>홍팍 어버이연합 보내다 뭐 뎃글 있다 거 어버이연합 신고 하다 쪽 고소 가능하다</td>\n",
       "    </tr>\n",
       "    <tr>\n",
       "      <th>4</th>\n",
       "      <td>아놔 왜 여기 댓들은 다 여자들이 김치녀라고 먼저 불렸다! 여자들은 더 심하게 그런...</td>\n",
       "      <td>1</td>\n",
       "      <td>놓다 왜 여기 댓 여자 김치 녀 먼저 불리다 여자 더 심하다 그렇다 개 싸우다 내 ...</td>\n",
       "    </tr>\n",
       "  </tbody>\n",
       "</table>\n",
       "</div>"
      ],
      "text/plain": [
       "                                                  문장  target  \\\n",
       "0                             일안하는 시간은 쉬고싶어서 그런게 아닐까       0   \n",
       "1  아동성범죄와 페도버는 기록바 끊어져 영원히 고통 받는다. 무슬림 50퍼 근친이다. ...       1   \n",
       "2  루나 솔로앨범 나왔을 때부터 머모 기운 있었음 ㅇㅇ Keep o  doin 진짜 띵...       0   \n",
       "3  홍팍에도 어버이연합인가 보내요 뭐 이런뎃글 있는데 이거 어버이연합측에 신고하면 그쪽...       0   \n",
       "4  아놔 왜 여기 댓들은 다 여자들이 김치녀라고 먼저 불렸다! 여자들은 더 심하게 그런...       1   \n",
       "\n",
       "                                           tokenized  \n",
       "0                                   이다 시간 쉬다 그렇다 아니다  \n",
       "1   아동 성범죄 페도버 기록 바 끊어지다 영원하다 고통 받다 무슬림 친 떨어지다 출산 위험  \n",
       "2             루나 솔로 앨범 나오다 때 머모 기운 있다 진짜 띵곡임 꼭 들다 보다  \n",
       "3       홍팍 어버이연합 보내다 뭐 뎃글 있다 거 어버이연합 신고 하다 쪽 고소 가능하다  \n",
       "4  놓다 왜 여기 댓 여자 김치 녀 먼저 불리다 여자 더 심하다 그렇다 개 싸우다 내 ...  "
      ]
     },
     "execution_count": 51,
     "metadata": {},
     "output_type": "execute_result"
    }
   ],
   "source": [
    "df_train.head()"
   ]
  },
  {
   "cell_type": "code",
   "execution_count": 52,
   "id": "cf743b89",
   "metadata": {},
   "outputs": [
    {
     "data": {
      "text/html": [
       "<div>\n",
       "<style scoped>\n",
       "    .dataframe tbody tr th:only-of-type {\n",
       "        vertical-align: middle;\n",
       "    }\n",
       "\n",
       "    .dataframe tbody tr th {\n",
       "        vertical-align: top;\n",
       "    }\n",
       "\n",
       "    .dataframe thead th {\n",
       "        text-align: right;\n",
       "    }\n",
       "</style>\n",
       "<table border=\"1\" class=\"dataframe\">\n",
       "  <thead>\n",
       "    <tr style=\"text-align: right;\">\n",
       "      <th></th>\n",
       "      <th>문장</th>\n",
       "      <th>target</th>\n",
       "      <th>tokenized</th>\n",
       "    </tr>\n",
       "  </thead>\n",
       "  <tbody>\n",
       "    <tr>\n",
       "      <th>0</th>\n",
       "      <td>ㅇㄱㄹㅇ 진짜 죽어도 상관없다는 마인드로 싸웠더니 지금 서열 상타취노 식칼들고 니가...</td>\n",
       "      <td>1</td>\n",
       "      <td>진짜 죽다 상관없다 마인드 싸우다 지금 서열 상타취노 식칼 니 나 찌르다 내 너 찌...</td>\n",
       "    </tr>\n",
       "    <tr>\n",
       "      <th>1</th>\n",
       "      <td>여자들은 취미가 애낳는건가.. 취미를 좀 가져라</td>\n",
       "      <td>1</td>\n",
       "      <td>여자 취미 애 낳다 건가 취미 좀 가다</td>\n",
       "    </tr>\n",
       "    <tr>\n",
       "      <th>2</th>\n",
       "      <td>개슬람녀 다 필요없고 니 엄마만 있으면 된다</td>\n",
       "      <td>1</td>\n",
       "      <td>개슬람녀 필요없다 니 엄마 있다 되다</td>\n",
       "    </tr>\n",
       "    <tr>\n",
       "      <th>3</th>\n",
       "      <td>조팔ㅋㅋ 남한 길거리 돌아다니면 한국남자때문에 눈재기하는데 그걸 내 폰에 굳이 담아...</td>\n",
       "      <td>1</td>\n",
       "      <td>조팔 남한 길거리 돌아다니다 한국 남자 때문 눈 재다 내 폰 굳이 담다 야하다 조팔</td>\n",
       "    </tr>\n",
       "    <tr>\n",
       "      <th>4</th>\n",
       "      <td>바지 내리다 한남들 와꾸 보고 올려뿟노</td>\n",
       "      <td>1</td>\n",
       "      <td>바지 리다 한남 오다 꾸다 보고 올려뿟노</td>\n",
       "    </tr>\n",
       "  </tbody>\n",
       "</table>\n",
       "</div>"
      ],
      "text/plain": [
       "                                                  문장  target  \\\n",
       "0  ㅇㄱㄹㅇ 진짜 죽어도 상관없다는 마인드로 싸웠더니 지금 서열 상타취노 식칼들고 니가...       1   \n",
       "1                         여자들은 취미가 애낳는건가.. 취미를 좀 가져라       1   \n",
       "2                           개슬람녀 다 필요없고 니 엄마만 있으면 된다       1   \n",
       "3  조팔ㅋㅋ 남한 길거리 돌아다니면 한국남자때문에 눈재기하는데 그걸 내 폰에 굳이 담아...       1   \n",
       "4                              바지 내리다 한남들 와꾸 보고 올려뿟노       1   \n",
       "\n",
       "                                           tokenized  \n",
       "0  진짜 죽다 상관없다 마인드 싸우다 지금 서열 상타취노 식칼 니 나 찌르다 내 너 찌...  \n",
       "1                              여자 취미 애 낳다 건가 취미 좀 가다  \n",
       "2                               개슬람녀 필요없다 니 엄마 있다 되다  \n",
       "3     조팔 남한 길거리 돌아다니다 한국 남자 때문 눈 재다 내 폰 굳이 담다 야하다 조팔  \n",
       "4                             바지 리다 한남 오다 꾸다 보고 올려뿟노  "
      ]
     },
     "execution_count": 52,
     "metadata": {},
     "output_type": "execute_result"
    }
   ],
   "source": [
    "df_test.head()"
   ]
  },
  {
   "cell_type": "code",
   "execution_count": 53,
   "id": "6b9e4af1",
   "metadata": {},
   "outputs": [],
   "source": [
    "tfidf_vect = TfidfVectorizer(max_features=100)\n",
    "tfidf_vect.fit(df_train.tokenized)\n",
    "df_train_tfidf = tfidf_vect.transform(df_train.tokenized)\n",
    "df_test_tfidf = tfidf_vect.transform(df_test.tokenized)"
   ]
  },
  {
   "cell_type": "code",
   "execution_count": 22,
   "id": "2a6831e2",
   "metadata": {},
   "outputs": [
    {
     "data": {
      "text/plain": [
       "scipy.sparse.csr.csr_matrix"
      ]
     },
     "execution_count": 22,
     "metadata": {},
     "output_type": "execute_result"
    }
   ],
   "source": [
    "type(df_train_tfidf)"
   ]
  },
  {
   "cell_type": "code",
   "execution_count": 23,
   "id": "8ca23dec",
   "metadata": {},
   "outputs": [
    {
     "data": {
      "text/plain": [
       "(5604, 100)"
      ]
     },
     "execution_count": 23,
     "metadata": {},
     "output_type": "execute_result"
    }
   ],
   "source": [
    "df_test_tfidf.shape"
   ]
  },
  {
   "cell_type": "code",
   "execution_count": 54,
   "id": "7f714dec",
   "metadata": {},
   "outputs": [],
   "source": [
    "df_train_tfidf = df_train_tfidf.toarray()\n",
    "df_test_tfidf = df_test_tfidf.toarray()"
   ]
  },
  {
   "cell_type": "code",
   "execution_count": 55,
   "id": "4bc4a9b6",
   "metadata": {},
   "outputs": [],
   "source": [
    "X_train = df_train_tfidf\n",
    "X_test = df_test_tfidf\n",
    "y_train = df_train['target']\n",
    "y_test = df_test['target']"
   ]
  },
  {
   "cell_type": "code",
   "execution_count": 56,
   "id": "05e9f55a",
   "metadata": {},
   "outputs": [
    {
     "name": "stdout",
     "output_type": "stream",
     "text": [
      "X_train shape:  (22532, 100)\n",
      "X_test shape:  (5604, 100)\n",
      "y_train shape:  (22532,)\n",
      "y_test shape:  (5604,)\n"
     ]
    }
   ],
   "source": [
    "print(\"X_train shape: \", X_train.shape)\n",
    "print(\"X_test shape: \", X_test.shape)\n",
    "print(\"y_train shape: \", y_train.shape)\n",
    "print(\"y_test shape: \", y_test.shape)"
   ]
  },
  {
   "cell_type": "code",
   "execution_count": 57,
   "id": "bf4ab6b5",
   "metadata": {},
   "outputs": [
    {
     "name": "stdout",
     "output_type": "stream",
     "text": [
      "Epoch 1/5\n",
      "71/71 [==============================] - 48s 630ms/step - loss: 0.6637 - acc: 0.6204 - val_loss: 0.9337 - val_acc: 0.0000e+00\n",
      "\n",
      "Epoch 00001: val_acc improved from -inf to 0.00000, saving model to best_model.h5\n",
      "Epoch 2/5\n",
      "71/71 [==============================] - 46s 651ms/step - loss: 0.6596 - acc: 0.6292 - val_loss: 0.9144 - val_acc: 0.0963\n",
      "\n",
      "Epoch 00002: val_acc improved from 0.00000 to 0.09629, saving model to best_model.h5\n",
      "Epoch 3/5\n",
      "71/71 [==============================] - 51s 723ms/step - loss: 0.6594 - acc: 0.6293 - val_loss: 1.0229 - val_acc: 0.0996\n",
      "\n",
      "Epoch 00003: val_acc improved from 0.09629 to 0.09962, saving model to best_model.h5\n",
      "Epoch 4/5\n",
      "71/71 [==============================] - 50s 701ms/step - loss: 0.6524 - acc: 0.6353 - val_loss: 0.7902 - val_acc: 0.1498\n",
      "\n",
      "Epoch 00004: val_acc improved from 0.09962 to 0.14977, saving model to best_model.h5\n",
      "Epoch 5/5\n",
      "71/71 [==============================] - 51s 722ms/step - loss: 0.6514 - acc: 0.6371 - val_loss: 1.0218 - val_acc: 0.0000e+00\n",
      "\n",
      "Epoch 00005: val_acc did not improve from 0.14977\n"
     ]
    }
   ],
   "source": [
    "embedding_dim = 100\n",
    "hidden_units = 128\n",
    "\n",
    "model = Sequential()\n",
    "model.add(Embedding(6, embedding_dim))\n",
    "# model.add(Bidirectional(LSTM(hidden_units))) # Bidirectional LSTM을 사용\n",
    "model.add(LSTM(hidden_units))\n",
    "model.add(Dense(1, activation='sigmoid'))\n",
    "\n",
    "es = EarlyStopping(monitor='val_loss', mode='min', verbose=1, patience=4)\n",
    "mc = ModelCheckpoint('best_model.h5', monitor='val_acc', mode='max', verbose=1, save_best_only=True)\n",
    "\n",
    "model.compile(optimizer='rmsprop', loss='binary_crossentropy', metrics=['acc'])\n",
    "history = model.fit(X_train, y_train, epochs=5, callbacks=[es, mc], batch_size=256, validation_split=0.2)"
   ]
  },
  {
   "cell_type": "code",
   "execution_count": 33,
   "id": "c353b53b",
   "metadata": {},
   "outputs": [
    {
     "name": "stdout",
     "output_type": "stream",
     "text": [
      "176/176 [==============================] - 6s 32ms/step - loss: 0.7034 - acc: 0.5289\n",
      "\n",
      " 테스트 정확도: 0.5289\n"
     ]
    }
   ],
   "source": [
    "loaded_model = load_model('best_model.h5')\n",
    "print(\"\\n 테스트 정확도: %.4f\" % (loaded_model.evaluate(X_test, y_test)[1]))"
   ]
  },
  {
   "cell_type": "code",
   "execution_count": 62,
   "id": "a6c4d9fe",
   "metadata": {},
   "outputs": [
    {
     "name": "stdout",
     "output_type": "stream",
     "text": [
      "Epoch 1/5\n",
      "71/71 [==============================] - 130s 2s/step - loss: 0.6666 - acc: 0.6212 - val_loss: 0.9908 - val_acc: 0.0000e+00\n",
      "\n",
      "Epoch 00001: val_acc improved from -inf to 0.00000, saving model to best_model.h5\n",
      "Epoch 2/5\n",
      "71/71 [==============================] - 154s 2s/step - loss: 0.6613 - acc: 0.6250 - val_loss: 1.0123 - val_acc: 0.0000e+00\n",
      "\n",
      "Epoch 00002: val_acc did not improve from 0.00000\n",
      "Epoch 3/5\n",
      "71/71 [==============================] - 155s 2s/step - loss: 0.7716 - acc: 0.5856 - val_loss: 0.6109 - val_acc: 0.9470\n",
      "\n",
      "Epoch 00003: val_acc improved from 0.00000 to 0.94697, saving model to best_model.h5\n",
      "Epoch 4/5\n",
      "71/71 [==============================] - 147s 2s/step - loss: 0.6616 - acc: 0.6170 - val_loss: 0.9230 - val_acc: 0.0941\n",
      "\n",
      "Epoch 00004: val_acc did not improve from 0.94697\n",
      "Epoch 5/5\n",
      "71/71 [==============================] - 139s 2s/step - loss: 0.6700 - acc: 0.6190 - val_loss: 0.9033 - val_acc: 0.0353\n",
      "\n",
      "Epoch 00005: val_acc did not improve from 0.94697\n"
     ]
    }
   ],
   "source": [
    "embedding_dim = 100\n",
    "hidden_units = 128\n",
    "\n",
    "model = Sequential()\n",
    "model.add(Embedding(6, embedding_dim))\n",
    "model.add(Bidirectional(LSTM(hidden_units))) # Bidirectional LSTM을 사용\n",
    "# model.add(LSTM(hidden_units))\n",
    "model.add(Dense(1, activation='sigmoid'))\n",
    "\n",
    "es = EarlyStopping(monitor='val_loss', mode='min', verbose=1, patience=4)\n",
    "mc = ModelCheckpoint('best_model.h5', monitor='val_acc', mode='max', verbose=1, save_best_only=True)\n",
    "\n",
    "model.compile(optimizer='rmsprop', loss='binary_crossentropy', metrics=['acc'])\n",
    "history = model.fit(X_train, y_train, epochs=5, callbacks=[es, mc], batch_size=256, validation_split=0.2)"
   ]
  },
  {
   "cell_type": "code",
   "execution_count": 63,
   "id": "45304d7a",
   "metadata": {},
   "outputs": [
    {
     "name": "stdout",
     "output_type": "stream",
     "text": [
      "176/176 [==============================] - 16s 79ms/step - loss: 0.7043 - acc: 0.4823\n",
      "\n",
      " 테스트 정확도: 0.4823\n"
     ]
    }
   ],
   "source": [
    "loaded_model = load_model('best_model.h5')\n",
    "print(\"\\n 테스트 정확도: %.4f\" % (loaded_model.evaluate(X_test, y_test)[1]))"
   ]
  },
  {
   "cell_type": "code",
   "execution_count": null,
   "id": "80991dfb",
   "metadata": {},
   "outputs": [],
   "source": []
  }
 ],
 "metadata": {
  "kernelspec": {
   "display_name": "Python 3",
   "language": "python",
   "name": "python3"
  },
  "language_info": {
   "codemirror_mode": {
    "name": "ipython",
    "version": 3
   },
   "file_extension": ".py",
   "mimetype": "text/x-python",
   "name": "python",
   "nbconvert_exporter": "python",
   "pygments_lexer": "ipython3",
   "version": "3.8.8"
  }
 },
 "nbformat": 4,
 "nbformat_minor": 5
}
