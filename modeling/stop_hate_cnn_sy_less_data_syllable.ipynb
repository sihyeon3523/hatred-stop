{
 "cells": [
  {
   "cell_type": "code",
   "execution_count": 1,
   "metadata": {
    "colab": {
     "base_uri": "https://localhost:8080/",
     "height": 34
    },
    "id": "vDohkPU33SJO",
    "outputId": "3a6bbc9b-cd50-4056-af3c-bde1cc988b6d"
   },
   "outputs": [
    {
     "data": {
      "text/plain": [
       "'2.5.0'"
      ]
     },
     "execution_count": 1,
     "metadata": {},
     "output_type": "execute_result"
    }
   ],
   "source": [
    "import tensorflow as tf\n",
    "tf.__version__"
   ]
  },
  {
   "cell_type": "code",
   "execution_count": 2,
   "metadata": {
    "colab": {
     "base_uri": "https://localhost:8080/"
    },
    "id": "c7QL7XFIkirk",
    "outputId": "7eff7eee-c085-4ea8-a8cd-fb25c596cbd8"
   },
   "outputs": [
    {
     "name": "stdout",
     "output_type": "stream",
     "text": [
      "0.5.2\n",
      "1.1.1\n",
      "2.5.0\n"
     ]
    }
   ],
   "source": [
    "import konlpy\n",
    "import sklearn\n",
    "import tensorflow\n",
    "\n",
    "print(konlpy.__version__) # 0.5.2\n",
    "print(sklearn.__version__) # 1.0.2\n",
    "print(tensorflow.__version__) # 2.8.0"
   ]
  },
  {
   "cell_type": "markdown",
   "metadata": {
    "id": "4iJSJcbJeyYy"
   },
   "source": [
    "# 1. 데이터 수집 & 전처리"
   ]
  },
  {
   "cell_type": "code",
   "execution_count": 3,
   "metadata": {
    "id": "NbRPURtckS0U"
   },
   "outputs": [],
   "source": [
    "import pandas as pd\n",
    "import urllib.request\n",
    "import matplotlib.pyplot as plt\n",
    "import re\n",
    "from konlpy.tag import Okt\n",
    "from tqdm import tqdm\n",
    "from tensorflow.keras.preprocessing.text import Tokenizer\n",
    "import numpy as np\n",
    "from tensorflow.keras.preprocessing.sequence import pad_sequences"
   ]
  },
  {
   "cell_type": "code",
   "execution_count": 4,
   "metadata": {
    "id": "xUU91wXtkOpr"
   },
   "outputs": [],
   "source": [
    "train_data = pd.read_csv(\"./data/unsmile_train_less.csv\")\n",
    "test_data = pd.read_csv(\"./data/unsmile_valid_less.csv\")"
   ]
  },
  {
   "cell_type": "code",
   "execution_count": 5,
   "metadata": {
    "colab": {
     "base_uri": "https://localhost:8080/"
    },
    "id": "hv2WLeglkV0T",
    "outputId": "211fff6d-c63e-426c-f2ad-e5fe193ab527"
   },
   "outputs": [
    {
     "name": "stdout",
     "output_type": "stream",
     "text": [
      "훈련 샘플의 개수 : 15005\n",
      "테스트 샘플의 개수 : 3737\n"
     ]
    }
   ],
   "source": [
    "print('훈련 샘플의 개수 :',len(train_data)) # 훈련용 리뷰 개수 출력\n",
    "print('테스트 샘플의 개수 :',len(test_data)) # 테스트용 리뷰 개수 출력"
   ]
  },
  {
   "cell_type": "code",
   "execution_count": 6,
   "metadata": {},
   "outputs": [],
   "source": [
    "train_data.rename(columns={'문장':'sentence'}, inplace=True)\n",
    "test_data.rename(columns={'문장':'sentence'}, inplace=True)"
   ]
  },
  {
   "cell_type": "code",
   "execution_count": 7,
   "metadata": {
    "colab": {
     "base_uri": "https://localhost:8080/",
     "height": 203
    },
    "id": "a3qpECZ5nFX8",
    "outputId": "b9a223a1-b53b-416c-a0a5-b30678aee518"
   },
   "outputs": [
    {
     "data": {
      "text/html": [
       "<div>\n",
       "<style scoped>\n",
       "    .dataframe tbody tr th:only-of-type {\n",
       "        vertical-align: middle;\n",
       "    }\n",
       "\n",
       "    .dataframe tbody tr th {\n",
       "        vertical-align: top;\n",
       "    }\n",
       "\n",
       "    .dataframe thead th {\n",
       "        text-align: right;\n",
       "    }\n",
       "</style>\n",
       "<table border=\"1\" class=\"dataframe\">\n",
       "  <thead>\n",
       "    <tr style=\"text-align: right;\">\n",
       "      <th></th>\n",
       "      <th>Unnamed: 0</th>\n",
       "      <th>sentence</th>\n",
       "      <th>target</th>\n",
       "    </tr>\n",
       "  </thead>\n",
       "  <tbody>\n",
       "    <tr>\n",
       "      <th>0</th>\n",
       "      <td>0</td>\n",
       "      <td>일안하는 시간은 쉬고싶어서 그런게 아닐까</td>\n",
       "      <td>0</td>\n",
       "    </tr>\n",
       "    <tr>\n",
       "      <th>1</th>\n",
       "      <td>1</td>\n",
       "      <td>아동성범죄와 페도버는 기록바 끊어져 영원히 고통 받는다. 무슬림 50퍼 근친이다. ...</td>\n",
       "      <td>1</td>\n",
       "    </tr>\n",
       "    <tr>\n",
       "      <th>2</th>\n",
       "      <td>2</td>\n",
       "      <td>루나 솔로앨범 나왔을 때부터 머모 기운 있었음 ㅇㅇ Keep o  doin 진짜 띵...</td>\n",
       "      <td>0</td>\n",
       "    </tr>\n",
       "    <tr>\n",
       "      <th>3</th>\n",
       "      <td>3</td>\n",
       "      <td>홍팍에도 어버이연합인가 보내요 뭐 이런뎃글 있는데 이거 어버이연합측에 신고하면 그쪽...</td>\n",
       "      <td>0</td>\n",
       "    </tr>\n",
       "    <tr>\n",
       "      <th>4</th>\n",
       "      <td>4</td>\n",
       "      <td>아놔 왜 여기 댓들은 다 여자들이 김치녀라고 먼저 불렸다! 여자들은 더 심하게 그런...</td>\n",
       "      <td>1</td>\n",
       "    </tr>\n",
       "  </tbody>\n",
       "</table>\n",
       "</div>"
      ],
      "text/plain": [
       "   Unnamed: 0                                           sentence  target\n",
       "0           0                             일안하는 시간은 쉬고싶어서 그런게 아닐까       0\n",
       "1           1  아동성범죄와 페도버는 기록바 끊어져 영원히 고통 받는다. 무슬림 50퍼 근친이다. ...       1\n",
       "2           2  루나 솔로앨범 나왔을 때부터 머모 기운 있었음 ㅇㅇ Keep o  doin 진짜 띵...       0\n",
       "3           3  홍팍에도 어버이연합인가 보내요 뭐 이런뎃글 있는데 이거 어버이연합측에 신고하면 그쪽...       0\n",
       "4           4  아놔 왜 여기 댓들은 다 여자들이 김치녀라고 먼저 불렸다! 여자들은 더 심하게 그런...       1"
      ]
     },
     "execution_count": 7,
     "metadata": {},
     "output_type": "execute_result"
    }
   ],
   "source": [
    "train_data[:5] # 상위 5개 출력"
   ]
  },
  {
   "cell_type": "code",
   "execution_count": 8,
   "metadata": {
    "colab": {
     "base_uri": "https://localhost:8080/"
    },
    "id": "lLx7QYcCnGkz",
    "outputId": "77d6e994-9835-40e2-ec74-55b783984039"
   },
   "outputs": [
    {
     "data": {
      "text/plain": [
       "(15004, 2)"
      ]
     },
     "execution_count": 8,
     "metadata": {},
     "output_type": "execute_result"
    }
   ],
   "source": [
    "train_data['sentence'].nunique(), train_data['target'].nunique()"
   ]
  },
  {
   "cell_type": "code",
   "execution_count": 9,
   "metadata": {
    "id": "zLIrjosmnMUD"
   },
   "outputs": [],
   "source": [
    "train_data.drop_duplicates(subset=['sentence'], inplace=True) # document 열에서 중복인 내용이 있다면 중복 제거"
   ]
  },
  {
   "cell_type": "code",
   "execution_count": 10,
   "metadata": {
    "colab": {
     "base_uri": "https://localhost:8080/"
    },
    "id": "yKGG3kAOnUEL",
    "outputId": "695c34ed-3cf5-42b0-b0eb-f852252ebb77"
   },
   "outputs": [
    {
     "name": "stdout",
     "output_type": "stream",
     "text": [
      "총 샘플의 수 : 15004\n"
     ]
    }
   ],
   "source": [
    "print('총 샘플의 수 :',len(train_data))"
   ]
  },
  {
   "cell_type": "code",
   "execution_count": 11,
   "metadata": {
    "colab": {
     "base_uri": "https://localhost:8080/",
     "height": 280
    },
    "id": "UjB5MxojnX5L",
    "outputId": "98b37ac4-4680-4cf6-a40e-49be1dce853a"
   },
   "outputs": [
    {
     "data": {
      "text/plain": [
       "<AxesSubplot:>"
      ]
     },
     "execution_count": 11,
     "metadata": {},
     "output_type": "execute_result"
    },
    {
     "data": {
      "image/png": "[encoded data removed]",
      "text/plain": [
       "<Figure size 432x288 with 1 Axes>"
      ]
     },
     "metadata": {
      "needs_background": "light"
     },
     "output_type": "display_data"
    }
   ],
   "source": [
    "train_data['target'].value_counts().plot(kind = 'bar')"
   ]
  },
  {
   "cell_type": "code",
   "execution_count": 12,
   "metadata": {
    "colab": {
     "base_uri": "https://localhost:8080/"
    },
    "id": "14xix8ghnagT",
    "outputId": "1b408aba-4905-43ac-b9a3-25080753def0"
   },
   "outputs": [
    {
     "name": "stdout",
     "output_type": "stream",
     "text": [
      "   target  count\n",
      "0       0   3738\n",
      "1       1  11266\n"
     ]
    }
   ],
   "source": [
    "print(train_data.groupby('target').size().reset_index(name = 'count'))"
   ]
  },
  {
   "cell_type": "code",
   "execution_count": 13,
   "metadata": {
    "colab": {
     "base_uri": "https://localhost:8080/"
    },
    "id": "_8yXVmIRnbtb",
    "outputId": "fb714889-78eb-4387-9662-3e00aadd4a04"
   },
   "outputs": [
    {
     "name": "stdout",
     "output_type": "stream",
     "text": [
      "False\n"
     ]
    }
   ],
   "source": [
    "print(train_data.isnull().values.any())"
   ]
  },
  {
   "cell_type": "code",
   "execution_count": 14,
   "metadata": {
    "colab": {
     "base_uri": "https://localhost:8080/"
    },
    "id": "PwGZReKineYD",
    "outputId": "8b39c5dd-cc95-4676-9763-25d4702aa54d"
   },
   "outputs": [
    {
     "name": "stdout",
     "output_type": "stream",
     "text": [
      "Unnamed: 0    0\n",
      "sentence      0\n",
      "target        0\n",
      "dtype: int64\n"
     ]
    }
   ],
   "source": [
    "print(train_data.isnull().sum())"
   ]
  },
  {
   "cell_type": "code",
   "execution_count": 15,
   "metadata": {
    "colab": {
     "base_uri": "https://localhost:8080/",
     "height": 80
    },
    "id": "qzavofy6nfbT",
    "outputId": "4d5f5b77-1b47-49b9-ed5b-ed8d1185de0f"
   },
   "outputs": [
    {
     "data": {
      "text/html": [
       "<div>\n",
       "<style scoped>\n",
       "    .dataframe tbody tr th:only-of-type {\n",
       "        vertical-align: middle;\n",
       "    }\n",
       "\n",
       "    .dataframe tbody tr th {\n",
       "        vertical-align: top;\n",
       "    }\n",
       "\n",
       "    .dataframe thead th {\n",
       "        text-align: right;\n",
       "    }\n",
       "</style>\n",
       "<table border=\"1\" class=\"dataframe\">\n",
       "  <thead>\n",
       "    <tr style=\"text-align: right;\">\n",
       "      <th></th>\n",
       "      <th>Unnamed: 0</th>\n",
       "      <th>sentence</th>\n",
       "      <th>target</th>\n",
       "    </tr>\n",
       "  </thead>\n",
       "  <tbody>\n",
       "  </tbody>\n",
       "</table>\n",
       "</div>"
      ],
      "text/plain": [
       "Empty DataFrame\n",
       "Columns: [Unnamed: 0, sentence, target]\n",
       "Index: []"
      ]
     },
     "execution_count": 15,
     "metadata": {},
     "output_type": "execute_result"
    }
   ],
   "source": [
    "train_data.loc[train_data.sentence.isnull()]"
   ]
  },
  {
   "cell_type": "code",
   "execution_count": 16,
   "metadata": {
    "colab": {
     "base_uri": "https://localhost:8080/"
    },
    "id": "GuRqUGURnhZj",
    "outputId": "63455899-850e-4575-90c4-af83d4ad1ea6"
   },
   "outputs": [
    {
     "name": "stdout",
     "output_type": "stream",
     "text": [
      "False\n"
     ]
    }
   ],
   "source": [
    "train_data = train_data.dropna(how = 'any') # Null 값이 존재하는 행 제거\n",
    "print(train_data.isnull().values.any()) # Null 값이 존재하는지 확인"
   ]
  },
  {
   "cell_type": "code",
   "execution_count": 17,
   "metadata": {
    "colab": {
     "base_uri": "https://localhost:8080/"
    },
    "id": "MQmWzwSqnlG7",
    "outputId": "7cdb4e36-3298-4a05-ee9a-f504ca97a152"
   },
   "outputs": [
    {
     "name": "stdout",
     "output_type": "stream",
     "text": [
      "15004\n"
     ]
    }
   ],
   "source": [
    "print(len(train_data))"
   ]
  },
  {
   "cell_type": "code",
   "execution_count": 18,
   "metadata": {
    "colab": {
     "base_uri": "https://localhost:8080/",
     "height": 203
    },
    "id": "yP6uj9BxnmNj",
    "outputId": "ddc3d9fc-3cb7-43a4-c7d2-8169b4a32c43"
   },
   "outputs": [
    {
     "name": "stderr",
     "output_type": "stream",
     "text": [
      "<ipython-input-18-f2430c7e0838>:1: FutureWarning: The default value of regex will change from True to False in a future version.\n",
      "  train_data['sentence'] = train_data['sentence'].str.replace(\"[^ㄱ-ㅎㅏ-ㅣ가-힣 ]\",\"\")\n"
     ]
    },
    {
     "data": {
      "text/html": [
       "<div>\n",
       "<style scoped>\n",
       "    .dataframe tbody tr th:only-of-type {\n",
       "        vertical-align: middle;\n",
       "    }\n",
       "\n",
       "    .dataframe tbody tr th {\n",
       "        vertical-align: top;\n",
       "    }\n",
       "\n",
       "    .dataframe thead th {\n",
       "        text-align: right;\n",
       "    }\n",
       "</style>\n",
       "<table border=\"1\" class=\"dataframe\">\n",
       "  <thead>\n",
       "    <tr style=\"text-align: right;\">\n",
       "      <th></th>\n",
       "      <th>Unnamed: 0</th>\n",
       "      <th>sentence</th>\n",
       "      <th>target</th>\n",
       "    </tr>\n",
       "  </thead>\n",
       "  <tbody>\n",
       "    <tr>\n",
       "      <th>0</th>\n",
       "      <td>0</td>\n",
       "      <td>일안하는 시간은 쉬고싶어서 그런게 아닐까</td>\n",
       "      <td>0</td>\n",
       "    </tr>\n",
       "    <tr>\n",
       "      <th>1</th>\n",
       "      <td>1</td>\n",
       "      <td>아동성범죄와 페도버는 기록바 끊어져 영원히 고통 받는다 무슬림 퍼 근친이다  까지 ...</td>\n",
       "      <td>1</td>\n",
       "    </tr>\n",
       "    <tr>\n",
       "      <th>2</th>\n",
       "      <td>2</td>\n",
       "      <td>루나 솔로앨범 나왔을 때부터 머모 기운 있었음 ㅇㅇ     진짜 띵곡임 꼭 들어보셈</td>\n",
       "      <td>0</td>\n",
       "    </tr>\n",
       "    <tr>\n",
       "      <th>3</th>\n",
       "      <td>3</td>\n",
       "      <td>홍팍에도 어버이연합인가 보내요 뭐 이런뎃글 있는데 이거 어버이연합측에 신고하면 그쪽...</td>\n",
       "      <td>0</td>\n",
       "    </tr>\n",
       "    <tr>\n",
       "      <th>4</th>\n",
       "      <td>4</td>\n",
       "      <td>아놔 왜 여기 댓들은 다 여자들이 김치녀라고 먼저 불렸다 여자들은 더 심하게 그런다...</td>\n",
       "      <td>1</td>\n",
       "    </tr>\n",
       "  </tbody>\n",
       "</table>\n",
       "</div>"
      ],
      "text/plain": [
       "   Unnamed: 0                                           sentence  target\n",
       "0           0                             일안하는 시간은 쉬고싶어서 그런게 아닐까       0\n",
       "1           1  아동성범죄와 페도버는 기록바 끊어져 영원히 고통 받는다 무슬림 퍼 근친이다  까지 ...       1\n",
       "2           2     루나 솔로앨범 나왔을 때부터 머모 기운 있었음 ㅇㅇ     진짜 띵곡임 꼭 들어보셈       0\n",
       "3           3  홍팍에도 어버이연합인가 보내요 뭐 이런뎃글 있는데 이거 어버이연합측에 신고하면 그쪽...       0\n",
       "4           4  아놔 왜 여기 댓들은 다 여자들이 김치녀라고 먼저 불렸다 여자들은 더 심하게 그런다...       1"
      ]
     },
     "execution_count": 18,
     "metadata": {},
     "output_type": "execute_result"
    }
   ],
   "source": [
    "train_data['sentence'] = train_data['sentence'].str.replace(\"[^ㄱ-ㅎㅏ-ㅣ가-힣 ]\",\"\")\n",
    "# 한글과 공백을 제외하고 모두 제거\n",
    "train_data[:5]"
   ]
  },
  {
   "cell_type": "code",
   "execution_count": 19,
   "metadata": {
    "colab": {
     "base_uri": "https://localhost:8080/"
    },
    "id": "W1VTEzepnrDL",
    "outputId": "01b3ec27-614c-43d8-d11c-76d667591b99"
   },
   "outputs": [
    {
     "name": "stdout",
     "output_type": "stream",
     "text": [
      "Unnamed: 0     0\n",
      "sentence      24\n",
      "target         0\n",
      "dtype: int64\n"
     ]
    },
    {
     "name": "stderr",
     "output_type": "stream",
     "text": [
      "<ipython-input-19-bc5c82268599>:1: FutureWarning: The default value of regex will change from True to False in a future version.\n",
      "  train_data['sentence'] = train_data['sentence'].str.replace('^ +', \"\") # white space 데이터를 empty value로 변경\n"
     ]
    }
   ],
   "source": [
    "train_data['sentence'] = train_data['sentence'].str.replace('^ +', \"\") # white space 데이터를 empty value로 변경\n",
    "train_data['sentence'].replace('', np.nan, inplace=True)\n",
    "print(train_data.isnull().sum())"
   ]
  },
  {
   "cell_type": "code",
   "execution_count": 20,
   "metadata": {
    "colab": {
     "base_uri": "https://localhost:8080/",
     "height": 203
    },
    "id": "JQqu-K7ooQsU",
    "outputId": "39620541-03a8-467a-98a8-382f37093c57"
   },
   "outputs": [
    {
     "data": {
      "text/html": [
       "<div>\n",
       "<style scoped>\n",
       "    .dataframe tbody tr th:only-of-type {\n",
       "        vertical-align: middle;\n",
       "    }\n",
       "\n",
       "    .dataframe tbody tr th {\n",
       "        vertical-align: top;\n",
       "    }\n",
       "\n",
       "    .dataframe thead th {\n",
       "        text-align: right;\n",
       "    }\n",
       "</style>\n",
       "<table border=\"1\" class=\"dataframe\">\n",
       "  <thead>\n",
       "    <tr style=\"text-align: right;\">\n",
       "      <th></th>\n",
       "      <th>Unnamed: 0</th>\n",
       "      <th>sentence</th>\n",
       "      <th>target</th>\n",
       "    </tr>\n",
       "  </thead>\n",
       "  <tbody>\n",
       "    <tr>\n",
       "      <th>572</th>\n",
       "      <td>572</td>\n",
       "      <td>NaN</td>\n",
       "      <td>0</td>\n",
       "    </tr>\n",
       "    <tr>\n",
       "      <th>1054</th>\n",
       "      <td>1054</td>\n",
       "      <td>NaN</td>\n",
       "      <td>0</td>\n",
       "    </tr>\n",
       "    <tr>\n",
       "      <th>1469</th>\n",
       "      <td>1469</td>\n",
       "      <td>NaN</td>\n",
       "      <td>1</td>\n",
       "    </tr>\n",
       "    <tr>\n",
       "      <th>1646</th>\n",
       "      <td>1646</td>\n",
       "      <td>NaN</td>\n",
       "      <td>1</td>\n",
       "    </tr>\n",
       "    <tr>\n",
       "      <th>1996</th>\n",
       "      <td>1996</td>\n",
       "      <td>NaN</td>\n",
       "      <td>0</td>\n",
       "    </tr>\n",
       "  </tbody>\n",
       "</table>\n",
       "</div>"
      ],
      "text/plain": [
       "      Unnamed: 0 sentence  target\n",
       "572          572      NaN       0\n",
       "1054        1054      NaN       0\n",
       "1469        1469      NaN       1\n",
       "1646        1646      NaN       1\n",
       "1996        1996      NaN       0"
      ]
     },
     "execution_count": 20,
     "metadata": {},
     "output_type": "execute_result"
    }
   ],
   "source": [
    "train_data.loc[train_data.sentence.isnull()][:5]"
   ]
  },
  {
   "cell_type": "code",
   "execution_count": 21,
   "metadata": {
    "id": "2PjMgBhuoNKe"
   },
   "outputs": [],
   "source": [
    "train_data = train_data.dropna(how = 'any')"
   ]
  },
  {
   "cell_type": "code",
   "execution_count": 22,
   "metadata": {
    "colab": {
     "base_uri": "https://localhost:8080/"
    },
    "id": "tYFtD15Zn_Di",
    "outputId": "741fe61c-8363-487a-f481-8473caf0779a"
   },
   "outputs": [
    {
     "name": "stdout",
     "output_type": "stream",
     "text": [
      "14980\n"
     ]
    }
   ],
   "source": [
    "print(len(train_data))"
   ]
  },
  {
   "cell_type": "code",
   "execution_count": 23,
   "metadata": {
    "colab": {
     "base_uri": "https://localhost:8080/"
    },
    "id": "al5ilRRDodDy",
    "outputId": "e87497cd-336b-44f3-e45d-3eaaa5613637"
   },
   "outputs": [
    {
     "name": "stdout",
     "output_type": "stream",
     "text": [
      "전처리 후 테스트용 샘플의 개수 : 3730\n"
     ]
    },
    {
     "name": "stderr",
     "output_type": "stream",
     "text": [
      "<ipython-input-23-37159e8dcb43>:2: FutureWarning: The default value of regex will change from True to False in a future version.\n",
      "  test_data['sentence'] = test_data['sentence'].str.replace(\"[^ㄱ-ㅎㅏ-ㅣ가-힣 ]\",\"\") # 정규 표현식 수행\n",
      "<ipython-input-23-37159e8dcb43>:3: FutureWarning: The default value of regex will change from True to False in a future version.\n",
      "  test_data['sentence'] = test_data['sentence'].str.replace('^ +', \"\") # 공백은 empty 값으로 변경\n"
     ]
    }
   ],
   "source": [
    "test_data.drop_duplicates(subset = ['sentence'], inplace=True) # document 열에서 중복인 내용이 있다면 중복 제거\n",
    "test_data['sentence'] = test_data['sentence'].str.replace(\"[^ㄱ-ㅎㅏ-ㅣ가-힣 ]\",\"\") # 정규 표현식 수행\n",
    "test_data['sentence'] = test_data['sentence'].str.replace('^ +', \"\") # 공백은 empty 값으로 변경\n",
    "test_data['sentence'].replace('', np.nan, inplace=True) # 공백은 Null 값으로 변경\n",
    "test_data = test_data.dropna(how='any') # Null 값 제거\n",
    "print('전처리 후 테스트용 샘플의 개수 :',len(test_data))"
   ]
  },
  {
   "cell_type": "code",
   "execution_count": 24,
   "metadata": {
    "colab": {
     "base_uri": "https://localhost:8080/"
    },
    "id": "g8fnrhryopII",
    "outputId": "06bfcf42-cea7-4c7c-d180-12021d27ba42"
   },
   "outputs": [
    {
     "name": "stdout",
     "output_type": "stream",
     "text": [
      "전처리 후 테스트용 샘플의 개수 : 3730\n"
     ]
    }
   ],
   "source": [
    "print('전처리 후 테스트용 샘플의 개수 :',len(test_data))"
   ]
  },
  {
   "cell_type": "code",
   "execution_count": 25,
   "metadata": {
    "id": "UPPf9sPjoBq7"
   },
   "outputs": [],
   "source": [
    "stopwords = ['의','가','이','은','들','는','좀','잘','걍','과','도','를','으로','자','에','와','한','하다']"
   ]
  },
  {
   "cell_type": "code",
   "execution_count": 26,
   "metadata": {
    "id": "fjfQaubRofR-"
   },
   "outputs": [],
   "source": [
    "okt = Okt()"
   ]
  },
  {
   "cell_type": "code",
   "execution_count": 28,
   "metadata": {},
   "outputs": [],
   "source": [
    "from tokenizer.char import CharTokenizer\n",
    "tokenizerc = CharTokenizer()"
   ]
  },
  {
   "cell_type": "code",
   "execution_count": 29,
   "metadata": {
    "colab": {
     "base_uri": "https://localhost:8080/"
    },
    "id": "dcsq7xc4obAj",
    "outputId": "fc20ef28-6577-4c29-a645-9db155d83064"
   },
   "outputs": [
    {
     "name": "stderr",
     "output_type": "stream",
     "text": [
      "100%|██████████████████████████████████████████████████████████████████████████| 14980/14980 [00:02<00:00, 6564.11it/s]\n"
     ]
    }
   ],
   "source": [
    "X_train = []\n",
    "for sentence in tqdm(train_data['sentence']):\n",
    "    tokenized_sentence = tokenizerc.tokenize(sentence) # 토큰화\n",
    "    X_train.append(tokenized_sentence)"
   ]
  },
  {
   "cell_type": "code",
   "execution_count": 30,
   "metadata": {
    "colab": {
     "base_uri": "https://localhost:8080/"
    },
    "id": "S-QH3hiAomYB",
    "outputId": "de32cace-4178-467e-ef52-b708992ecab0"
   },
   "outputs": [
    {
     "name": "stderr",
     "output_type": "stream",
     "text": [
      "100%|████████████████████████████████████████████████████████████████████████████| 3730/3730 [00:00<00:00, 8423.33it/s]\n"
     ]
    }
   ],
   "source": [
    "X_test = []\n",
    "for sentence in tqdm(test_data['sentence']):\n",
    "    tokenized_sentence = tokenizerc.tokenize(sentence) # 토큰화\n",
    "    X_test.append(tokenized_sentence)"
   ]
  },
  {
   "cell_type": "code",
   "execution_count": 31,
   "metadata": {
    "colab": {
     "base_uri": "https://localhost:8080/"
    },
    "id": "AzPvb8HLpiQv",
    "outputId": "b92f8c17-1072-4cbb-fec8-0706024b9519"
   },
   "outputs": [
    {
     "name": "stdout",
     "output_type": "stream",
     "text": [
      "전처리 후 테스트용 샘플의 개수 : 3730\n"
     ]
    }
   ],
   "source": [
    "print('전처리 후 테스트용 샘플의 개수 :',len(X_test))"
   ]
  },
  {
   "cell_type": "code",
   "execution_count": 32,
   "metadata": {
    "id": "vT71wLflpRVy"
   },
   "outputs": [],
   "source": [
    "tokenizer = Tokenizer()\n",
    "tokenizer.fit_on_texts(X_train)"
   ]
  },
  {
   "cell_type": "code",
   "execution_count": 33,
   "metadata": {
    "colab": {
     "base_uri": "https://localhost:8080/"
    },
    "id": "hPfo_5xcqJcB",
    "outputId": "61e08bbf-b07d-4ed7-f487-500031288e28"
   },
   "outputs": [
    {
     "name": "stdout",
     "output_type": "stream",
     "text": [
      "{'▁': 1, '이': 2, 'ㅋ': 3, '는': 4, '다': 5, '지': 6, '고': 7, '들': 8, '하': 9, '가': 10, '도': 11, '아': 12, '라': 13, '나': 14, '자': 15, '한': 16, '에': 17, '서': 18, '기': 19, '은': 20, '어': 21, '니': 22, '리': 23, '인': 24, '노': 25, '사': 26, '면': 27, '거': 28, '로': 29, '게': 30, '그': 31, '해': 32, '보': 33, '데': 34, '대': 35, '을': 36, '야': 37, '시': 38, '만': 39, '남': 40, '으': 41, '여': 42, '성': 43, '국': 44, '새': 45, '끼': 46, '의': 47, '저': 48, '정': 49, '개': 50, '일': 51, '있': 52, '신': 53, '네': 54, '안': 55, '수': 56, '주': 57, '부': 58, '미': 59, '냐': 60, '상': 61, '전': 62, '무': 63, '제': 64, '없': 65, '애': 66, '진': 67, '생': 68, '스': 69, '마': 70, '구': 71, '를': 72, '말': 73, '동': 74, '발': 75, '같': 76, '요': 77, '오': 78, '교': 79, '까': 80, '치': 81, '소': 82, '되': 83, '더': 84, '장': 85, '람': 86, '내': 87, '려': 88, '건': 89, '조': 90, '좆': 91, '러': 92, '충': 93, '적': 94, '문': 95, '것': 96, '중': 97, '모': 98, '우': 99, '년': 100, '음': 101, '겠': 102, '민': 103, '세': 104, '할': 105, '당': 106, '런': 107, '비': 108, '못': 109, '원': 110, '임': 111, '선': 112, '병': 113, '유': 114, '화': 115, '왜': 116, '간': 117, '르': 118, '때': 119, '바': 120, '짜': 121, '살': 122, '랑': 123, '차': 124, '존': 125, '히': 126, '금': 127, '했': 128, '회': 129, '래': 130, '와': 131, '트': 132, '드': 133, '식': 134, '슬': 135, '먹': 136, '페': 137, '재': 138, '각': 139, '단': 140, '씨': 141, '분': 142, '위': 143, '실': 144, '좋': 145, '걸': 146, '잘': 147, '심': 148, '과': 149, '똥': 150, '알': 151, '많': 152, '난': 153, '경': 154, '입': 155, '받': 156, '반': 157, '테': 158, '족': 159, '체': 160, '레': 161, '함': 162, '글': 163, '뭐': 164, '종': 165, '었': 166, 'ㅇ': 167, '놈': 168, '독': 169, '공': 170, '않': 171, '처': 172, '역': 173, '불': 174, '예': 175, '본': 176, '후': 177, '좀': 178, '던': 179, '명': 180, '키': 181, '통': 182, '별': 183, '버': 184, '운': 185, '질': 186, '터': 187, '딱': 188, '감': 189, '죽': 190, '님': 191, '렇': 192, '너': 193, '된': 194, '방': 195, '근': 196, '피': 197, '법': 198, '싶': 199, '목': 200, '집': 201, '물': 202, '권': 203, '냥': 204, '쳐': 205, '군': 206, '관': 207, '쓰': 208, '직': 209, '추': 210, '꼬': 211, '베': 212, '맞': 213, '행': 214, '봐': 215, '합': 216, '따': 217, '벌': 218, '틀': 219, '든': 220, '져': 221, '팔': 222, '연': 223, '산': 224, '랄': 225, '용': 226, 'ㅎ': 227, '계': 228, '듯': 229, '파': 230, '혐': 231, '박': 232, '학': 233, '배': 234, '작': 235, '워': 236, 'ㄷ': 237, '돈': 238, '김': 239, '외': 240, '친': 241, '녀': 242, '디': 243, '호': 244, '급': 245, '갈': 246, '영': 247, '럼': 248, '등': 249, '결': 250, '매': 251, '태': 252, '깨': 253, '강': 254, '줄': 255, '머': 256, '홍': 257, '짱': 258, '천': 259, '북': 260, '번': 261, '길': 262, '력': 263, '혼': 264, '았': 265, '절': 266, '타': 267, '느': 268, '양': 269, '준': 270, '죄': 271, '누': 272, '망': 273, '빨': 274, '두': 275, '올': 276, '달': 277, '린': 278, 'ㄹ': 279, '긴': 280, '울': 281, '른': 282, '얼': 283, 'ㅅ': 284, '업': 285, '잡': 286, '림': 287, '싸': 288, '싫': 289, 'ㅉ': 290, '능': 291, '또': 292, '즘': 293, '욕': 294, '날': 295, '탈': 296, '답': 297, 'ㅂ': 298, '범': 299, '평': 300, '란': 301, '속': 302, '현': 303, '참': 304, '즈': 305, '짓': 306, '청': 307, '젠': 308, '언': 309, '깔': 310, '럽': 311, '쌍': 312, '코': 313, '닌': 314, '막': 315, '맘': 316, '형': 317, '악': 318, '슨': 319, '초': 320, '크': 321, '웃': 322, 'ㅠ': 323, '프': 324, '포': 325, '온': 326, '창': 327, '뒤': 328, '돌': 329, '빠': 330, '복': 331, '판': 332, '겨': 333, '증': 334, '돼': 335, '냄': 336, '필': 337, '뭔': 338, '습': 339, '놓': 340, '메': 341, '출': 342, '설': 343, 'ㅈ': 344, '특': 345, '련': 346, '름': 347, '표': 348, '변': 349, '토': 350, 'ㅊ': 351, '패': 352, '카': 353, '열': 354, '편': 355, '극': 356, '씹': 357, '몰': 358, 'ㅡ': 359, '폐': 360, '믿': 361, '폭': 362, '줘': 363, '꾸': 364, '순': 365, 'ㄱ': 366, '광': 367, '티': 368, '론': 369, '힘': 370, '점': 371, '약': 372, '응': 373, '착': 374, 'ㅌ': 375, '허': 376, '꼴': 377, '투': 378, '될': 379, '켜': 380, '됨': 381, '넘': 382, '잖': 383, '며': 384, '꺼': 385, '떻': 386, '눈': 387, '징': 388, '최': 389, '확': 390, '백': 391, '손': 392, '퍼': 393, '왔': 394, '격': 395, '죠': 396, '루': 397, '탄': 398, '써': 399, '댓': 400, '찍': 401, '였': 402, '료': 403, '똑': 404, '봤': 405, '좌': 406, '취': 407, '굴': 408, '송': 409, '육': 410, 'ㅆ': 411, '희': 412, '환': 413, '억': 414, '쪽': 415, '갔': 416, '향': 417, '검': 418, '렸': 419, '떠': 420, '걍': 421, '늘': 422, '뿐': 423, '앞': 424, '움': 425, '령': 426, '텐': 427, '퀴': 428, '축': 429, '책': 430, '커': 431, '밖': 432, '몇': 433, '석': 434, '엔': 435, '웜': 436, '얘': 437, '께': 438, '릴': 439, '짤': 440, '놀': 441, '항': 442, '밥': 443, '쟁': 444, '맛': 445, '익': 446, '앵': 447, '술': 448, '솔': 449, '귀': 450, '골': 451, '립': 452, '논': 453, '쓴': 454, '휴': 455, '락': 456, '활': 457, '록': 458, '둘': 459, '섹': 460, '삼': 461, '총': 462, '척': 463, '쟤': 464, '곳': 465, '졌': 466, '흑': 467, '류': 468, '엄': 469, '찰': 470, '철': 471, '떨': 472, '볼': 473, '찬': 474, '십': 475, '염': 476, '앙': 477, '딴': 478, '멍': 479, '댕': 480, '몸': 481, '겼': 482, '끝': 483, 'ㄴ': 484, '월': 485, '빼': 486, '색': 487, '먼': 488, '찾': 489, '득': 490, '험': 491, '붙': 492, '짐': 493, '뭘': 494, '됐': 495, '맨': 496, '암': 497, '꿀': 498, '담': 499, '택': 500, '완': 501, '승': 502, '찌': 503, '읽': 504, '클': 505, '갖': 506, '뽑': 507, 'ㅜ': 508, '딸': 509, '념': 510, '쩌': 511, '케': 512, '럴': 513, '뇌': 514, '꼭': 515, '침': 516, '높': 517, '쁘': 518, '갱': 519, '큰': 520, '갑': 521, '황': 522, '혀': 523, '넣': 524, '덕': 525, '괴': 526, '봉': 527, '갓': 528, '탕': 529, '떤': 530, '브': 531, '딩': 532, '궁': 533, '혜': 534, '쁜': 535, '숨': 536, '례': 537, '접': 538, '깐': 539, '쓸': 540, '났': 541, '잠': 542, '듣': 543, '채': 544, '풀': 545, '품': 546, '율': 547, '낫': 548, '팩': 549, '낳': 550, '빡': 551, '멸': 552, '챙': 553, '끄': 554, '뜨': 555, '졸': 556, '플': 557, '센': 558, '견': 559, '깝': 560, '잔': 561, '빵': 562, '겁': 563, '잼': 564, '랜': 565, '셔': 566, '흉': 567, '괜': 568, '땅': 569, '멋': 570, '웅': 571, '옥': 572, '싹': 573, '밀': 574, '킨': 575, '압': 576, '젤': 577, '뿌': 578, '뉴': 579, '줌': 580, '촌': 581, '덜': 582, '씩': 583, '큼': 584, '낙': 585, '쉬': 586, '봊': 587, '랍': 588, '멀': 589, '짝': 590, '떡': 591, '줬': 592, '껄': 593, '닐': 594, '털': 595, '겹': 596, '잇': 597, '째': 598, '혹': 599, '튼': 600, '랬': 601, '규': 602, '헌': 603, '뻔': 604, '겟': 605, '쇼': 606, '블': 607, '낮': 608, '왕': 609, '퇴': 610, '칭': 611, '슴': 612, '콘': 613, '걱': 614, '둥': 615, '탓': 616, '섭': 617, '찮': 618, '벗': 619, '칼': 620, '뚱': 621, '셋': 622, '캐': 623, '풍': 624, '쳤': 625, '껴': 626, '좃': 627, '봄': 628, '핀': 629, '셨': 630, '칠': 631, '협': 632, '닥': 633, '옷': 634, '찐': 635, '핑': 636, '랐': 637, '끔': 638, '혈': 639, '헤': 640, '꾼': 641, '액': 642, '쩔': 643, '훈': 644, '끌': 645, '숙': 646, '곤': 647, '옹': 648, '엇': 649, '놔': 650, '빌': 651, '팅': 652, '쉽': 653, '밑': 654, '낌': 655, 'ㄲ': 656, '땐': 657, '뜻': 658, '덩': 659, '쾌': 660, '옴': 661, '윾': 662, '링': 663, '묻': 664, '굳': 665, '납': 666, '곧': 667, '븅': 668, '맙': 669, '떼': 670, '넷': 671, '슷': 672, '값': 673, '놐': 674, '률': 675, '훨': 676, '씬': 677, '욱': 678, '밝': 679, '쯤': 680, '늙': 681, '꿔': 682, '빻': 683, '컷': 684, '션': 685, '슈': 686, '쾅': 687, '빈': 688, '힌': 689, '잦': 690, '흥': 691, '쥐': 692, '균': 693, '쿵': 694, '폰': 695, '젊': 696, '숭': 697, '롱': 698, '핵': 699, '쀼': 700, '썩': 701, '흐': 702, '롭': 703, '밌': 704, '찢': 705, '낸': 706, '킹': 707, '옛': 708, '씀': 709, '헬': 710, '섬': 711, '렌': 712, '둬': 713, '잃': 714, '량': 715, '옳': 716, '킬': 717, '푸': 718, 'ㅁ': 719, '퍄': 720, '삭': 721, '퇘': 722, '옆': 723, '밟': 724, '뜯': 725, '즐': 726, '웨': 727, '햇': 728, '팬': 729, '튀': 730, '헛': 731, '삶': 732, '낀': 733, '첨': 734, '릭': 735, '탁': 736, '뀌': 737, '몽': 738, 'ㅍ': 739, '땜': 740, '웠': 741, '콜': 742, '놨': 743, '낭': 744, '렁': 745, '닭': 746, '엽': 747, '뛰': 748, '빙': 749, '묵': 750, '농': 751, '됩': 752, '앱': 753, '릇': 754, '얻': 755, '긋': 756, '효': 757, '띵': 758, '썰': 759, '렴': 760, '층': 761, '엑': 762, '캬': 763, '걔': 764, '낼': 765, '샤': 766, '앉': 767, '닙': 768, '꽁': 769, '잊': 770, '널': 771, '뒈': 772, '획': 773, '쉰': 774, '춰': 775, '낄': 776, '춘': 777, '략': 778, '엘': 779, '뒷': 780, '맥': 781, '쎄': 782, '뽀': 783, '넌': 784, '룩': 785, '벽': 786, '끊': 787, '텔': 788, '켰': 789, '잉': 790, '혁': 791, '뽕': 792, '츠': 793, '밤': 794, '꿈': 795, '빤': 796, '냈': 797, '돔': 798, '므': 799, '튜': 800, '릉': 801, '묘': 802, '톨': 803, '홀': 804, '딜': 805, '젖': 806, '첫': 807, '칙': 808, '윤': 809, '멘': 810, '즉': 811, '훼': 812, '렀': 813, '턴': 814, '냅': 815, '땡': 816, '썼': 817, '팍': 818, '봅': 819, '헐': 820, '앗': 821, '컨': 822, '엉': 823, 'ㅣ': 824, '옮': 825, '녕': 826, '탑': 827, '쫓': 828, '엿': 829, '첩': 830, '싱': 831, '쫌': 832, '밍': 833, '힐': 834, '늦': 835, '흔': 836, '윽': 837, '꽃': 838, '뚫': 839, '뱀': 840, '쇄': 841, '벼': 842, '뻐': 843, '혔': 844, '듬': 845, 'ㅗ': 846, '뮤': 847, '렵': 848, '왠': 849, '껏': 850, '닮': 851, '눠': 852, '읍': 853, '싼': 854, '닫': 855, '쪼': 856, '콩': 857, '맡': 858, '왤': 859, '셀': 860, '겪': 861, '찔': 862, '끈': 863, '탱': 864, '픈': 865, '쭉': 866, '맹': 867, '숫': 868, '롤': 869, '쑤': 870, '쩡': 871, '쯧': 872, '덤': 873, '겐': 874, '컴': 875, '쿨': 876, '뷰': 877, '쿰': 878, '궈': 879, '휘': 880, '롬': 881, '엮': 882, '뿔': 883, '둑': 884, '렬': 885, '뿟': 886, '빽': 887, '뚜': 888, '눌': 889, '델': 890, '쿠': 891, '뱅': 892, '폴': 893, '꿘': 894, '똘': 895, '뚝': 896, '깜': 897, '녔': 898, '녹': 899, '흘': 900, '씌': 901, '럭': 902, '흙': 903, '넼': 904, '짭': 905, '닝': 906, '멈': 907, '엠': 908, '곡': 909, '쌔': 910, '쫄': 911, '뭉': 912, '춤': 913, '객': 914, '쉐': 915, '몬': 916, '탐': 917, '릅': 918, '륜': 919, '켓': 920, '겉': 921, '섞': 922, '쏘': 923, '갤': 924, '찜': 925, '됬': 926, '컬': 927, '꽂': 928, '톡': 929, '돋': 930, '랫': 931, '꽤': 932, '덮': 933, '댐': 934, '렷': 935, '묶': 936, '쉴': 937, '쌀': 938, '및': 939, '즌': 940, '빅': 941, '큐': 942, '엌': 943, '삐': 944, '넨': 945, '픽': 946, '측': 947, '풉': 948, '윗': 949, '펄': 950, '낚': 951, '쩍': 952, '굶': 953, '뷔': 954, '봇': 955, '썅': 956, '깽': 957, '텅': 958, '뺏': 959, '엥': 960, '궐': 961, 'ㅛ': 962, '뜬': 963, '짬': 964, '닉': 965, '랩': 966, '듭': 967, '벅': 968, '짖': 969, '꼈': 970, '띠': 971, '좇': 972, '딨': 973, '끗': 974, '쫒': 975, '옵': 976, '렙': 977, '냔': 978, '핸': 979, '왈': 980, '앰': 981, '윈': 982, '벤': 983, '괄': 984, '릿': 985, '탠': 986, '잣': 987, '빛': 988, '쏠': 989, '곁': 990, '쌓': 991, '짧': 992, '벨': 993, '셉': 994, '빔': 995, '킥': 996, '팡': 997, '둔': 998, 'ㅏ': 999, '캡': 1000, '펜': 1001, '렉': 1002, '쩐': 1003, '펴': 1004, '훔': 1005, '겸': 1006, '쌈': 1007, '샌': 1008, '껀': 1009, '걷': 1010, '뭣': 1011, '꼽': 1012, '랏': 1013, '냉': 1014, '씻': 1015, '겄': 1016, '얌': 1017, '쏟': 1018, '겜': 1019, '푼': 1020, '웬': 1021, '톱': 1022, '좁': 1023, '턱': 1024, '퉤': 1025, '벙': 1026, '뱃': 1027, '쭈': 1028, '앤': 1029, '몫': 1030, '떄': 1031, '램': 1032, '붕': 1033, '뀜': 1034, 'ㅑ': 1035, 'ㅄ': 1036, '흡': 1037, '컵': 1038, '덴': 1039, '츄': 1040, '숏': 1041, '닦': 1042, '뜰': 1043, '괘': 1044, '깃': 1045, '힙': 1046, '핏': 1047, '곰': 1048, '쒸': 1049, '썬': 1050, '왼': 1051, '셜': 1052, '팁': 1053, '떳': 1054, '덧': 1055, '붓': 1056, '넓': 1057, '겻': 1058, '덥': 1059, '쏴': 1060, '짞': 1061, '셈': 1062, 'ㅐ': 1063, '딲': 1064, '얹': 1065, '밴': 1066, '룸': 1067, '뱉': 1068, '뻘': 1069, '쇠': 1070, 'ㄸ': 1071, '짚': 1072, '젝': 1073, '굿': 1074, '댈': 1075, '뤄': 1076, '쥬': 1077, '랙': 1078, '롯': 1079, '닿': 1080, '꼰': 1081, '줫': 1082, '팀': 1083, '뜩': 1084, '칸': 1085, '멧': 1086, '웹': 1087, '캔': 1088, '봣': 1089, '랴': 1090, '넹': 1091, '럿': 1092, '흠': 1093, '빗': 1094, '펼': 1095, '깡': 1096, '킴': 1097, '뺨': 1098, '웩': 1099, '틸': 1100, '띄': 1101, 'ㅔ': 1102, '펨': 1103, '죶': 1104, '펑': 1105, '쟈': 1106, '젓': 1107, '렐': 1108, '쁨': 1109, '섰': 1110, '쌩': 1111, '곱': 1112, '삽': 1113, '늬': 1114, '뎅': 1115, '믄': 1116, '썹': 1117, '툰': 1118, '훌': 1119, '륭': 1120, '뇬': 1121, '퀄': 1122, '뻥': 1123, '랭': 1124, '댄': 1125, '밸': 1126, '닼': 1127, '뼈': 1128, '깊': 1129, '홈': 1130, '굽': 1131, 'ㅓ': 1132, '앜': 1133, '긁': 1134, '팽': 1135, '팝': 1136, '뺑': 1137, '빕': 1138, '굉': 1139, 'ㅃ': 1140, '믹': 1141, '멕': 1142, '끓': 1143, '푹': 1144, '쨌': 1145, '쩜': 1146, '얗': 1147, '펙': 1148, '갚': 1149, '쳣': 1150, '촛': 1151, '쯔': 1152, '닷': 1153, '뇨': 1154, '꼼': 1155, '둠': 1156, '삘': 1157, '캄': 1158, '밭': 1159, '찻': 1160, '졋': 1161, '졷': 1162, '볶': 1163, '녁': 1164, '딘': 1165, '룹': 1166, '틴': 1167, '늠': 1168, '쿼': 1169, '찼': 1170, '꽥': 1171, '꽉': 1172, '찡': 1173, '헴': 1174, '촬': 1175, '팰': 1176, '멜': 1177, '뻑': 1178, '헉': 1179, '폄': 1180, '틈': 1181, '섯': 1182, '홧': 1183, '횡': 1184, '엣': 1185, '됫': 1186, '릎': 1187, '껍': 1188, '귄': 1189, '렛': 1190, '룡': 1191, '빚': 1192, '뀔': 1193, '폼': 1194, '깍': 1195, '캠': 1196, '샘': 1197, '썻': 1198, '갘': 1199, '꿨': 1200, '썸': 1201, '솤': 1202, '륙': 1203, '퓨': 1204, '툭': 1205, '눔': 1206, '냨': 1207, '헷': 1208, '찝': 1209, '콕': 1210, '맵': 1211, '퉷': 1212, '쪄': 1213, '셧': 1214, '쥰': 1215, '됌': 1216, '뢰': 1217, '깎': 1218, '핫': 1219, '쿡': 1220, '삿': 1221, '샷': 1222, '텀': 1223, '얀': 1224, '됴': 1225, '풋': 1226, '샛': 1227, '엒': 1228, '엎': 1229, '퍽': 1230, '줏': 1231, '템': 1232, '펠': 1233, '얄': 1234, '꽈': 1235, '쩝': 1236, '쑈': 1237, '낯': 1238, '롸': 1239, '힝': 1240, '꿇': 1241, '픔': 1242, '뀐': 1243, 'ㅕ': 1244, '씁': 1245, '촉': 1246, '뭡': 1247, '컸': 1248, '즙': 1249, '땠': 1250, '쓱': 1251, '긔': 1252, '왓': 1253, '굼': 1254, '떴': 1255, '룰': 1256, '뗀': 1257, '뭇': 1258, '꺽': 1259, '뽐': 1260, '샀': 1261, '뉘': 1262, '욧': 1263, '껌': 1264, '꺠': 1265, '긍': 1266, '줍': 1267, '헠': 1268, '넴': 1269, '뤘': 1270, '렘': 1271, '욜': 1272, '짘': 1273, '촘': 1274, '톤': 1275, '펀': 1276, '짠': 1277, '앎': 1278, '끠': 1279, '팼': 1280, '밋': 1281, '땀': 1282, '솟': 1283, '퐁': 1284, '넉': 1285, '셴': 1286, '쎅': 1287, '폈': 1288, '숟': 1289, '꿍': 1290, '뽄': 1291, '콤': 1292, '펭': 1293, '뤼': 1294, '죤': 1295, '튈': 1296, '뎈': 1297, '듦': 1298, '쿄': 1299, '갯': 1300, '뺴': 1301, '콧': 1302, '깁': 1303, '싯': 1304, '컥': 1305, '틱': 1306, '쁠': 1307, '깈': 1308, '쭝': 1309, '궤': 1310, '퉁': 1311, '귓': 1312, '댜': 1313, '밬': 1314, '썪': 1315, '밉': 1316, '몹': 1317, '웰': 1318, '귤': 1319, '융': 1320, '캣': 1321, '삥': 1322, '샾': 1323, '퀸': 1324, '뭄': 1325, '쫑': 1326, '솜': 1327, '깟': 1328, '퓰': 1329, '앂': 1330, '댔': 1331, '햄': 1332, '얇': 1333, '앢': 1334, '뵈': 1335, '텨': 1336, '캅': 1337, '랔': 1338, '텍': 1339, '맑': 1340, '얍': 1341, '샵': 1342, '돕': 1343, '쨋': 1344, '맺': 1345, '핥': 1346, '갇': 1347, '꾀': 1348, '츤': 1349, '룻': 1350, '꺾': 1351, '씽': 1352, '뾰': 1353, '훅': 1354, '셍': 1355, '훠': 1356, '팻': 1357, '뺐': 1358, '휙': 1359, '뗄': 1360, '숴': 1361, '읎': 1362, '햐': 1363, '튭': 1364, '켠': 1365, '멤': 1366, '칩': 1367, '튄': 1368, '뚤': 1369, '펌': 1370, '웁': 1371, '젼': 1372, '횟': 1373, '훳': 1374, '깄': 1375, '뮬': 1376, '쌕': 1377, '쪘': 1378, '뻣': 1379, '잩': 1380, '윙': 1381, '닛': 1382, '뺍': 1383, '떵': 1384, '탔': 1385, '잰': 1386, '랰': 1387, '흩': 1388, '옺': 1389, '펍': 1390, '뜸': 1391, '숩': 1392, '잎': 1393, '쫘': 1394, '툼': 1395, '훤': 1396, '섻': 1397, '잌': 1398, '낱': 1399, '떈': 1400, '꿎': 1401, '뎌': 1402, '죵': 1403, '쉑': 1404, '랟': 1405, '쌉': 1406, '핰': 1407, '츙': 1408, '앍': 1409, '갠': 1410, '콱': 1411, '쏙': 1412, '챦': 1413, '랖': 1414, '챱': 1415, '샅': 1416, '껐': 1417, '븐': 1418, '쵸': 1419, '칵': 1420, '찿': 1421, '됏': 1422, '갸': 1423, '겔': 1424, '꼐': 1425, '냇': 1426, '왘': 1427, '탉': 1428, '댸': 1429, '깰': 1430, '겧': 1431, '뻗': 1432, '슐': 1433, '삯': 1434, '힣': 1435, '쫙': 1436, '헙': 1437, '뼛': 1438, '쟬': 1439, '럔': 1440, '껰': 1441, '뎁': 1442, '딪': 1443, '낑': 1444, '댘': 1445, '눕': 1446, '뽈': 1447, '땟': 1448, '딧': 1449, '쏜': 1450, '륵': 1451, '욥': 1452, '엊': 1453, '삔': 1454, '셰': 1455, '볍': 1456, '빳': 1457, '샹': 1458, '깥': 1459, '욬': 1460, '냠': 1461, '캥': 1462, '곽': 1463, '굔': 1464, '짊': 1465, '먜': 1466, '툽': 1467, '쫩': 1468, '휩': 1469, '놧': 1470, '쟎': 1471, '콸': 1472, '쟝': 1473, '깉': 1474, '컹': 1475, '쟨': 1476, '뿍': 1477, '눼': 1478, '쑴': 1479, '즁': 1480, '밈': 1481, '벡': 1482, '팠': 1483, '쭐': 1484, '돠': 1485, '맷': 1486, '뻤': 1487, '띈': 1488, '뀍': 1489, '쌌': 1490, '뭍': 1491, '딕': 1492, '귝': 1493, '꿰': 1494, '췌': 1495, '껑': 1496, '볕': 1497, '꽝': 1498, '앓': 1499, '킵': 1500, '쌘': 1501, '룐': 1502, '끽': 1503, '홉': 1504, '킁': 1505, '왁': 1506, '튐': 1507, '꼇': 1508, '슛': 1509, '얏': 1510, '켯': 1511, '췄': 1512, '꺄': 1513, '왱': 1514, '얜': 1515, '쫀': 1516, '훗': 1517, '쿤': 1518, '뛴': 1519, '앚': 1520, '깬': 1521, '썽': 1522, '츳': 1523, '쑥': 1524, '쥔': 1525, '헝': 1526, '끙': 1527, '쑨': 1528, '듸': 1529, '넙': 1530, '앨': 1531, '뎃': 1532, '빍': 1533, '뱁': 1534, '텝': 1535, '큨': 1536, '핬': 1537, '쨰': 1538, '씸': 1539, '둡': 1540, '몌': 1541, '붉': 1542, '넫': 1543, '캭': 1544, '햣': 1545, '띡': 1546, '쁩': 1547, '잤': 1548, '텡': 1549, '씰': 1550, '쳑': 1551, '웝': 1552, '쭌': 1553, '귈': 1554, '켈': 1555, '혓': 1556, '탬': 1557, '왐': 1558, '죨': 1559, '쨔': 1560, '젭': 1561, '꽹': 1562, '읻': 1563, '푤': 1564, '큭': 1565, '믾': 1566, '쯍': 1567, '듈': 1568, '웟': 1569, '앴': 1570, '딥': 1571, '듴': 1572, '챈': 1573, '햑': 1574, '멵': 1575, '렜': 1576, '걀': 1577, '섀': 1578, '겆': 1579, '젔': 1580, '죳': 1581, '팥': 1582, '눞': 1583, '냣': 1584, '걋': 1585, '놌': 1586, '흰': 1587, '뻡': 1588, '먤': 1589, '셤': 1590, '켱': 1591, '짢': 1592, '뛸': 1593, '앝': 1594, '낰': 1595, '뮨': 1596, '곷': 1597, '셐': 1598, '눴': 1599, '녓': 1600, '낻': 1601, '멎': 1602, '쥣': 1603, '훚': 1604, '숰': 1605, '얕': 1606, '삻': 1607, '줜': 1608, '괙': 1609, '숲': 1610, '눙': 1611, '샄': 1612, '톰': 1613, '꿩': 1614, '쉿': 1615, '솓': 1616, '팟': 1617, '뗏': 1618, '걜': 1619, '읊': 1620, '븡': 1621, '죈': 1622, '쟛': 1623, '맍': 1624, '찎': 1625, '텃': 1626, '몆': 1627, '뢀': 1628, '젛': 1629, '뽜': 1630, '뗌': 1631, '늚': 1632, '얺': 1633, '켔': 1634, '맏': 1635, '횐': 1636, '뒀': 1637, '뗵': 1638, '벉': 1639, '맜': 1640, '듕': 1641, '꿉': 1642, '쨈': 1643, '뼝': 1644, '듀': 1645, '잍': 1646, '읶': 1647, '갬': 1648, '갗': 1649, '앳': 1650, 'ㅒ': 1651, '섣': 1652, '팜': 1653, '팸': 1654, '껫': 1655, '샊': 1656, '샨': 1657, '슙': 1658, '믽': 1659, '캘': 1660, '닠': 1661, '잭': 1662, '뜷': 1663, '떙': 1664, '핍': 1665, '쩨': 1666, '쌤': 1667, '췰': 1668, '칫': 1669, '쏭': 1670, '맟': 1671, '땬': 1672, '눜': 1673, '룬': 1674, '춴': 1675, '햰': 1676, '냼': 1677, '얚': 1678, '햬': 1679, '웻': 1680, '몀': 1681, '돐': 1682, '쒼': 1683, '캇': 1684, '싰': 1685, '얽': 1686, '갛': 1687, '겯': 1688, '뷴': 1689, '뚯': 1690, '잽': 1691, '뗴': 1692, '뎀': 1693, '븍': 1694, '뿜': 1695, '벵': 1696, '챤': 1697, '햠': 1698, '밧': 1699, '덟': 1700, '잴': 1701, '킼': 1702, '틐': 1703, '컫': 1704, '맣': 1705, '줒': 1706, '굵': 1707, '놋': 1708, '릌': 1709, '섿': 1710, '캤': 1711, '챗': 1712, '뵐': 1713, '짆': 1714, '낔': 1715, '릫': 1716, '늒': 1717, '옇': 1718, '쬐': 1719, '갹': 1720, '뤀': 1721, '딤': 1722, '멱': 1723, '섴': 1724, '깞': 1725, '켬': 1726, '롹': 1727, '늑': 1728, '챠': 1729, '쩅': 1730, '쐈': 1731, '쭤': 1732, '혾': 1733, '볺': 1734, '몃': 1735, '똠': 1736, '닳': 1737, '웍': 1738, '뀨': 1739, '솥': 1740, '꾹': 1741, '뎄': 1742, '뿠': 1743, '핌': 1744, '젴': 1745, '넛': 1746, '찟': 1747, '겋': 1748, '짦': 1749, '럇': 1750, '옐': 1751, '딛': 1752, '뺀': 1753, '땄': 1754, '큽': 1755, '횔': 1756, '넥': 1757, '욨': 1758, '뗐': 1759, '륨': 1760, '땃': 1761, '슘': 1762, '퀵': 1763, '낢': 1764, '싢': 1765, '듄': 1766, '뭨': 1767, '랗': 1768, '슼': 1769, '텋': 1770, '텄': 1771, '쨩': 1772, '괸': 1773, '벚': 1774, '삑': 1775, '툴': 1776, '뿡': 1777, '윳': 1778, '슝': 1779, '뷷': 1780, '얔': 1781, '겊': 1782, '벳': 1783, '촠': 1784, '쳌': 1785, '껳': 1786, '욀': 1787, '켤': 1788, '캉': 1789, '왬': 1790, '됀': 1791, '윀': 1792, '깅': 1793, '곸': 1794, '짇': 1795, '쟜': 1796, '쬬': 1797, '뮈': 1798, '뷩': 1799, '뺘': 1800, '줮': 1801, '겅': 1802, '핼': 1803, '닺': 1804, '돗': 1805, '뺌': 1806, '듓': 1807, '빧': 1808, '쇳': 1809, '짲': 1810, '킷': 1811, '뭬': 1812, '궜': 1813, '긐': 1814, '넵': 1815, '쨥': 1816, '띤': 1817, '뱡': 1818}\n"
     ]
    }
   ],
   "source": [
    "print(tokenizer.word_index)"
   ]
  },
  {
   "cell_type": "code",
   "execution_count": 34,
   "metadata": {
    "colab": {
     "base_uri": "https://localhost:8080/"
    },
    "id": "P87MGN80q7b2",
    "outputId": "c3f4eee1-1b8c-47d3-9cbf-b504dd4f41b3"
   },
   "outputs": [
    {
     "name": "stdout",
     "output_type": "stream",
     "text": [
      "odict_items([('일', 1977), ('안', 1889), ('하', 7810), ('는', 9948), ('▁', 115192), ('시', 2648), ('간', 792), ('은', 4326), ('쉬', 59), ('고', 7860), ('싶', 474), ('어', 4127), ('서', 4542), ('그', 3109), ('런', 918), ('게', 3432), ('아', 5627), ('닐', 56), ('까', 1265), ('동', 1389), ('성', 2296), ('범', 276), ('죄', 337), ('와', 711), ('페', 677), ('도', 6089), ('버', 507), ('기', 4466), ('록', 114), ('바', 779), ('끊', 24), ('져', 424), ('영', 381), ('원', 890), ('히', 754), ('통', 509), ('받', 593), ('다', 9584), ('무', 1550), ('슬', 684), ('림', 294), ('퍼', 163), ('근', 475), ('친', 386), ('이', 15875), ('지', 7911), ('떨', 107), ('출', 225), ('산', 413), ('위', 642), ('험', 100), ('루', 160), ('나', 5408), ('솔', 118), ('로', 3441), ('앨', 1), ('왔', 163), ('을', 2756), ('때', 784), ('부', 1774), ('터', 496), ('머', 366), ('모', 1024), ('운', 506), ('있', 1952), ('었', 575), ('음', 998), ('ㅇ', 573), ('진', 1427), ('짜', 771), ('띵', 27), ('곡', 15), ('임', 869), ('꼭', 88), ('들', 7858), ('보', 2910), ('셈', 8), ('홍', 366), ('팍', 21), ('에', 4886), ('연', 414), ('합', 441), ('인', 3648), ('가', 7107), ('내', 1157), ('요', 1350), ('뭐', 577), ('뎃', 1), ('글', 578), ('데', 2908), ('거', 3595), ('측', 13), ('신', 1928), ('면', 3610), ('쪽', 143), ('소', 1224), ('능', 287), ('냐', 1754), ('놔', 42), ('왜', 795), ('여', 2315), ('댓', 158), ('자', 5290), ('김', 389), ('치', 1228), ('녀', 386), ('라', 5498), ('먼', 101), ('저', 2083), ('불', 542), ('렸', 141), ('더', 1177), ('심', 619), ('렇', 482), ('개', 1989), ('싸', 293), ('우', 1007), ('볼', 107), ('땐', 41), ('둘', 114), ('쁜', 78), ('말', 1395), ('상', 1590), ('닌', 255), ('향', 142), ('피', 475), ('방', 477), ('네', 1899), ('럴', 89), ('구', 1405), ('랑', 767), ('르', 785), ('없', 1499), ('야', 2672), ('니', 4090), ('막', 255), ('되', 1214), ('당', 920), ('키', 511), ('드', 699), ('를', 1400), ('러', 1120), ('않', 550), ('많', 607), ('칠', 48), ('긴', 309), ('해', 2979), ('반', 590), ('겠', 995), ('예', 534), ('수', 1851), ('십', 106), ('새', 2178), ('끼', 2170), ('창', 243), ('애', 1496), ('비', 910), ('실', 637), ('종', 576), ('정', 2079), ('교', 1295), ('육', 148), ('못', 910), ('뇌', 89), ('충', 1120), ('허', 178), ('언', 264), ('증', 233), ('병', 854), ('사', 3629), ('꾼', 44), ('망', 333), ('본', 534), ('장', 1172), ('짱', 365), ('흑', 111), ('람', 1167), ('전', 1584), ('급', 384), ('쳐', 466), ('먹', 682), ('놈', 557), ('대', 2891), ('리', 3702), ('똥', 616), ('만', 2534), ('찬', 107), ('청', 265), ('같', 1369), ('계', 407), ('집', 473), ('의', 2084), ('적', 1102), ('으', 2340), ('군', 466), ('결', 375), ('될', 176), ('조', 1142), ('켜', 175), ('할', 943), ('꺼', 170), ('슨', 251), ('낳', 72), ('식', 699), ('재', 672), ('ㅂ', 277), ('ㅅ', 303), ('ㅌ', 179), ('ㅊ', 213), ('노', 3640), ('ㅋ', 15552), ('배', 402), ('남', 2430), ('떻', 170), ('생', 1423), ('겼', 103), ('뺨', 7), ('린', 311), ('월', 102), ('려', 1144), ('주', 1837), ('금', 743), ('단', 663), ('슴', 51), ('너', 480), ('프', 249), ('작', 401), ('살', 769), ('얼', 305), ('마', 1408), ('외', 388), ('웠', 29), ('갓', 80), ('희', 146), ('현', 271), ('테', 588), ('미', 1767), ('제', 1546), ('양', 339), ('답', 280), ('좆', 1136), ('씨', 653), ('발', 1378), ('따', 436), ('넘', 174), ('갔', 143), ('메', 226), ('속', 273), ('강', 367), ('화', 797), ('커', 132), ('블', 52), ('한', 5119), ('축', 134), ('회', 734), ('협', 48), ('박', 404), ('스', 1410), ('킬', 33), ('패', 213), ('브', 79), ('께', 127), ('격', 162), ('호', 385), ('텔', 24), ('완', 95), ('듯', 407), ('토', 216), ('올', 323), ('쳤', 49), ('짓', 268), ('설', 223), ('웩', 7), ('틸', 7), ('알', 608), ('콜', 29), ('쓰', 462), ('질', 497), ('문', 1100), ('공', 551), ('업', 301), ('용', 411), ('세', 967), ('법', 475), ('술', 119), ('쓴', 117), ('띄', 7), ('울', 307), ('국', 2253), ('유', 840), ('준', 339), ('절', 346), ('팩', 73), ('트', 701), ('쑈', 4), ('빼', 102), ('것', 1075), ('돼', 233), ('권', 467), ('탄', 159), ('핵', 35), ('힘', 188), ('싫', 288), ('년', 1001), ('욕', 283), ('괜', 65), ('냥', 467), ('죽', 484), ('좋', 634), ('침', 86), ('티', 192), ('직', 462), ('선', 862), ('돈', 391), ('갖', 92), ('폭', 201), ('ㅎ', 411), ('민', 987), ('깄', 2), ('큰', 84), ('났', 77), ('댕', 104), ('놨', 29), ('봐', 443), ('봤', 152), ('중', 1030), ('굉', 6), ('분', 650), ('황', 83), ('순', 200), ('켰', 24), ('뻑', 5), ('뿔', 17), ('님', 483), ('천', 359), ('앙', 105), ('독', 556), ('후', 526), ('역', 546), ('확', 167), ('필', 229), ('뜬', 12), ('름', 218), ('잡', 295), ('체', 582), ('목', 474), ('숨', 78), ('존', 756), ('딱', 491), ('걸', 626), ('느', 342), ('오', 1309), ('닙', 26), ('뉴', 61), ('길', 356), ('낯', 4), ('좀', 526), ('달', 315), ('건', 1144), ('디', 386), ('늘', 139), ('뚝', 16), ('맞', 453), ('멘', 22), ('타', 344), ('념', 91), ('뿐', 139), ('냄', 232), ('움', 135), ('포', 249), ('뭘', 98), ('뜻', 41), ('물', 470), ('카', 213), ('폐', 203), ('뮬', 2), ('레', 581), ('션', 37), ('섹', 114), ('쎅', 3), ('쌕', 2), ('섭', 50), ('초', 251), ('론', 191), ('관', 464), ('련', 220), ('ㅐ', 8), ('액', 44), ('된', 479), ('난', 604), ('학', 404), ('덕', 82), ('헉', 5), ('눈', 170), ('앞', 136), ('매', 372), ('였', 156), ('쪘', 2), ('낮', 52), ('잠', 77), ('별', 508), ('력', 356), ('뭔', 229), ('참', 271), ('과', 618), ('잉', 24), ('껏', 19), ('표', 218), ('혹', 55), ('검', 142), ('찰', 109), ('혁', 24), ('폄', 5), ('납', 40), ('짝', 57), ('갈', 382), ('끌', 43), ('약', 181), ('판', 239), ('짬', 12), ('뽕', 24), ('경', 599), ('귀', 118), ('엽', 28), ('벌', 434), ('꼬', 460), ('추', 462), ('윈', 11), ('봉', 81), ('젠', 265), ('맘', 255), ('빍', 1), ('ㅔ', 7), ('츠', 24), ('습', 228), ('행', 450), ('례', 78), ('헌', 54), ('꼴', 178), ('누', 336), ('맨', 97), ('닮', 19), ('았', 350), ('던', 526), ('믿', 202), ('뻣', 2), ('팔', 417), ('릴', 127), ('틈', 5), ('차', 762), ('명', 512), ('줘', 201), ('른', 307), ('엔', 128), ('두', 328), ('항', 125), ('감', 489), ('쩔', 44), ('찮', 50), ('잘', 621), ('줄', 367), ('승', 94), ('취', 150), ('빠', 241), ('짐', 99), ('워', 400), ('착', 180), ('각', 667), ('곧', 40), ('석', 131), ('껴', 49), ('꽁', 26), ('깜', 16), ('춘', 25), ('돌', 242), ('맹', 18), ('깝', 68), ('랄', 412), ('령', 135), ('베', 455), ('쌔', 15), ('손', 164), ('쫄', 15), ('좃', 49), ('뱁', 1), ('특', 221), ('징', 170), ('찍', 157), ('뒤', 243), ('태', 371), ('섯', 5), ('찢', 34), ('ㅆ', 147), ('밖', 132), ('풉', 13), ('극', 209), ('혐', 405), ('씹', 208), ('변', 217), ('뭉', 15), ('윗', 13), ('찾', 101), ('백', 167), ('밤', 24), ('꽃', 20), ('채', 75), ('며', 173), ('럼', 379), ('욱', 38), ('암', 97), ('복', 240), ('삼', 114), ('입', 597), ('갤', 14), ('숙', 43), ('높', 86), ('펨', 7), ('했', 735), ('날', 283), ('뛰', 28), ('븅', 40), ('탈', 282), ('투', 178), ('밀', 62), ('환', 146), ('형', 255), ('처', 548), ('족', 586), ('멸', 71), ('걍', 140), ('또', 284), ('편', 211), ('갱', 85), ('뜨', 70), ('략', 25), ('녔', 16), ('탁', 30), ('탕', 80), ('벤', 11), ('낸', 34), ('낭', 29), ('끝', 103), ('번', 357), ('틀', 432), ('꿀', 97), ('놐', 39), ('담', 96), ('접', 78), ('폈', 3), ('잊', 26), ('익', 121), ('맙', 40), ('류', 110), ('래', 723), ('봅', 21), ('뚫', 20), ('크', 251), ('써', 159), ('널', 26), ('잔', 68), ('깐', 78), ('헐', 21), ('벗', 50), ('춤', 15), ('콘', 51), ('돔', 23), ('눠', 19), ('혀', 83), ('텐', 135), ('웜', 128), ('놀', 126), ('즈', 271), ('닦', 9), ('딲', 8), ('롸', 4), ('악', 255), ('둑', 17), ('괄', 11), ('썰', 27), ('즉', 22), ('꿈', 24), ('떼', 40), ('칼', 50), ('봄', 49), ('꾸', 201), ('읍', 19), ('함', 579), ('됐', 98), ('싼', 19), ('즘', 284), ('딴', 105), ('렬', 17), ('점', 188), ('꼽', 10), ('줌', 61), ('짤', 127), ('놓', 227), ('겨', 235), ('혼', 352), ('ㅡ', 206), ('닥', 47), ('랏', 10), ('텝', 1), ('럽', 261), ('ㅈ', 223), ('냉', 10), ('털', 56), ('떡', 57), ('펄', 13), ('찌', 94), ('굴', 150), ('씻', 10), ('붙', 100), ('잦', 36), ('빨', 332), ('ㄷ', 400), ('죶', 7), ('겹', 56), ('등', 377), ('딩', 79), ('열', 213), ('숟', 3), ('락', 115), ('얹', 8), ('궁', 79), ('숫', 18), ('ㄱ', 200), ('든', 425), ('염', 106), ('왕', 52), ('땅', 65), ('란', 274), ('최', 169), ('얘', 128), ('앗', 21), ('슈', 37), ('케', 90), ('빙', 28), ('햇', 31), ('괴', 82), ('튼', 55), ('읽', 93), ('곤', 43), ('넷', 40), ('플', 69), ('졸', 70), ('잇', 56), ('멀', 58), ('똑', 153), ('ㄹ', 311), ('억', 144), ('렴', 27), ('파', 406), ('밝', 38), ('므', 23), ('빌', 42), ('튜', 23), ('깨', 369), ('삭', 32), ('웃', 251), ('꿍', 3), ('쯤', 38), ('킹', 34), ('ㅃ', 6), ('몸', 104), ('뚱', 50), ('덩', 41), ('밥', 124), ('철', 108), ('빵', 68), ('뒈', 26), ('릉', 23), ('닉', 12), ('잩', 2), ('엘', 25), ('졌', 112), ('북', 359), ('골', 118), ('코', 258), ('됨', 175), ('셋', 50), ('총', 114), ('책', 133), ('슷', 40), ('릿', 11), ('립', 118), ('뽑', 92), ('응', 181), ('렁', 29), ('떠', 141), ('활', 115), ('탠', 11), ('뽄', 3), ('묵', 28), ('겄', 10), ('뀌', 30), ('획', 26), ('몰', 207), ('랜', 66), ('쓸', 78), ('닫', 19), ('값', 40), ('팬', 31), ('믹', 6), ('녹', 16), ('색', 102), ('풀', 75), ('윙', 2), ('옛', 34), ('걱', 51), ('챙', 71), ('홧', 5), ('팅', 42), ('핀', 49), ('둥', 51), ('쌍', 259), ('튀', 31), ('쾌', 41), ('잣', 11), ('헛', 31), ('푸', 33), ('빛', 11), ('쉽', 42), ('흥', 36), ('쁘', 86), ('쥐', 36), ('쪼', 19), ('온', 245), ('쟁', 124), ('탓', 51), ('논', 118), ('흘', 16), ('찜', 14), ('촌', 61), ('킨', 62), ('콤', 3), ('평', 276), ('균', 36), ('줬', 57), ('뜰', 9), ('랬', 55), ('펑', 7), ('좌', 151), ('멕', 6), ('뿟', 17), ('쇼', 53), ('쟈', 7), ('씀', 34), ('힝', 4), ('광', 196), ('잖', 174), ('밑', 42), ('멍', 105), ('객', 15), ('빤', 24), ('큨', 1), ('쏠', 11), ('갑', 84), ('횡', 5), ('콩', 19), ('곳', 113), ('뒷', 25), ('빽', 17), ('삶', 31), ('씌', 16), ('낌', 42), ('압', 62), ('랩', 12), ('료', 156), ('ㅜ', 92), ('뱀', 20), ('곁', 11), ('척', 114), ('쩌', 91), ('맡', 19), ('층', 27), ('앵', 121), ('째', 56), ('얌', 10), ('몇', 132), ('옴', 41), ('ㄴ', 103), ('택', 96), ('퀴', 135), ('젓', 7), ('셔', 66), ('죠', 161), ('끓', 6), ('푹', 6), ('닛', 2), ('헬', 34), ('센', 69), ('컨', 21), ('롤', 18), ('쉐', 15), ('훼', 22), ('엣', 5), ('맛', 122), ('됫', 5), ('왤', 19), ('쿵', 36), ('쾅', 37), ('봊', 59), ('밴', 8), ('휴', 117), ('몬', 15), ('윾', 41), ('끔', 45), ('쀼', 35), ('젤', 62), ('듭', 12), ('퇘', 32), ('품', 75), ('탐', 15), ('ㅉ', 288), ('늙', 38), ('견', 69), ('엑', 27), ('맥', 25), ('렀', 22), ('뻔', 54), ('폰', 36), ('쑤', 18), ('쟤', 114), ('율', 75), ('릎', 5), ('꿇', 4), ('괘', 9), ('랍', 59), ('몽', 30), ('빈', 37), ('낀', 31), ('쌓', 11), ('꿔', 38), ('뚜', 17), ('벅', 12), ('엉', 21), ('쎄', 25), ('됬', 14), ('떤', 80), ('섬', 34), ('럭', 16), ('짧', 11), ('옆', 32), ('껍', 5), ('눌', 17), ('벨', 11), ('클', 93), ('썩', 35), ('뽀', 25), ('송', 149), ('넣', 83), ('펭', 3), ('귄', 5), ('힌', 37), ('멋', 64), ('컬', 14), ('덜', 61), ('캐', 50), ('짖', 12), ('혜', 79), ('씩', 61), ('ㅣ', 21), ('델', 17), ('렐', 7), ('농', 28), ('싹', 63), ('꽂', 14), ('득', 101), ('렛', 5), ('뺍', 2), ('규', 55), ('겁', 67), ('빡', 72), ('겟', 54), ('잼', 67), ('밟', 32), ('떵', 2), ('듣', 77), ('룡', 5), ('끄', 71), ('턴', 22), ('룸', 8), ('옷', 47), ('ㄲ', 42), ('뱉', 8), ('쉰', 26), ('뤼', 3), ('쨌', 6), ('낫', 75), ('냅', 22), ('탔', 2), ('뻘', 8), ('ㅁ', 33), ('ㅍ', 30), ('잰', 2), ('쩡', 18), ('셨', 49), ('픔', 4), ('핬', 1), ('쇄', 20), ('톡', 14), ('땡', 22), ('낚', 13), ('죤', 3), ('뀐', 4), ('쏟', 10), ('캬', 27), ('쁨', 7), ('흉', 66), ('빚', 5), ('됩', 28), ('겜', 10), ('옮', 21), ('쨰', 1), ('쿠', 17), ('쩍', 13), ('벼', 20), ('뀔', 5), ('릅', 15), ('푼', 10), ('셉', 11), ('링', 41), ('녕', 21), ('씸', 1), ('앱', 28), ('률', 39), ('둡', 1), ('몌', 1), ('붉', 1), ('랰', 2), ('흩', 2), ('굶', 13), ('춰', 26), ('튈', 3), ('폼', 5), ('엄', 110), ('깍', 5), ('빔', 11), ('쯧', 18), ('덤', 18), ('땜', 30), ('퇴', 52), ('탑', 21), ('젊', 36), ('ㅕ', 4), ('릇', 28), ('뜯', 32), ('캠', 5), ('쩜', 6), ('샘', 5), ('숭', 36), ('묻', 41), ('옺', 2), ('썻', 5), ('쫓', 21), ('묘', 23), ('엿', 21), ('쇠', 8), ('깃', 9), ('흐', 35), ('뎈', 3), ('웬', 10), ('혈', 45), ('큼', 61), ('듦', 3), ('킥', 11), ('빻', 38), ('얗', 6), ('딸', 92), ('돋', 14), ('톨', 23), ('펍', 2), ('찐', 46), ('뷔', 13), ('펙', 6), ('섰', 7), ('셀', 19), ('옹', 43), ('톱', 10), ('냈', 24), ('봇', 13), ('팡', 11), ('갚', 6), ('얻', 28), ('좁', 10), ('걔', 27), ('껄', 57), ('ㅠ', 251), ('썅', 13), ('쌩', 7), ('곱', 7), ('롱', 36), ('씁', 4), ('핑', 46), ('둔', 11), ('롭', 35), ('뻐', 20), ('혔', 20), ('ㅏ', 11), ('깽', 13), ('힙', 9), ('긋', 28), ('렌', 34), ('겐', 18), ('듬', 20), ('랫', 14), ('홀', 23), ('깔', 264), ('둬', 34), ('촉', 4), ('낼', 27), ('턱', 10), ('잃', 34), ('샤', 27), ('뜸', 2), ('캡', 11), ('첩', 21), ('꽤', 14), ('뭡', 4), ('딜', 23), ('낄', 26), ('ㄸ', 8), ('젖', 23), ('첫', 23), ('넫', 1), ('숩', 2), ('캭', 1), ('퉤', 10), ('짚', 8), ('펜', 11), ('갘', 5), ('컸', 4), ('첨', 31), ('꼈', 12), ('햣', 1), ('량', 34), ('삽', 7), ('흙', 16), ('즙', 4), ('풍', 50), ('넌', 25), ('겪', 19), ('젝', 8), ('쿄', 3), ('훨', 39), ('씬', 39), ('밌', 35), ('웅', 64), ('띡', 1), ('꿨', 5), ('컴', 18), ('갯', 3), ('싱', 21), ('벙', 10), ('즐', 32), ('닭', 29), ('띠', 12), ('훈', 44), ('쿨', 18), ('굿', 8), ('쁩', 1), ('잤', 1), ('땠', 4), ('뺴', 3), ('륜', 15), ('썸', 5), ('콧', 3), ('핏', 9), ('쫌', 21), ('덮', 14), ('늬', 7), ('쓱', 4), ('쳣', 6), ('뷰', 18), ('솤', 5), ('ㅗ', 20), ('댈', 8), ('뮤', 20), ('깁', 3), ('좇', 12), ('효', 28), ('싯', 3), ('긔', 4), ('잎', 2), ('찔', 19), ('왓', 4), ('뿌', 62), ('렉', 11), ('딨', 12), ('렵', 20), ('뱅', 17), ('뱃', 10), ('뎅', 7), ('웨', 32), ('뤄', 8), ('옥', 64), ('믄', 7), ('쿰', 18), ('컥', 3), ('앉', 27), ('쩐', 11), ('룩', 25), ('옳', 34), ('쥬', 8), ('텡', 1), ('칙', 23), ('썹', 7), ('쫘', 2), ('댐', 14), ('쭈', 10), ('렷', 14), ('묶', 14), ('밍', 21), ('엇', 43), ('틱', 3), ('끈', 19), ('굼', 4), ('툰', 7), ('씰', 1), ('앤', 10), ('텅', 13), ('촛', 6), ('벽', 25), ('쁠', 3), ('쳑', 1), ('쯔', 6), ('몫', 10), ('웝', 1), ('툼', 2), ('넼', 16), ('켓', 15), ('떄', 10), ('륙', 5), ('훤', 2), ('섻', 2), ('깈', 3), ('닷', 6), ('쭝', 3), ('궈', 18), ('쭌', 1), ('떴', 4), ('펴', 11), ('겉', 15), ('궤', 3), ('끗', 12), ('쫒', 12), ('뇨', 6), ('쉴', 14), ('잌', 2), ('귈', 1), ('퓨', 5), ('쌀', 14), ('램', 10), ('낱', 2), ('섞', 15), ('휘', 18), ('힐', 21), ('켈', 1), ('붕', 10), ('퉁', 3), ('떈', 2), ('랐', 46), ('곰', 9), ('랙', 8), ('혓', 1), ('꼼', 6), ('늦', 21), ('둠', 6), ('옵', 12), ('및', 14), ('롯', 8), ('삘', 6), ('폴', 17), ('룰', 4), ('훌', 7), ('륭', 7), ('탬', 1), ('닿', 8), ('뀜', 10), ('툭', 5), ('왐', 1), ('꿎', 2), ('굳', 41), ('낙', 60), ('쒸', 9), ('눔', 5), ('뎌', 2), ('뗀', 4), ('탱', 19), ('칭', 52), ('흔', 21), ('캄', 6), ('죵', 2), ('즌', 14), ('퍄', 33), ('꼰', 8), ('왠', 20), ('뭇', 4), ('롬', 18), ('훔', 11), ('줫', 8), ('뺏', 13), ('냨', 5), ('쉑', 2), ('겸', 11), ('짭', 16), ('팀', 8), ('뜩', 8), ('닝', 16), ('썬', 9), ('뇬', 7), ('귓', 3), ('죨', 1), ('댜', 3), ('엮', 18), ('밬', 3), ('랟', 2), ('렙', 12), ('헤', 45), ('쨔', 1), ('젭', 1), ('썪', 3), ('꽹', 1), ('밭', 6), ('냔', 12), ('읻', 1), ('푤', 1), ('쌈', 11), ('큭', 1), ('믾', 1), ('칸', 8), ('헷', 5), ('릭', 31), ('멧', 8), ('썼', 22), ('쯍', 1), ('찻', 6), ('쌉', 2), ('퀄', 7), ('밉', 3), ('샌', 11), ('몹', 3), ('껀', 11), ('빅', 14), ('듈', 1), ('찝', 5), ('웟', 1), ('앴', 1), ('딥', 1), ('웹', 8), ('콕', 5), ('컷', 38), ('핰', 2), ('츙', 2), ('맵', 5), ('웰', 3), ('듴', 1), ('귤', 3), ('앍', 2), ('왼', 9), ('갠', 2), ('윤', 23), ('챈', 1), ('셜', 9), ('퉷', 5), ('쪄', 5), ('셧', 5), ('핸', 12), ('뻥', 7), ('꺽', 4), ('졋', 6), ('햑', 1), ('멵', 1), ('꿘', 17), ('랭', 7), ('뽐', 4), ('댄', 7), ('왈', 12), ('콱', 2), ('쥰', 5), ('렜', 1), ('융', 3), ('쏙', 2), ('샀', 4), ('뉘', 4), ('밸', 7), ('걀', 1), ('캔', 8), ('졷', 6), ('욧', 4), ('팁', 9), ('챦', 2), ('앰', 12), ('볶', 6), ('캣', 3), ('섀', 1), ('랖', 2), ('삥', 3), ('껌', 4), ('꺠', 4), ('챱', 2), ('샅', 2), ('껐', 2), ('닼', 7), ('븐', 2), ('쵸', 2), ('겆', 1), ('됌', 5), ('픈', 19), ('칵', 2), ('ㅑ', 10), ('젔', 1), ('봣', 8), ('죳', 1), ('찿', 2), ('떳', 9), ('됏', 2), ('뢰', 5), ('갸', 2), ('팥', 1), ('큐', 14), ('겔', 2), ('눞', 1), ('꼐', 2), ('냇', 2), ('왘', 2), ('냣', 1), ('깎', 5), ('덧', 9), ('탉', 2), ('붓', 9), ('샾', 3), ('핫', 5), ('댸', 2), ('깰', 2), ('걋', 1), ('겧', 2), ('ㅄ', 10), ('멈', 16), ('뻗', 2), ('슐', 2), ('놌', 1), ('퀸', 3), ('엌', 14), ('뼈', 7), ('흡', 10), ('삯', 2), ('흰', 1), ('긍', 4), ('엠', 16), ('컵', 10), ('힣', 2), ('깊', 7), ('쫙', 2), ('랴', 8), ('헙', 2), ('쿡', 5), ('뻡', 1), ('엥', 13), ('홈', 7), ('녁', 6), ('뼛', 2), ('쟬', 2), ('럔', 2), ('먤', 1), ('삿', 5), ('딘', 6), ('굽', 7), ('쏘', 15), ('덴', 10), ('껰', 2), ('셤', 1), ('뎁', 2), ('딪', 2), ('샷', 5), ('켱', 1), ('넹', 8), ('뭄', 3), ('낑', 2), ('줍', 4), ('짢', 1), ('룹', 6), ('뛸', 1), ('츄', 10), ('앝', 1), ('넓', 9), ('럿', 8), ('ㅓ', 7), ('댘', 2), ('낰', 1), ('쫑', 3), ('솜', 3), ('헠', 4), ('넴', 4), ('눕', 2), ('뮨', 1), ('텀', 5), ('곷', 1), ('뽈', 2), ('땟', 2), ('겻', 9), ('앜', 7), ('흠', 8), ('셐', 1), ('눴', 1), ('틴', 6), ('깟', 3), ('얀', 5), ('녓', 1), ('걷', 11), ('뤘', 4), ('늠', 6), ('퓰', 3), ('렘', 4), ('낻', 1), ('딧', 2), ('쏜', 2), ('쿼', 6), ('륵', 2), ('뭣', 11), ('빗', 8), ('욥', 2), ('욜', 4), ('펼', 8), ('찼', 6), ('멎', 1), ('됴', 5), ('꽥', 6), ('쥣', 1), ('덥', 9), ('꽉', 6), ('삐', 14), ('윽', 21), ('엊', 2), ('훚', 1), ('앂', 3), ('댔', 3), ('숰', 1), ('쭉', 19), ('얕', 1), ('깡', 8), ('짘', 4), ('햄', 3), ('풋', 5), ('긁', 7), ('샛', 5), ('삻', 1), ('얇', 3), ('엒', 5), ('똘', 17), ('삔', 2), ('줜', 1), ('셰', 2), ('볍', 2), ('빳', 2), ('괙', 1), ('앢', 3), ('촘', 4), ('샹', 2), ('숲', 1), ('톤', 4), ('깥', 2), ('눙', 1), ('찡', 6), ('뵈', 3), ('샄', 1), ('욬', 2), ('톰', 1), ('쏴', 9), ('궐', 13), ('냠', 2), ('캥', 2), ('꿩', 1), ('쉿', 1), ('곽', 2), ('솓', 1), ('펀', 4), ('텨', 3), ('넨', 14), ('짠', 4), ('헴', 6), ('앎', 4), ('팟', 1), ('굔', 2), ('캅', 3), ('짊', 2), ('뗏', 1), ('촬', 6), ('먜', 2), ('걜', 1), ('툽', 2), ('랔', 3), ('텍', 3), ('읊', 1), ('븡', 1), ('죈', 1), ('쫩', 2), ('휩', 2), ('놧', 2), ('끠', 4), ('쟛', 1), ('맑', 3), ('팽', 7), ('쟎', 2), ('얍', 3), ('샵', 3), ('콸', 2), ('맍', 1), ('쟝', 2), ('찎', 1), ('엎', 5), ('텃', 1), ('돕', 3), ('쨋', 3), ('깉', 2), ('맺', 3), ('컹', 2), ('쟨', 2), ('팼', 4), ('몆', 1), ('뢀', 1), ('뿍', 2), ('킴', 8), ('밋', 4), ('숏', 10), ('핥', 3), ('젛', 1), ('퍽', 5), ('뽜', 1), ('눼', 2), ('갇', 3), ('팝', 7), ('줏', 5), ('뗌', 1), ('늚', 1), ('얺', 1), ('꾀', 3), ('켔', 1), ('맏', 1), ('횐', 1), ('뒀', 1), ('뗵', 1), ('츤', 3), ('벉', 1), ('쑴', 2), ('룻', 3), ('꺾', 3), ('맜', 1), ('템', 5), ('씽', 3), ('뾰', 3), ('픽', 14), ('즁', 2), ('밈', 2), ('벡', 2), ('듕', 1), ('팠', 2), ('꿉', 1), ('쭐', 2), ('팰', 6), ('쨈', 1), ('돠', 2), ('짞', 9), ('뼝', 1), ('맷', 2), ('훅', 3), ('뻤', 2), ('듀', 1), ('띈', 2), ('땀', 4), ('멜', 6), ('잍', 1), ('읶', 1), ('갬', 1), ('솟', 4), ('뀍', 2), ('뺑', 7), ('쌌', 2), ('갗', 1), ('뭍', 2), ('앳', 1), ('ㅒ', 1), ('섣', 1), ('빕', 7), ('팜', 1), ('팸', 1), ('딕', 2), ('껫', 1), ('셍', 3), ('샊', 1), ('훠', 3), ('귝', 2), ('샨', 1), ('꿰', 2), ('슙', 1), ('ㅛ', 13), ('믽', 1), ('캘', 1), ('닠', 1), ('퐁', 4), ('잭', 1), ('팻', 3), ('펠', 5), ('췌', 2), ('뺐', 3), ('휙', 3), ('뗄', 3), ('뜷', 1), ('얄', 5), ('숴', 3), ('떙', 1), ('껑', 2), ('핍', 1), ('쩨', 1), ('읎', 3), ('쌤', 1), ('췰', 1), ('햐', 3), ('볕', 2), ('칫', 1), ('꽈', 5), ('꽝', 2), ('쏭', 1), ('맟', 1), ('튭', 3), ('땬', 1), ('눜', 1), ('룬', 1), ('춴', 1), ('햰', 1), ('냼', 1), ('얚', 1), ('햬', 1), ('웻', 1), ('몀', 1), ('돐', 1), ('쒼', 1), ('앓', 2), ('캇', 1), ('싰', 1), ('얽', 1), ('갛', 1), ('킵', 2), ('겯', 1), ('켠', 3), ('뷴', 1), ('뚯', 1), ('잽', 1), ('쌘', 2), ('뗴', 1), ('뎀', 1), ('멤', 3), ('칩', 3), ('븍', 1), ('룐', 2), ('뿜', 1), ('끽', 2), ('튄', 3), ('뚤', 3), ('홉', 2), ('벵', 1), ('챤', 1), ('킁', 2), ('햠', 1), ('밧', 1), ('덟', 1), ('잴', 1), ('킼', 1), ('틐', 1), ('왁', 2), ('펌', 3), ('넉', 4), ('컫', 1), ('맣', 1), ('튐', 2), ('꼇', 2), ('줒', 1), ('굵', 1), ('놋', 1), ('셴', 4), ('릌', 1), ('웁', 3), ('슛', 2), ('섿', 1), ('캤', 1), ('얏', 2), ('챗', 1), ('켯', 2), ('뵐', 1), ('췄', 2), ('꺄', 2), ('왱', 2), ('짆', 1), ('낔', 1), ('얜', 2), ('릫', 1), ('젼', 3), ('쫀', 2), ('늒', 1), ('옇', 1), ('쬐', 1), ('갹', 1), ('훗', 2), ('뤀', 1), ('쿤', 2), ('딤', 1), ('멱', 1), ('섴', 1), ('뛴', 2), ('깞', 1), ('켬', 1), ('롹', 1), ('횟', 3), ('늑', 1), ('챠', 1), ('쩅', 1), ('쐈', 1), ('쭤', 1), ('혾', 1), ('볺', 1), ('몃', 1), ('똠', 1), ('닳', 1), ('웍', 1), ('앚', 2), ('뀨', 1), ('솥', 1), ('꾹', 1), ('깬', 2), ('뎄', 1), ('뿠', 1), ('핌', 1), ('젴', 1), ('썽', 2), ('넛', 1), ('찟', 1), ('겋', 1), ('츳', 2), ('쑥', 2), ('짦', 1), ('럇', 1), ('옐', 1), ('딛', 1), ('쥔', 2), ('뺀', 1), ('땄', 1), ('큽', 1), ('횔', 1), ('넥', 1), ('욨', 1), ('뗐', 1), ('륨', 1), ('땃', 1), ('훳', 3), ('슘', 1), ('퀵', 1), ('낢', 1), ('싢', 1), ('듄', 1), ('뭨', 1), ('랗', 1), ('슼', 1), ('텋', 1), ('텄', 1), ('헝', 2), ('쨩', 1), ('괸', 1), ('벚', 1), ('끙', 2), ('삑', 1), ('툴', 1), ('뿡', 1), ('쩝', 5), ('윳', 1), ('슝', 1), ('뷷', 1), ('얔', 1), ('겊', 1), ('벳', 1), ('촠', 1), ('쳌', 1), ('껳', 1), ('욀', 1), ('쑨', 2), ('켤', 1), ('캉', 1), ('왬', 1), ('됀', 1), ('듸', 2), ('윀', 1), ('깅', 1), ('곸', 1), ('짇', 1), ('넙', 2), ('쟜', 1), ('쬬', 1), ('뮈', 1), ('뷩', 1), ('뺘', 1), ('줮', 1), ('겅', 1), ('핼', 1), ('닺', 1), ('돗', 1), ('뺌', 1), ('듓', 1), ('빧', 1), ('쇳', 1), ('짲', 1), ('킷', 1), ('뭬', 1), ('궜', 1), ('긐', 1), ('넵', 1), ('쨥', 1), ('띤', 1), ('뱡', 1)])\n"
     ]
    }
   ],
   "source": [
    "print(tokenizer.word_counts.items())"
   ]
  },
  {
   "cell_type": "code",
   "execution_count": 35,
   "metadata": {
    "colab": {
     "base_uri": "https://localhost:8080/"
    },
    "id": "UsHlGUSepYHk",
    "outputId": "0c04192d-16e4-4fb1-de53-2129458486c3"
   },
   "outputs": [
    {
     "name": "stdout",
     "output_type": "stream",
     "text": [
      "단어 집합(vocabulary)의 크기 : 1818\n",
      "등장 빈도가 2번 이하인 희귀 단어의 수: 444\n",
      "단어 집합에서 희귀 단어의 비율: 24.422442244224424\n",
      "전체 등장 빈도에서 희귀 단어 등장 빈도 비율: 0.1055399688657092\n"
     ]
    }
   ],
   "source": [
    "threshold = 3\n",
    "total_cnt = len(tokenizer.word_index) # 단어의 수\n",
    "rare_cnt = 0 # 등장 빈도수가 threshold보다 작은 단어의 개수를 카운트\n",
    "total_freq = 0 # 훈련 데이터의 전체 단어 빈도수 총 합\n",
    "rare_freq = 0 # 등장 빈도수가 threshold보다 작은 단어의 등장 빈도수의 총 합\n",
    "\n",
    "# 단어와 빈도수의 쌍(pair)을 key와 value로 받는다.\n",
    "for key, value in tokenizer.word_counts.items():\n",
    "    total_freq = total_freq + value\n",
    "\n",
    "    # 단어의 등장 빈도수가 threshold보다 작으면\n",
    "    if(value < threshold):\n",
    "        rare_cnt = rare_cnt + 1\n",
    "        rare_freq = rare_freq + value\n",
    "\n",
    "print('단어 집합(vocabulary)의 크기 :',total_cnt)\n",
    "print('등장 빈도가 %s번 이하인 희귀 단어의 수: %s'%(threshold - 1, rare_cnt))\n",
    "print(\"단어 집합에서 희귀 단어의 비율:\", (rare_cnt / total_cnt)*100)\n",
    "print(\"전체 등장 빈도에서 희귀 단어 등장 빈도 비율:\", (rare_freq / total_freq)*100)"
   ]
  },
  {
   "cell_type": "code",
   "execution_count": 36,
   "metadata": {
    "colab": {
     "base_uri": "https://localhost:8080/"
    },
    "id": "yWBE_pZlszWu",
    "outputId": "ee6977d8-cdb7-456a-bd4c-ac00141fbd57"
   },
   "outputs": [
    {
     "name": "stdout",
     "output_type": "stream",
     "text": [
      "단어 집합의 크기 : 1375\n"
     ]
    }
   ],
   "source": [
    "vocab_size = total_cnt - rare_cnt + 1\n",
    "print('단어 집합의 크기 :',vocab_size)"
   ]
  },
  {
   "cell_type": "code",
   "execution_count": 37,
   "metadata": {
    "id": "pFPM7drbqGEz"
   },
   "outputs": [],
   "source": [
    "tokenizer = Tokenizer(vocab_size) # 빈도수 2 이하인 단어는 제거\n",
    "tokenizer.fit_on_texts(X_train)\n",
    "X_train = tokenizer.texts_to_sequences(X_train)\n",
    "X_test = tokenizer.texts_to_sequences(X_test)"
   ]
  },
  {
   "cell_type": "code",
   "execution_count": 38,
   "metadata": {
    "id": "9pAvQvpo_Acb"
   },
   "outputs": [],
   "source": [
    "y_train = np.array(train_data['target'])\n",
    "y_test = np.array(test_data['target'])"
   ]
  },
  {
   "cell_type": "code",
   "execution_count": 39,
   "metadata": {
    "colab": {
     "base_uri": "https://localhost:8080/"
    },
    "id": "MGCTzFOJ_tpC",
    "outputId": "8280c415-2c07-4d45-99cd-23f0a21b98ec"
   },
   "outputs": [
    {
     "name": "stdout",
     "output_type": "stream",
     "text": [
      "14980\n",
      "14980\n"
     ]
    }
   ],
   "source": [
    "print(len(X_train))\n",
    "print(len(y_train))"
   ]
  },
  {
   "cell_type": "code",
   "execution_count": 40,
   "metadata": {
    "colab": {
     "base_uri": "https://localhost:8080/"
    },
    "id": "T-jxCOg4ra7i",
    "outputId": "83a8af9e-b3b6-4cc6-e984-c4dabc7b101a"
   },
   "outputs": [
    {
     "name": "stdout",
     "output_type": "stream",
     "text": [
      "[[51, 55, 9, 4, 1, 38, 117, 20, 1, 586, 7, 199, 21, 18, 1, 31, 107, 30, 1, 12, 594, 80], [12, 74, 43, 299, 271, 131, 1, 137, 11, 184, 4, 1, 19, 458, 120, 1, 787, 21, 221, 1, 247, 110, 126, 1, 7, 182, 1, 156, 4, 5, 1, 63, 135, 287, 1, 393, 1, 196, 241, 2, 5, 1, 1, 80, 6, 1, 1, 472, 21, 6, 7, 1, 342, 224, 1, 143, 491, 20, 1, 1, 5], [397, 14, 1, 449, 29, 299, 1, 14, 394, 36, 1, 119, 58, 187, 1, 256, 98, 1, 19, 185, 1, 52, 166, 101, 1, 167, 167, 1, 1, 1, 1, 1, 67, 121, 1, 758, 909, 111, 1, 515, 1, 8, 21, 33, 1062]]\n"
     ]
    }
   ],
   "source": [
    "print(X_train[:3])"
   ]
  },
  {
   "cell_type": "code",
   "execution_count": 41,
   "metadata": {
    "id": "M_k8SQCH9BLY"
   },
   "outputs": [],
   "source": [
    "drop_train = [index for index, sentence in enumerate(X_train) if len(sentence) < 1]\n",
    "drop_test = [index for index, sentence in enumerate(X_test) if len(sentence) < 1]"
   ]
  },
  {
   "cell_type": "code",
   "execution_count": 42,
   "metadata": {
    "colab": {
     "base_uri": "https://localhost:8080/"
    },
    "id": "Aq_nvde69G-n",
    "outputId": "e2420a49-e1ff-4bdd-9cc1-952057b6722a"
   },
   "outputs": [
    {
     "name": "stdout",
     "output_type": "stream",
     "text": [
      "[]\n"
     ]
    }
   ],
   "source": [
    "print(drop_train)"
   ]
  },
  {
   "cell_type": "code",
   "execution_count": 43,
   "metadata": {
    "colab": {
     "base_uri": "https://localhost:8080/"
    },
    "id": "G-iV5ZGw9Luf",
    "outputId": "2004ec61-23b0-48ca-96fb-2f37e4976899"
   },
   "outputs": [
    {
     "data": {
      "text/plain": [
       "0"
      ]
     },
     "execution_count": 43,
     "metadata": {},
     "output_type": "execute_result"
    }
   ],
   "source": [
    "len(drop_train)"
   ]
  },
  {
   "cell_type": "code",
   "execution_count": 44,
   "metadata": {
    "colab": {
     "base_uri": "https://localhost:8080/"
    },
    "id": "AwHbwYxP9NN9",
    "outputId": "350a1000-0d09-4150-ed4a-5d3f05d64c69"
   },
   "outputs": [
    {
     "name": "stderr",
     "output_type": "stream",
     "text": [
      "C:\\Users\\jisoo\\anaconda3\\lib\\site-packages\\numpy\\core\\_asarray.py:83: VisibleDeprecationWarning: Creating an ndarray from ragged nested sequences (which is a list-or-tuple of lists-or-tuples-or ndarrays with different lengths or shapes) is deprecated. If you meant to do this, you must specify 'dtype=object' when creating the ndarray\n",
      "  return array(a, dtype, copy=False, order=order)\n"
     ]
    }
   ],
   "source": [
    "X_train = np.delete(X_train, drop_train, axis=0)\n",
    "y_train = np.delete(y_train, drop_train, axis=0)"
   ]
  },
  {
   "cell_type": "code",
   "execution_count": 45,
   "metadata": {
    "colab": {
     "base_uri": "https://localhost:8080/"
    },
    "id": "s3YMzyGM_DAf",
    "outputId": "9eae5298-c53f-4591-f0c1-6020a9696985"
   },
   "outputs": [
    {
     "name": "stdout",
     "output_type": "stream",
     "text": [
      "14980\n",
      "14980\n"
     ]
    }
   ],
   "source": [
    "print(len(X_train))\n",
    "print(len(y_train))"
   ]
  },
  {
   "cell_type": "code",
   "execution_count": 46,
   "metadata": {
    "colab": {
     "base_uri": "https://localhost:8080/"
    },
    "id": "yqRWvf59J-Tk",
    "outputId": "cd014884-a53c-44b6-9433-0b916c378940"
   },
   "outputs": [
    {
     "name": "stdout",
     "output_type": "stream",
     "text": [
      "3730\n",
      "3730\n"
     ]
    }
   ],
   "source": [
    "print(len(X_test))\n",
    "print(len(y_test))"
   ]
  },
  {
   "cell_type": "code",
   "execution_count": 47,
   "metadata": {
    "colab": {
     "base_uri": "https://localhost:8080/"
    },
    "id": "B7A7iBA0KBpR",
    "outputId": "f359f1be-f94b-4525-9ba8-be007916a051"
   },
   "outputs": [],
   "source": [
    "X_test = np.delete(X_test, drop_test, axis=0)"
   ]
  },
  {
   "cell_type": "code",
   "execution_count": 48,
   "metadata": {
    "id": "FPUtE1I6N40N"
   },
   "outputs": [],
   "source": [
    "y_test = np.delete(y_test, drop_test, axis=0)"
   ]
  },
  {
   "cell_type": "code",
   "execution_count": 49,
   "metadata": {
    "colab": {
     "base_uri": "https://localhost:8080/"
    },
    "id": "y1mB7XX_KF09",
    "outputId": "bfb692c9-8f8a-4af6-eec1-e30bcbc588f7"
   },
   "outputs": [
    {
     "name": "stdout",
     "output_type": "stream",
     "text": [
      "3730\n",
      "3730\n"
     ]
    }
   ],
   "source": [
    "print(len(X_test))\n",
    "print(len(y_test))"
   ]
  },
  {
   "cell_type": "code",
   "execution_count": 50,
   "metadata": {
    "colab": {
     "base_uri": "https://localhost:8080/",
     "height": 314
    },
    "id": "j6kcy8AKreKv",
    "outputId": "e9ffa1a1-c8e9-4c61-d573-151dea63fe3a"
   },
   "outputs": [
    {
     "name": "stdout",
     "output_type": "stream",
     "text": [
      "문장의 최대 길이 : 153\n",
      "문장의 평균 길이 : 37.91088117489986\n"
     ]
    },
    {
     "data": {
      "image/png": "[encoded data removed]",
      "text/plain": [
       "<Figure size 432x288 with 1 Axes>"
      ]
     },
     "metadata": {
      "needs_background": "light"
     },
     "output_type": "display_data"
    }
   ],
   "source": [
    "print('문장의 최대 길이 :',max(len(l) for l in X_train))\n",
    "print('문장의 평균 길이 :',sum(map(len, X_train))/len(X_train))\n",
    "plt.hist([len(s) for s in X_train], bins=50)\n",
    "plt.xlabel('length of samples')\n",
    "plt.ylabel('number of samples')\n",
    "plt.show()"
   ]
  },
  {
   "cell_type": "code",
   "execution_count": 51,
   "metadata": {
    "id": "yFDDvQy2FlZK"
   },
   "outputs": [],
   "source": [
    "def below_threshold_len(max_len, nested_list):\n",
    "  cnt = 0\n",
    "  for s in nested_list:\n",
    "    if(len(s) <= max_len):\n",
    "        cnt = cnt + 1\n",
    "  print('전체 샘플 중 길이가 %s 이하인 샘플의 비율: %s'%(max_len, (cnt / len(nested_list))*100))"
   ]
  },
  {
   "cell_type": "code",
   "execution_count": 52,
   "metadata": {
    "colab": {
     "base_uri": "https://localhost:8080/"
    },
    "id": "x0njO96tFw1f",
    "outputId": "d0ff9f06-5cf2-4903-9e84-1507372fe704"
   },
   "outputs": [
    {
     "name": "stdout",
     "output_type": "stream",
     "text": [
      "전체 샘플 중 길이가 100 이하인 샘플의 비율: 95.5807743658211\n"
     ]
    }
   ],
   "source": [
    "max_len = 100\n",
    "below_threshold_len(max_len, X_train)"
   ]
  },
  {
   "cell_type": "code",
   "execution_count": 53,
   "metadata": {
    "id": "iIgJvzh2rhug"
   },
   "outputs": [],
   "source": [
    "# 전체 데이터의 길이는 100으로 맞춘다.\n",
    "X_train = pad_sequences(X_train, maxlen = max_len)\n",
    "X_test = pad_sequences(X_test, maxlen = max_len)"
   ]
  },
  {
   "cell_type": "markdown",
   "metadata": {
    "id": "u3-i8XV-e1Sz"
   },
   "source": [
    "# 2. Multi-Kernel 1D CNN으로 네이버 영화 리뷰 분류하기"
   ]
  },
  {
   "cell_type": "code",
   "execution_count": 54,
   "metadata": {
    "id": "NColEfDn5C_K"
   },
   "outputs": [],
   "source": [
    "from tensorflow.keras.models import Sequential, Model\n",
    "from tensorflow.keras.layers import Embedding, Dropout, Conv1D, GlobalMaxPooling1D, Dense, Input, Flatten, Concatenate\n",
    "from tensorflow.keras.callbacks import EarlyStopping, ModelCheckpoint\n",
    "from tensorflow.keras.models import load_model"
   ]
  },
  {
   "cell_type": "code",
   "execution_count": 55,
   "metadata": {
    "id": "3aGOyv985GYH"
   },
   "outputs": [],
   "source": [
    "embedding_dim = 128\n",
    "dropout_ratio = (0.5, 0.8)\n",
    "num_filters = 128\n",
    "hidden_units = 128"
   ]
  },
  {
   "cell_type": "code",
   "execution_count": 56,
   "metadata": {
    "id": "B6nEH8bdvzFt"
   },
   "outputs": [],
   "source": [
    "model_input = Input(shape = (max_len,))\n",
    "z = Embedding(vocab_size, embedding_dim, input_length = max_len, name=\"embedding\")(model_input)\n",
    "z = Dropout(dropout_ratio[0])(z)"
   ]
  },
  {
   "cell_type": "code",
   "execution_count": 57,
   "metadata": {
    "id": "7SHHUilxFB3Z"
   },
   "outputs": [],
   "source": [
    "conv_blocks = []\n",
    "\n",
    "for sz in [3, 4, 5]:\n",
    "    conv = Conv1D(filters = num_filters,\n",
    "                         kernel_size = sz,\n",
    "                         padding = \"valid\",\n",
    "                         activation = \"relu\",\n",
    "                         strides = 1)(z)\n",
    "    conv = GlobalMaxPooling1D()(conv)\n",
    "    conv_blocks.append(conv)"
   ]
  },
  {
   "cell_type": "code",
   "execution_count": 58,
   "metadata": {
    "id": "Iva8x8Gr-W7w"
   },
   "outputs": [],
   "source": [
    "z = Concatenate()(conv_blocks) if len(conv_blocks) > 1 else conv_blocks[0]\n",
    "z = Dropout(dropout_ratio[1])(z)\n",
    "z = Dense(hidden_units, activation=\"relu\")(z)\n",
    "model_output = Dense(1, activation=\"sigmoid\")(z)\n",
    "\n",
    "model = Model(model_input, model_output)\n",
    "model.compile(loss=\"binary_crossentropy\", optimizer=\"adam\", metrics=[\"acc\"])"
   ]
  },
  {
   "cell_type": "code",
   "execution_count": 59,
   "metadata": {},
   "outputs": [
    {
     "name": "stdout",
     "output_type": "stream",
     "text": [
      "Model: \"model\"\n",
      "__________________________________________________________________________________________________\n",
      "Layer (type)                    Output Shape         Param #     Connected to                     \n",
      "==================================================================================================\n",
      "input_1 (InputLayer)            [(None, 100)]        0                                            \n",
      "__________________________________________________________________________________________________\n",
      "embedding (Embedding)           (None, 100, 128)     176000      input_1[0][0]                    \n",
      "__________________________________________________________________________________________________\n",
      "dropout (Dropout)               (None, 100, 128)     0           embedding[0][0]                  \n",
      "__________________________________________________________________________________________________\n",
      "conv1d (Conv1D)                 (None, 98, 128)      49280       dropout[0][0]                    \n",
      "__________________________________________________________________________________________________\n",
      "conv1d_1 (Conv1D)               (None, 97, 128)      65664       dropout[0][0]                    \n",
      "__________________________________________________________________________________________________\n",
      "conv1d_2 (Conv1D)               (None, 96, 128)      82048       dropout[0][0]                    \n",
      "__________________________________________________________________________________________________\n",
      "global_max_pooling1d (GlobalMax (None, 128)          0           conv1d[0][0]                     \n",
      "__________________________________________________________________________________________________\n",
      "global_max_pooling1d_1 (GlobalM (None, 128)          0           conv1d_1[0][0]                   \n",
      "__________________________________________________________________________________________________\n",
      "global_max_pooling1d_2 (GlobalM (None, 128)          0           conv1d_2[0][0]                   \n",
      "__________________________________________________________________________________________________\n",
      "concatenate (Concatenate)       (None, 384)          0           global_max_pooling1d[0][0]       \n",
      "                                                                 global_max_pooling1d_1[0][0]     \n",
      "                                                                 global_max_pooling1d_2[0][0]     \n",
      "__________________________________________________________________________________________________\n",
      "dropout_1 (Dropout)             (None, 384)          0           concatenate[0][0]                \n",
      "__________________________________________________________________________________________________\n",
      "dense (Dense)                   (None, 128)          49280       dropout_1[0][0]                  \n",
      "__________________________________________________________________________________________________\n",
      "dense_1 (Dense)                 (None, 1)            129         dense[0][0]                      \n",
      "==================================================================================================\n",
      "Total params: 422,401\n",
      "Trainable params: 422,401\n",
      "Non-trainable params: 0\n",
      "__________________________________________________________________________________________________\n"
     ]
    }
   ],
   "source": [
    "model.summary()"
   ]
  },
  {
   "cell_type": "code",
   "execution_count": 61,
   "metadata": {
    "colab": {
     "base_uri": "https://localhost:8080/"
    },
    "id": "eOenyOoS_Qt5",
    "outputId": "9e951809-85e8-473c-b1aa-62b9c4dbd09c"
   },
   "outputs": [
    {
     "name": "stdout",
     "output_type": "stream",
     "text": [
      "Epoch 1/10\n",
      "188/188 - 11s - loss: 0.3134 - acc: 0.8594 - val_loss: 0.3857 - val_acc: 0.8234\n",
      "\n",
      "Epoch 00001: val_acc improved from -inf to 0.82343, saving model to CNN_model_2.h5\n",
      "Epoch 2/10\n",
      "188/188 - 17s - loss: 0.2990 - acc: 0.8680 - val_loss: 0.3948 - val_acc: 0.8218\n",
      "\n",
      "Epoch 00002: val_acc did not improve from 0.82343\n",
      "Epoch 3/10\n",
      "188/188 - 17s - loss: 0.2928 - acc: 0.8722 - val_loss: 0.4048 - val_acc: 0.8191\n",
      "\n",
      "Epoch 00003: val_acc did not improve from 0.82343\n",
      "Epoch 4/10\n",
      "188/188 - 18s - loss: 0.2829 - acc: 0.8778 - val_loss: 0.4025 - val_acc: 0.8204\n",
      "\n",
      "Epoch 00004: val_acc did not improve from 0.82343\n",
      "Epoch 5/10\n",
      "188/188 - 18s - loss: 0.2676 - acc: 0.8820 - val_loss: 0.4289 - val_acc: 0.8174\n",
      "\n",
      "Epoch 00005: val_acc did not improve from 0.82343\n",
      "Epoch 00005: early stopping\n"
     ]
    },
    {
     "data": {
      "text/plain": [
       "<tensorflow.python.keras.callbacks.History at 0x1f388bf2ac0>"
      ]
     },
     "execution_count": 61,
     "metadata": {},
     "output_type": "execute_result"
    }
   ],
   "source": [
    "es = EarlyStopping(monitor='val_loss', mode='min', verbose=1, patience=4)\n",
    "mc = ModelCheckpoint('CNN_model_2.h5', monitor='val_acc', mode='max', verbose=1, save_best_only=True)\n",
    "\n",
    "model.fit(X_train, y_train, batch_size = 64, epochs=10, validation_split = 0.2, verbose=2, callbacks=[es, mc])"
   ]
  },
  {
   "cell_type": "code",
   "execution_count": 62,
   "metadata": {
    "colab": {
     "base_uri": "https://localhost:8080/"
    },
    "id": "KrMWX0zhq5GK",
    "outputId": "7fa0eb05-a705-4a7a-848c-c3940f2df766",
    "scrolled": true
   },
   "outputs": [
    {
     "name": "stdout",
     "output_type": "stream",
     "text": [
      "117/117 [==============================] - 2s 12ms/step - loss: 0.3842 - acc: 0.8169\n",
      "\n",
      " 테스트 정확도: 0.8169\n"
     ]
    }
   ],
   "source": [
    "loaded_model = load_model('CNN_model_2.h5')\n",
    "print(\"\\n 테스트 정확도: %.4f\" % (loaded_model.evaluate(X_test, y_test)[1]))"
   ]
  },
  {
   "cell_type": "code",
   "execution_count": 63,
   "metadata": {},
   "outputs": [],
   "source": [
    "from keras.models import load_model\n",
    "\n",
    "model.save('my_model.h5')  # creates a HDF5 file 'my_model.h5'\n",
    "del model  # deletes the existing model\n",
    "\n",
    "# returns a compiled model\n",
    "# identical to the previous one\n",
    "model = load_model('my_model.h5')"
   ]
  },
  {
   "cell_type": "code",
   "execution_count": 64,
   "metadata": {},
   "outputs": [
    {
     "name": "stdout",
     "output_type": "stream",
     "text": [
      "AUC :  0.6944854070660522\n",
      "Precision Score :  0.8671573781983877\n",
      "f1 Score :  0.8752874579869095\n"
     ]
    }
   ],
   "source": [
    "from sklearn.metrics import precision_score, recall_score, f1_score, accuracy_score\n",
    "from sklearn.linear_model import LogisticRegression\n",
    "from sklearn.metrics import roc_auc_score\n",
    "\n",
    "clf = LogisticRegression(solver=\"liblinear\", random_state=0).fit(X_test, y_test)\n",
    "\n",
    "# roc_auc_score(y_test, clf.predict_proba(X_test)[:, 1]) \n",
    "AUC = roc_auc_score(y_test, clf.decision_function(X_test))     \n",
    "\n",
    "y_pred = model.predict(X_test)\n",
    "precision = precision_score(y_test, np.round(abs(y_pred))) \n",
    "f1 = f1_score(y_test, np.round(abs(y_pred))) \n",
    "\n",
    "print(\"AUC : \", AUC)\n",
    "print(\"Precision Score : \", precision)\n",
    "print(\"f1 Score : \", f1)"
   ]
  },
  {
   "cell_type": "markdown",
   "metadata": {
    "id": "ZxxfEXcWe3Pi"
   },
   "source": [
    "# 3. 혐오 발언 예측해보기"
   ]
  },
  {
   "cell_type": "code",
   "execution_count": 65,
   "metadata": {
    "id": "vbvk5X3PPExa"
   },
   "outputs": [],
   "source": [
    "def sentiment_predict(new_sentence):\n",
    "  new_sentence = re.sub(r'[^ㄱ-ㅎㅏ-ㅣ가-힣 ]','', new_sentence)\n",
    "  new_sentence = okt.morphs(new_sentence, stem=True) # 토큰화\n",
    "  new_sentence = [word for word in new_sentence if not word in stopwords] # 불용어 제거\n",
    "  encoded = tokenizer.texts_to_sequences([new_sentence]) # 정수 인코딩\n",
    "  pad_new = pad_sequences(encoded, maxlen = max_len) # 패딩\n",
    "  score = float(loaded_model.predict(pad_new)) # 예측\n",
    "  if(score > 0.5):\n",
    "    print(\"{:.2f}% 확률로 혐오 발언입니다.\\n\".format(score * 100))\n",
    "  else:\n",
    "    print(\"{:.2f}% 확률로 일반 발언입니다.\\n\".format((1 - score) * 100))"
   ]
  },
  {
   "cell_type": "code",
   "execution_count": 66,
   "metadata": {
    "colab": {
     "base_uri": "https://localhost:8080/"
    },
    "id": "tFC0qDlO28Zg",
    "outputId": "4899e581-ca91-4fbc-de8d-943b6e3dfabd",
    "scrolled": true
   },
   "outputs": [
    {
     "name": "stdout",
     "output_type": "stream",
     "text": [
      "73.72% 확률로 일반 발언입니다.\n",
      "\n"
     ]
    }
   ],
   "source": [
    "sentiment_predict('아이스크림 먹고싶다')"
   ]
  },
  {
   "cell_type": "code",
   "execution_count": 67,
   "metadata": {
    "colab": {
     "base_uri": "https://localhost:8080/"
    },
    "id": "s4v-MwEB29Vk",
    "outputId": "523bbb10-783e-4bc3-b2f2-c3b00e4f2307"
   },
   "outputs": [
    {
     "name": "stdout",
     "output_type": "stream",
     "text": [
      "71.68% 확률로 일반 발언입니다.\n",
      "\n"
     ]
    }
   ],
   "source": [
    "sentiment_predict('야 이 나쁜 놈아')"
   ]
  },
  {
   "cell_type": "code",
   "execution_count": null,
   "metadata": {},
   "outputs": [],
   "source": []
  }
 ],
 "metadata": {
  "accelerator": "GPU",
  "colab": {
   "collapsed_sections": [],
   "name": "Naver Movie Review Sentiment Analysis using Multi-Kernel 1D CNN.ipynb",
   "provenance": []
  },
  "kernelspec": {
   "display_name": "Python 3",
   "language": "python",
   "name": "python3"
  },
  "language_info": {
   "codemirror_mode": {
    "name": "ipython",
    "version": 3
   },
   "file_extension": ".py",
   "mimetype": "text/x-python",
   "name": "python",
   "nbconvert_exporter": "python",
   "pygments_lexer": "ipython3",
   "version": "3.8.8"
  }
 },
 "nbformat": 4,
 "nbformat_minor": 1
}
