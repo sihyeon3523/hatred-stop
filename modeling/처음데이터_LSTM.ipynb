{
 "cells": [
  {
   "cell_type": "code",
   "execution_count": 4,
   "id": "51d0a560",
   "metadata": {},
   "outputs": [],
   "source": [
    "import pandas as pd\n",
    "import numpy as np\n",
    "\n",
    "from collections import Counter\n",
    "from konlpy.tag import Okt\n",
    "from sklearn.model_selection import train_test_split\n",
    "from tensorflow.keras.preprocessing.text import Tokenizer\n",
    "from tensorflow.keras.preprocessing.sequence import pad_sequences\n",
    "\n",
    "from sklearn.feature_extraction.text import TfidfVectorizer\n",
    "from tensorflow.keras.models import load_model\n",
    "\n",
    "from tensorflow.keras.layers import Embedding, Dense, LSTM, Bidirectional\n",
    "from tensorflow.keras.models import Sequential\n",
    "from tensorflow.keras.models import load_model\n",
    "from tensorflow.keras.callbacks import EarlyStopping, ModelCheckpoint"
   ]
  },
  {
   "cell_type": "code",
   "execution_count": 5,
   "id": "a45e7f56",
   "metadata": {},
   "outputs": [],
   "source": [
    "df_train = pd.read_csv(\"korean_unsmile_dataset-main/unsmile_train_v1.0.tsv\",delimiter='\\t')\n",
    "df_valid = pd.read_csv(\"korean_unsmile_dataset-main/unsmile_valid_v1.0.tsv\",delimiter='\\t')"
   ]
  },
  {
   "cell_type": "code",
   "execution_count": 6,
   "id": "3df24432",
   "metadata": {},
   "outputs": [],
   "source": [
    "df_train = df_train.drop(['여성/가족', '남성', '성소수자', '인종/국적', '연령', '지역', '종교', '기타 혐오','악플/욕설','개인지칭'], axis=1)\n",
    "df_valid = df_valid.drop(['여성/가족', '남성', '성소수자', '인종/국적', '연령', '지역', '종교', '기타 혐오','악플/욕설','개인지칭'], axis=1)"
   ]
  },
  {
   "cell_type": "code",
   "execution_count": 7,
   "id": "e70fda9e",
   "metadata": {},
   "outputs": [],
   "source": [
    "df_train['target'] = df_train['clean'].map({1:0, 0:1})\n",
    "df_valid['target'] = df_valid['clean'].map({1:0, 0:1})"
   ]
  },
  {
   "cell_type": "code",
   "execution_count": 8,
   "id": "66eb34e7",
   "metadata": {},
   "outputs": [],
   "source": [
    "okt = Okt()"
   ]
  },
  {
   "cell_type": "code",
   "execution_count": 9,
   "id": "7c4964dc",
   "metadata": {},
   "outputs": [
    {
     "name": "stdout",
     "output_type": "stream",
     "text": [
      "OKT 형태소 분석 : ['열심히', '코딩', '한', '당신', ',', '연휴', '에는', '여행', '을', '가봐요']\n",
      "OKT 품사 태깅 : [('열심히', 'Adverb'), ('코딩', 'Noun'), ('한', 'Josa'), ('당신', 'Noun'), (',', 'Punctuation'), ('연휴', 'Noun'), ('에는', 'Josa'), ('여행', 'Noun'), ('을', 'Josa'), ('가봐요', 'Verb')]\n",
      "OKT 명사 추출 : ['코딩', '당신', '연휴', '여행']\n"
     ]
    }
   ],
   "source": [
    "print('OKT 형태소 분석 :',okt.morphs(\"열심히 코딩한 당신, 연휴에는 여행을 가봐요\"))\n",
    "print('OKT 품사 태깅 :',okt.pos(\"열심히 코딩한 당신, 연휴에는 여행을 가봐요\"))\n",
    "print('OKT 명사 추출 :',okt.nouns(\"열심히 코딩한 당신, 연휴에는 여행을 가봐요\"))"
   ]
  },
  {
   "cell_type": "code",
   "execution_count": 10,
   "id": "127c719b",
   "metadata": {},
   "outputs": [],
   "source": [
    "def make_corpus(sentence):\n",
    "    okt = Okt()\n",
    "    raw_pos_tagged = okt.pos(sentence, norm=True, stem=True)\n",
    "    word_cleaned = []\n",
    "\n",
    "    for word in raw_pos_tagged:\n",
    "        if word[1] in ['Noun', 'Adjective', 'Verb']:\n",
    "            word_cleaned.append(word[0])\n",
    "    return ' '.join(word_cleaned)"
   ]
  },
  {
   "cell_type": "code",
   "execution_count": 11,
   "id": "e42e00da",
   "metadata": {},
   "outputs": [],
   "source": [
    "df_train['tokenized'] = df_train['문장'].map(make_corpus)\n",
    "df_valid['tokenized'] = df_valid['문장'].map(make_corpus)"
   ]
  },
  {
   "cell_type": "code",
   "execution_count": 12,
   "id": "f1836eb2",
   "metadata": {},
   "outputs": [],
   "source": [
    "tfidf_vect = TfidfVectorizer(max_features=100)\n",
    "tfidf_vect.fit(df_train.tokenized)\n",
    "df_train_tfidf = tfidf_vect.transform(df_train.tokenized)\n",
    "df_valid_tfidf = tfidf_vect.transform(df_valid.tokenized)"
   ]
  },
  {
   "cell_type": "code",
   "execution_count": 13,
   "id": "da5bd8ad",
   "metadata": {},
   "outputs": [],
   "source": [
    "df_train_tfidf = df_train_tfidf.toarray()\n",
    "df_valid_tfidf = df_valid_tfidf.toarray()"
   ]
  },
  {
   "cell_type": "code",
   "execution_count": 14,
   "id": "ee68e1ff",
   "metadata": {},
   "outputs": [],
   "source": [
    "X_train = df_train_tfidf\n",
    "X_test = df_valid_tfidf\n",
    "y_train = df_train['target']\n",
    "y_test = df_valid['target']"
   ]
  },
  {
   "cell_type": "code",
   "execution_count": 15,
   "id": "cf92cfd0",
   "metadata": {},
   "outputs": [
    {
     "name": "stdout",
     "output_type": "stream",
     "text": [
      "X_train shape:  (15005, 100)\n",
      "X_test shape:  (3737, 100)\n",
      "y_train shape:  (15005,)\n",
      "y_test shape:  (3737,)\n"
     ]
    }
   ],
   "source": [
    "print(\"X_train shape: \", X_train.shape)\n",
    "print(\"X_test shape: \", X_test.shape)\n",
    "print(\"y_train shape: \", y_train.shape)\n",
    "print(\"y_test shape: \", y_test.shape)"
   ]
  },
  {
   "cell_type": "code",
   "execution_count": 16,
   "id": "cb5bb4e5",
   "metadata": {},
   "outputs": [
    {
     "name": "stdout",
     "output_type": "stream",
     "text": [
      "Epoch 1/5\n",
      "47/47 [==============================] - 30s 598ms/step - loss: 0.5777 - acc: 0.7431 - val_loss: 0.5764 - val_acc: 0.7438\n",
      "\n",
      "Epoch 00001: val_acc improved from -inf to 0.74375, saving model to best_model_old.h5\n",
      "Epoch 2/5\n",
      "47/47 [==============================] - 29s 619ms/step - loss: 0.5614 - acc: 0.7526 - val_loss: 0.5726 - val_acc: 0.7438\n",
      "\n",
      "Epoch 00002: val_acc did not improve from 0.74375\n",
      "Epoch 3/5\n",
      "47/47 [==============================] - 30s 635ms/step - loss: 0.5608 - acc: 0.7526 - val_loss: 0.5680 - val_acc: 0.7438\n",
      "\n",
      "Epoch 00003: val_acc did not improve from 0.74375\n",
      "Epoch 4/5\n",
      "47/47 [==============================] - 29s 611ms/step - loss: 0.5591 - acc: 0.7526 - val_loss: 0.5684 - val_acc: 0.7438\n",
      "\n",
      "Epoch 00004: val_acc did not improve from 0.74375\n",
      "Epoch 5/5\n",
      "47/47 [==============================] - 28s 607ms/step - loss: 0.5589 - acc: 0.7526 - val_loss: 0.5674 - val_acc: 0.7438\n",
      "\n",
      "Epoch 00005: val_acc did not improve from 0.74375\n"
     ]
    }
   ],
   "source": [
    "embedding_dim = 100\n",
    "hidden_units = 128\n",
    "\n",
    "model = Sequential()\n",
    "model.add(Embedding(6, embedding_dim))\n",
    "# model.add(Bidirectional(LSTM(hidden_units))) # Bidirectional LSTM을 사용\n",
    "model.add(LSTM(hidden_units))\n",
    "model.add(Dense(1, activation='sigmoid'))\n",
    "\n",
    "es = EarlyStopping(monitor='val_loss', mode='min', verbose=1, patience=4)\n",
    "mc = ModelCheckpoint('best_model_old.h5', monitor='val_acc', mode='max', verbose=1, save_best_only=True)\n",
    "\n",
    "model.compile(optimizer='rmsprop', loss='binary_crossentropy', metrics=['acc'])\n",
    "history = model.fit(X_train, y_train, epochs=5, callbacks=[es, mc], batch_size=256, validation_split=0.2)"
   ]
  },
  {
   "cell_type": "code",
   "execution_count": 17,
   "id": "2ec66261",
   "metadata": {},
   "outputs": [
    {
     "name": "stdout",
     "output_type": "stream",
     "text": [
      "117/117 [==============================] - 5s 36ms/step - loss: 0.5716 - acc: 0.7498\n",
      "\n",
      " 테스트 정확도: 0.7498\n"
     ]
    }
   ],
   "source": [
    "loaded_model = load_model('best_model_old.h5')\n",
    "\n",
    "print(\"\\n 테스트 정확도: %.4f\" % (loaded_model.evaluate(X_test, y_test)[1]))"
   ]
  },
  {
   "cell_type": "code",
   "execution_count": 18,
   "id": "382d585a",
   "metadata": {},
   "outputs": [
    {
     "name": "stdout",
     "output_type": "stream",
     "text": [
      "Epoch 1/5\n",
      "47/47 [==============================] - 92s 2s/step - loss: 0.5794 - acc: 0.7403 - val_loss: 0.5744 - val_acc: 0.7438\n",
      "\n",
      "Epoch 00001: val_acc improved from -inf to 0.74375, saving model to best_model_old.h5\n",
      "Epoch 2/5\n",
      "47/47 [==============================] - 88s 2s/step - loss: 0.5620 - acc: 0.7526 - val_loss: 0.5694 - val_acc: 0.7438\n",
      "\n",
      "Epoch 00002: val_acc did not improve from 0.74375\n",
      "Epoch 3/5\n",
      "47/47 [==============================] - 125s 3s/step - loss: 0.5607 - acc: 0.7526 - val_loss: 0.5678 - val_acc: 0.7438\n",
      "\n",
      "Epoch 00003: val_acc did not improve from 0.74375\n",
      "Epoch 4/5\n",
      "47/47 [==============================] - 126s 3s/step - loss: 0.5597 - acc: 0.7526 - val_loss: 0.5670 - val_acc: 0.7438\n",
      "\n",
      "Epoch 00004: val_acc did not improve from 0.74375\n",
      "Epoch 5/5\n",
      "47/47 [==============================] - 128s 3s/step - loss: 0.5588 - acc: 0.7526 - val_loss: 0.5660 - val_acc: 0.7438\n",
      "\n",
      "Epoch 00005: val_acc did not improve from 0.74375\n"
     ]
    }
   ],
   "source": [
    "embedding_dim = 100\n",
    "hidden_units = 128\n",
    "\n",
    "model = Sequential()\n",
    "model.add(Embedding(6, embedding_dim))\n",
    "model.add(Bidirectional(LSTM(hidden_units))) # Bidirectional LSTM을 사용\n",
    "# model.add(LSTM(hidden_units))\n",
    "model.add(Dense(1, activation='sigmoid'))\n",
    "\n",
    "es = EarlyStopping(monitor='val_loss', mode='min', verbose=1, patience=4)\n",
    "mc = ModelCheckpoint('best_model_old.h5', monitor='val_acc', mode='max', verbose=1, save_best_only=True)\n",
    "\n",
    "model.compile(optimizer='rmsprop', loss='binary_crossentropy', metrics=['acc'])\n",
    "history = model.fit(X_train, y_train, epochs=5, callbacks=[es, mc], batch_size=256, validation_split=0.2)"
   ]
  },
  {
   "cell_type": "code",
   "execution_count": 19,
   "id": "3cbbc2ad",
   "metadata": {},
   "outputs": [
    {
     "name": "stdout",
     "output_type": "stream",
     "text": [
      "117/117 [==============================] - 27s 139ms/step - loss: 0.5693 - acc: 0.7498\n",
      "\n",
      " 테스트 정확도: 0.7498\n"
     ]
    }
   ],
   "source": [
    "loaded_model = load_model('best_model_old.h5')\n",
    "\n",
    "print(\"\\n 테스트 정확도: %.4f\" % (loaded_model.evaluate(X_test, y_test)[1]))"
   ]
  },
  {
   "cell_type": "code",
   "execution_count": null,
   "id": "75274385",
   "metadata": {},
   "outputs": [],
   "source": []
  }
 ],
 "metadata": {
  "kernelspec": {
   "display_name": "Python 3",
   "language": "python",
   "name": "python3"
  },
  "language_info": {
   "codemirror_mode": {
    "name": "ipython",
    "version": 3
   },
   "file_extension": ".py",
   "mimetype": "text/x-python",
   "name": "python",
   "nbconvert_exporter": "python",
   "pygments_lexer": "ipython3",
   "version": "3.8.8"
  }
 },
 "nbformat": 4,
 "nbformat_minor": 5
}
